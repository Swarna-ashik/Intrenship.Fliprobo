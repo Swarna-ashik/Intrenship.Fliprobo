{
 "cells": [
  {
   "cell_type": "markdown",
   "id": "ce969dc9",
   "metadata": {},
   "source": [
    "# ON Naukri.com"
   ]
  },
  {
   "cell_type": "markdown",
   "id": "531275af",
   "metadata": {},
   "source": [
    "so , in this notebook we will scrape data from naukri.com website for data-scientist job role and delhi location.we will scrape 4 fields for each job . 1.title of the job, 2.name of the company , 3.location, 4.experience required."
   ]
  },
  {
   "cell_type": "code",
   "execution_count": 1,
   "id": "b520ee7f",
   "metadata": {
    "scrolled": true
   },
   "outputs": [
    {
     "name": "stdout",
     "output_type": "stream",
     "text": [
      "Requirement already satisfied: selenium in c:\\users\\ashik\\anaconda3\\lib\\site-packages (4.1.3)\n",
      "Requirement already satisfied: trio~=0.17 in c:\\users\\ashik\\anaconda3\\lib\\site-packages (from selenium) (0.20.0)\n",
      "Requirement already satisfied: urllib3[secure,socks]~=1.26 in c:\\users\\ashik\\anaconda3\\lib\\site-packages (from selenium) (1.26.4)\n",
      "Requirement already satisfied: trio-websocket~=0.9 in c:\\users\\ashik\\anaconda3\\lib\\site-packages (from selenium) (0.9.2)\n",
      "Requirement already satisfied: outcome in c:\\users\\ashik\\anaconda3\\lib\\site-packages (from trio~=0.17->selenium) (1.1.0)\n",
      "Requirement already satisfied: async-generator>=1.9 in c:\\users\\ashik\\anaconda3\\lib\\site-packages (from trio~=0.17->selenium) (1.10)\n",
      "Requirement already satisfied: sniffio in c:\\users\\ashik\\anaconda3\\lib\\site-packages (from trio~=0.17->selenium) (1.2.0)\n",
      "Requirement already satisfied: attrs>=19.2.0 in c:\\users\\ashik\\anaconda3\\lib\\site-packages (from trio~=0.17->selenium) (20.3.0)\n",
      "Requirement already satisfied: idna in c:\\users\\ashik\\anaconda3\\lib\\site-packages (from trio~=0.17->selenium) (2.10)\n",
      "Requirement already satisfied: sortedcontainers in c:\\users\\ashik\\anaconda3\\lib\\site-packages (from trio~=0.17->selenium) (2.3.0)\n",
      "Requirement already satisfied: cffi>=1.14 in c:\\users\\ashik\\anaconda3\\lib\\site-packages (from trio~=0.17->selenium) (1.14.5)\n",
      "Requirement already satisfied: pycparser in c:\\users\\ashik\\anaconda3\\lib\\site-packages (from cffi>=1.14->trio~=0.17->selenium) (2.20)\n",
      "Requirement already satisfied: wsproto>=0.14 in c:\\users\\ashik\\anaconda3\\lib\\site-packages (from trio-websocket~=0.9->selenium) (1.1.0)\n",
      "Requirement already satisfied: PySocks!=1.5.7,<2.0,>=1.5.6 in c:\\users\\ashik\\anaconda3\\lib\\site-packages (from urllib3[secure,socks]~=1.26->selenium) (1.7.1)\n",
      "Requirement already satisfied: certifi in c:\\users\\ashik\\anaconda3\\lib\\site-packages (from urllib3[secure,socks]~=1.26->selenium) (2020.12.5)\n",
      "Requirement already satisfied: cryptography>=1.3.4 in c:\\users\\ashik\\anaconda3\\lib\\site-packages (from urllib3[secure,socks]~=1.26->selenium) (3.4.7)\n",
      "Requirement already satisfied: pyOpenSSL>=0.14 in c:\\users\\ashik\\anaconda3\\lib\\site-packages (from urllib3[secure,socks]~=1.26->selenium) (20.0.1)\n",
      "Requirement already satisfied: six>=1.5.2 in c:\\users\\ashik\\anaconda3\\lib\\site-packages (from pyOpenSSL>=0.14->urllib3[secure,socks]~=1.26->selenium) (1.15.0)\n",
      "Requirement already satisfied: h11<1,>=0.9.0 in c:\\users\\ashik\\anaconda3\\lib\\site-packages (from wsproto>=0.14->trio-websocket~=0.9->selenium) (0.13.0)\n"
     ]
    }
   ],
   "source": [
    "# lets first install the selinium library\n",
    "!pip install selenium"
   ]
  },
  {
   "cell_type": "code",
   "execution_count": 2,
   "id": "9260197c",
   "metadata": {},
   "outputs": [],
   "source": [
    "#lets import all the libraries\n",
    "import selenium\n",
    "import pandas as pd\n",
    "from selenium import webdriver\n",
    "import warnings\n",
    "warnings.filterwarnings(\"ignore\")\n",
    "import time"
   ]
  },
  {
   "cell_type": "code",
   "execution_count": 3,
   "id": "7508e85d",
   "metadata": {},
   "outputs": [],
   "source": [
    "# lets set the path  so that # lets connect to the web browser\n",
    "driver=webdriver.Chrome(r'E:\\Downloads\\chromedriver_win32 (1)\\chromedriver.exe')"
   ]
  },
  {
   "cell_type": "code",
   "execution_count": 4,
   "id": "f1922037",
   "metadata": {},
   "outputs": [],
   "source": [
    "driver=webdriver.Chrome(\"chromedriver.exe\")\n",
    "time.sleep(2)\n"
   ]
  },
  {
   "cell_type": "code",
   "execution_count": 5,
   "id": "871c03c8",
   "metadata": {},
   "outputs": [],
   "source": [
    "driver.get('https://www.naukri.com/')"
   ]
  },
  {
   "cell_type": "code",
   "execution_count": 6,
   "id": "5cf30544",
   "metadata": {},
   "outputs": [],
   "source": [
    "# finding element for job search bar\n",
    "search_field_designation=driver.find_element_by_class_name(\"suggestor-input \") # job search\n",
    "search_field_designation.send_keys(\"Data Analyst\")\n",
    "search_field_location=driver.find_element_by_xpath('/html/body/div/div[2]/div[3]/div/div/div[3]/div/div/div/input') # location search bar\n",
    "search_field_location.send_keys(\"Bangalore\")"
   ]
  },
  {
   "cell_type": "code",
   "execution_count": 7,
   "id": "752f7de9",
   "metadata": {},
   "outputs": [],
   "source": [
    "search_button=driver.find_element_by_xpath('/html/body/div/div[2]/div[3]/div/div[1]/div[6]')\n",
    "search_button.click()"
   ]
  },
  {
   "cell_type": "code",
   "execution_count": 8,
   "id": "8d808585",
   "metadata": {},
   "outputs": [],
   "source": [
    "#specifying the url of the webpage to be scrapped\n",
    "url=\"https://www.naukri.com/data-analyst-jobs-in-bangalore?k=data%20analyst&l=bangalore\""
   ]
  },
  {
   "cell_type": "code",
   "execution_count": 9,
   "id": "314ac6a0",
   "metadata": {},
   "outputs": [],
   "source": [
    "#lets open the webpage through our web driver\n",
    "driver.get(url)"
   ]
  },
  {
   "cell_type": "markdown",
   "id": "969320da",
   "metadata": {},
   "source": [
    "now we will see in the window opened by webdriver whether the webpage has opened or not. lets check"
   ]
  },
  {
   "cell_type": "markdown",
   "id": "453fac76",
   "metadata": {},
   "source": [
    "so. now lets first create 4 empty lists. in these lists the data will be stored while scraping. we have to created 4 empty lists for 4 features which we have to extract \n"
   ]
  },
  {
   "cell_type": "code",
   "execution_count": 10,
   "id": "13bc3522",
   "metadata": {},
   "outputs": [],
   "source": [
    "job_titles=[]\n",
    "company_name=[]\n",
    "locations=[]\n",
    "experience=[]"
   ]
  },
  {
   "cell_type": "markdown",
   "id": "ba33fd64",
   "metadata": {},
   "source": [
    "First,we will extract all the tags where the job tites. lets first show on the web page in webpage in which tags the job titles are put."
   ]
  },
  {
   "cell_type": "code",
   "execution_count": 11,
   "id": "9de6a781",
   "metadata": {},
   "outputs": [
    {
     "data": {
      "text/plain": [
       "[<selenium.webdriver.remote.webelement.WebElement (session=\"e6e17a397b3c7ce9534d1ad02b8b0467\", element=\"b45b73a3-5dca-4a9d-bc21-3e126e05ba63\")>,\n",
       " <selenium.webdriver.remote.webelement.WebElement (session=\"e6e17a397b3c7ce9534d1ad02b8b0467\", element=\"56839cda-26c5-4d6d-8fff-361777d9ed05\")>,\n",
       " <selenium.webdriver.remote.webelement.WebElement (session=\"e6e17a397b3c7ce9534d1ad02b8b0467\", element=\"9d3e7bc5-4901-47b3-a7e4-3bcb48c0ffea\")>,\n",
       " <selenium.webdriver.remote.webelement.WebElement (session=\"e6e17a397b3c7ce9534d1ad02b8b0467\", element=\"e6e9c9f3-ba8b-4458-ba4d-50b5e8de550d\")>]"
      ]
     },
     "execution_count": 11,
     "metadata": {},
     "output_type": "execute_result"
    }
   ],
   "source": [
    "# so lets extract all the tags having the job- titles\n",
    "titles_tags=driver.find_elements_by_xpath(\"//a[@class='title fw500 ellipsis']\")\n",
    "titles_tags[0:4]"
   ]
  },
  {
   "cell_type": "markdown",
   "id": "b583d74f",
   "metadata": {},
   "source": [
    "now we have all the tags in which there are job titles"
   ]
  },
  {
   "cell_type": "markdown",
   "id": "02205920",
   "metadata": {},
   "source": [
    "Now we will extract the text from these tags one by one by looking over these tags"
   ]
  },
  {
   "cell_type": "code",
   "execution_count": 12,
   "id": "7af4c546",
   "metadata": {},
   "outputs": [
    {
     "data": {
      "text/plain": [
       "['Business and Data Analyst',\n",
       " 'Senior Data Analyst, Data & Analytics',\n",
       " 'Sr Domain Expert -Data Analysts',\n",
       " 'SAS Analyst / data Analyst / Business analyst - Sas + SQL']"
      ]
     },
     "execution_count": 12,
     "metadata": {},
     "output_type": "execute_result"
    }
   ],
   "source": [
    "# Now the text of the job title is inside the tags extracted above.\n",
    "\n",
    "#so we will run a loop to iterate over the tags extracted above\n",
    "for i in titles_tags:\n",
    "    title=i.text\n",
    "    job_titles.append(title)\n",
    "job_titles[0:4]"
   ]
  },
  {
   "cell_type": "code",
   "execution_count": 13,
   "id": "913a209b",
   "metadata": {},
   "outputs": [
    {
     "data": {
      "text/plain": [
       "[<selenium.webdriver.remote.webelement.WebElement (session=\"e6e17a397b3c7ce9534d1ad02b8b0467\", element=\"c8c8acc0-c0dd-405a-9523-eda44cb715f7\")>,\n",
       " <selenium.webdriver.remote.webelement.WebElement (session=\"e6e17a397b3c7ce9534d1ad02b8b0467\", element=\"f42e51bc-7f50-4a9e-b5b4-a6ca95ffa80d\")>,\n",
       " <selenium.webdriver.remote.webelement.WebElement (session=\"e6e17a397b3c7ce9534d1ad02b8b0467\", element=\"1d6013a6-b4af-4188-8096-1432be91f4c8\")>,\n",
       " <selenium.webdriver.remote.webelement.WebElement (session=\"e6e17a397b3c7ce9534d1ad02b8b0467\", element=\"8c711901-dc8c-4f04-b9ac-02b8ef6465b3\")>]"
      ]
     },
     "execution_count": 13,
     "metadata": {},
     "output_type": "execute_result"
    }
   ],
   "source": [
    "# so lets extract all the tags having the company\n",
    "companies_tags=driver.find_elements_by_xpath(\"//a[@class='subTitle ellipsis fleft']\")\n",
    "companies_tags[0:4]"
   ]
  },
  {
   "cell_type": "markdown",
   "id": "c79d491f",
   "metadata": {},
   "source": [
    "now we have the tags in which there are the company names\n"
   ]
  },
  {
   "cell_type": "markdown",
   "id": "412834ee",
   "metadata": {},
   "source": [
    "now we will extract the text from these tags by one by looping over these tags"
   ]
  },
  {
   "cell_type": "code",
   "execution_count": 14,
   "id": "2e012552",
   "metadata": {
    "scrolled": true
   },
   "outputs": [
    {
     "data": {
      "text/plain": [
       "['CAREERDOST ENTERPRISE',\n",
       " 'ReSource Pro Operational Solutions Pvt Ltd.',\n",
       " 'Siemens',\n",
       " 'Leading US MNC into analytics']"
      ]
     },
     "execution_count": 14,
     "metadata": {},
     "output_type": "execute_result"
    }
   ],
   "source": [
    "for i in companies_tags:\n",
    "    company=i.text\n",
    "    company_name.append(company)\n",
    "company_name[0:4]"
   ]
  },
  {
   "cell_type": "code",
   "execution_count": 15,
   "id": "b6302594",
   "metadata": {},
   "outputs": [
    {
     "data": {
      "text/plain": [
       "[<selenium.webdriver.remote.webelement.WebElement (session=\"e6e17a397b3c7ce9534d1ad02b8b0467\", element=\"86125c5b-43cd-4465-b425-eaef990dabed\")>,\n",
       " <selenium.webdriver.remote.webelement.WebElement (session=\"e6e17a397b3c7ce9534d1ad02b8b0467\", element=\"acf034d3-e019-4291-b312-960ca8c6d482\")>,\n",
       " <selenium.webdriver.remote.webelement.WebElement (session=\"e6e17a397b3c7ce9534d1ad02b8b0467\", element=\"f034fa7d-d32c-4bc9-bf3f-f264800056c7\")>,\n",
       " <selenium.webdriver.remote.webelement.WebElement (session=\"e6e17a397b3c7ce9534d1ad02b8b0467\", element=\"b140f490-252c-424c-8a4c-20e280cec75d\")>]"
      ]
     },
     "execution_count": 15,
     "metadata": {},
     "output_type": "execute_result"
    }
   ],
   "source": [
    "#lets extract all the tags having company locations\n",
    "location_tags=driver.find_elements_by_xpath(\"//li[@class='fleft grey-text br2 placeHolderLi location']/span[1]\")\n",
    "location_tags[0:4]"
   ]
  },
  {
   "cell_type": "code",
   "execution_count": 16,
   "id": "203dc618",
   "metadata": {},
   "outputs": [
    {
     "data": {
      "text/plain": [
       "['Bangalore/Bengaluru',\n",
       " 'Bangalore/Bengaluru',\n",
       " 'Bangalore/Bengaluru',\n",
       " 'Bangalore/Bengaluru, Delhi / NCR, Mumbai (All Areas)']"
      ]
     },
     "execution_count": 16,
     "metadata": {},
     "output_type": "execute_result"
    }
   ],
   "source": [
    "for i in location_tags:\n",
    "    location=i.text\n",
    "    locations.append(location)\n",
    "locations[0:4]"
   ]
  },
  {
   "cell_type": "code",
   "execution_count": 17,
   "id": "5490cf67",
   "metadata": {},
   "outputs": [
    {
     "data": {
      "text/plain": [
       "[<selenium.webdriver.remote.webelement.WebElement (session=\"e6e17a397b3c7ce9534d1ad02b8b0467\", element=\"621b58dc-f8b8-4b31-8124-8311db6547f6\")>,\n",
       " <selenium.webdriver.remote.webelement.WebElement (session=\"e6e17a397b3c7ce9534d1ad02b8b0467\", element=\"b830957d-456a-4530-bc5a-931b893721e1\")>,\n",
       " <selenium.webdriver.remote.webelement.WebElement (session=\"e6e17a397b3c7ce9534d1ad02b8b0467\", element=\"3ce9dbf3-038b-4667-89ae-befc60c31704\")>,\n",
       " <selenium.webdriver.remote.webelement.WebElement (session=\"e6e17a397b3c7ce9534d1ad02b8b0467\", element=\"95fd9b06-a71f-41cf-a454-a52199bdf888\")>]"
      ]
     },
     "execution_count": 17,
     "metadata": {},
     "output_type": "execute_result"
    }
   ],
   "source": [
    "# lets extract all the tags of experience\n",
    "experience_tags=driver.find_elements_by_xpath(\"//li[@class='fleft grey-text br2 placeHolderLi experience']/span[1]\")\n",
    "experience_tags[0:4]"
   ]
  },
  {
   "cell_type": "code",
   "execution_count": 18,
   "id": "9605739a",
   "metadata": {},
   "outputs": [
    {
     "data": {
      "text/plain": [
       "['0-5 Yrs', '3-5 Yrs', '0-10 Yrs', '2-7 Yrs']"
      ]
     },
     "execution_count": 18,
     "metadata": {},
     "output_type": "execute_result"
    }
   ],
   "source": [
    "for i in experience_tags:\n",
    "    expe=i.text\n",
    "    experience.append(expe)\n",
    "experience[0:4]"
   ]
  },
  {
   "cell_type": "raw",
   "id": "67203755",
   "metadata": {},
   "source": [
    "now we extracted all the html tags and we also have the experience of the data."
   ]
  },
  {
   "cell_type": "code",
   "execution_count": 19,
   "id": "0da16d06",
   "metadata": {},
   "outputs": [
    {
     "name": "stdout",
     "output_type": "stream",
     "text": [
      "20 20 20 20\n"
     ]
    }
   ],
   "source": [
    "print(len(job_titles),len(company_name),len(locations),len(experience))"
   ]
  },
  {
   "cell_type": "markdown",
   "id": "28c9f3e7",
   "metadata": {},
   "source": [
    "length also checked because ,, if length was not equal then data frame not formed"
   ]
  },
  {
   "cell_type": "markdown",
   "id": "74ada10b",
   "metadata": {},
   "source": [
    "so , we have extracted the data required from webpage and stored them in the 4 lists mentioned above . now before creating a dataframe from these lists."
   ]
  },
  {
   "cell_type": "code",
   "execution_count": 20,
   "id": "e2af59a5",
   "metadata": {},
   "outputs": [],
   "source": [
    "#import pandas as pd\n",
    "jobs=pd.DataFrame({})\n",
    "jobs['Title']=job_titles\n",
    "jobs['Company']=company_name\n",
    "jobs['Location']=locations\n",
    "jobs['Experience']=experience"
   ]
  },
  {
   "cell_type": "code",
   "execution_count": 21,
   "id": "26f73b9e",
   "metadata": {},
   "outputs": [
    {
     "data": {
      "text/html": [
       "<div>\n",
       "<style scoped>\n",
       "    .dataframe tbody tr th:only-of-type {\n",
       "        vertical-align: middle;\n",
       "    }\n",
       "\n",
       "    .dataframe tbody tr th {\n",
       "        vertical-align: top;\n",
       "    }\n",
       "\n",
       "    .dataframe thead th {\n",
       "        text-align: right;\n",
       "    }\n",
       "</style>\n",
       "<table border=\"1\" class=\"dataframe\">\n",
       "  <thead>\n",
       "    <tr style=\"text-align: right;\">\n",
       "      <th></th>\n",
       "      <th>Title</th>\n",
       "      <th>Company</th>\n",
       "      <th>Location</th>\n",
       "      <th>Experience</th>\n",
       "    </tr>\n",
       "  </thead>\n",
       "  <tbody>\n",
       "    <tr>\n",
       "      <th>0</th>\n",
       "      <td>Business and Data Analyst</td>\n",
       "      <td>CAREERDOST ENTERPRISE</td>\n",
       "      <td>Bangalore/Bengaluru</td>\n",
       "      <td>0-5 Yrs</td>\n",
       "    </tr>\n",
       "    <tr>\n",
       "      <th>1</th>\n",
       "      <td>Senior Data Analyst, Data &amp; Analytics</td>\n",
       "      <td>ReSource Pro Operational Solutions Pvt Ltd.</td>\n",
       "      <td>Bangalore/Bengaluru</td>\n",
       "      <td>3-5 Yrs</td>\n",
       "    </tr>\n",
       "    <tr>\n",
       "      <th>2</th>\n",
       "      <td>Sr Domain Expert -Data Analysts</td>\n",
       "      <td>Siemens</td>\n",
       "      <td>Bangalore/Bengaluru</td>\n",
       "      <td>0-10 Yrs</td>\n",
       "    </tr>\n",
       "    <tr>\n",
       "      <th>3</th>\n",
       "      <td>SAS Analyst / data Analyst / Business analyst ...</td>\n",
       "      <td>Leading US MNC into analytics</td>\n",
       "      <td>Bangalore/Bengaluru, Delhi / NCR, Mumbai (All ...</td>\n",
       "      <td>2-7 Yrs</td>\n",
       "    </tr>\n",
       "    <tr>\n",
       "      <th>4</th>\n",
       "      <td>Data Analyst II</td>\n",
       "      <td>Cerner</td>\n",
       "      <td>Bangalore/Bengaluru</td>\n",
       "      <td>6-10 Yrs</td>\n",
       "    </tr>\n",
       "    <tr>\n",
       "      <th>5</th>\n",
       "      <td>Senior Data Analyst II</td>\n",
       "      <td>Flipkart</td>\n",
       "      <td>Bangalore/Bengaluru</td>\n",
       "      <td>2-4 Yrs</td>\n",
       "    </tr>\n",
       "    <tr>\n",
       "      <th>6</th>\n",
       "      <td>Senior Data Analyst II</td>\n",
       "      <td>Flipkart</td>\n",
       "      <td>Bangalore/Bengaluru</td>\n",
       "      <td>3-6 Yrs</td>\n",
       "    </tr>\n",
       "    <tr>\n",
       "      <th>7</th>\n",
       "      <td>Consultant - Data Analyst</td>\n",
       "      <td>Jobs Territory</td>\n",
       "      <td>Bangalore/Bengaluru, Delhi / NCR, Mumbai (All ...</td>\n",
       "      <td>0-2 Yrs</td>\n",
       "    </tr>\n",
       "    <tr>\n",
       "      <th>8</th>\n",
       "      <td>Senior Data Analyst - Logistics</td>\n",
       "      <td>Gojek</td>\n",
       "      <td>Bangalore/Bengaluru</td>\n",
       "      <td>4-10 Yrs</td>\n",
       "    </tr>\n",
       "    <tr>\n",
       "      <th>9</th>\n",
       "      <td>Data Analyst I</td>\n",
       "      <td>Bioclinica</td>\n",
       "      <td>Bangalore/Bengaluru</td>\n",
       "      <td>0-3 Yrs</td>\n",
       "    </tr>\n",
       "    <tr>\n",
       "      <th>10</th>\n",
       "      <td>Senior Data Analyst</td>\n",
       "      <td>Shell</td>\n",
       "      <td>Bangalore/Bengaluru</td>\n",
       "      <td>10-12 Yrs</td>\n",
       "    </tr>\n",
       "  </tbody>\n",
       "</table>\n",
       "</div>"
      ],
      "text/plain": [
       "                                                Title  \\\n",
       "0                           Business and Data Analyst   \n",
       "1               Senior Data Analyst, Data & Analytics   \n",
       "2                     Sr Domain Expert -Data Analysts   \n",
       "3   SAS Analyst / data Analyst / Business analyst ...   \n",
       "4                                     Data Analyst II   \n",
       "5                              Senior Data Analyst II   \n",
       "6                              Senior Data Analyst II   \n",
       "7                           Consultant - Data Analyst   \n",
       "8                     Senior Data Analyst - Logistics   \n",
       "9                                      Data Analyst I   \n",
       "10                                Senior Data Analyst   \n",
       "\n",
       "                                        Company  \\\n",
       "0                         CAREERDOST ENTERPRISE   \n",
       "1   ReSource Pro Operational Solutions Pvt Ltd.   \n",
       "2                                       Siemens   \n",
       "3                 Leading US MNC into analytics   \n",
       "4                                        Cerner   \n",
       "5                                      Flipkart   \n",
       "6                                      Flipkart   \n",
       "7                                Jobs Territory   \n",
       "8                                         Gojek   \n",
       "9                                    Bioclinica   \n",
       "10                                        Shell   \n",
       "\n",
       "                                             Location Experience  \n",
       "0                                 Bangalore/Bengaluru    0-5 Yrs  \n",
       "1                                 Bangalore/Bengaluru    3-5 Yrs  \n",
       "2                                 Bangalore/Bengaluru   0-10 Yrs  \n",
       "3   Bangalore/Bengaluru, Delhi / NCR, Mumbai (All ...    2-7 Yrs  \n",
       "4                                 Bangalore/Bengaluru   6-10 Yrs  \n",
       "5                                 Bangalore/Bengaluru    2-4 Yrs  \n",
       "6                                 Bangalore/Bengaluru    3-6 Yrs  \n",
       "7   Bangalore/Bengaluru, Delhi / NCR, Mumbai (All ...    0-2 Yrs  \n",
       "8                                 Bangalore/Bengaluru   4-10 Yrs  \n",
       "9                                 Bangalore/Bengaluru    0-3 Yrs  \n",
       "10                                Bangalore/Bengaluru  10-12 Yrs  "
      ]
     },
     "execution_count": 21,
     "metadata": {},
     "output_type": "execute_result"
    }
   ],
   "source": [
    "jobs[0:11]"
   ]
  },
  {
   "cell_type": "code",
   "execution_count": 22,
   "id": "bda44ce1",
   "metadata": {},
   "outputs": [],
   "source": [
    "driver.close()"
   ]
  },
  {
   "cell_type": "markdown",
   "id": "8b4ac02c",
   "metadata": {},
   "source": [
    "2) Write a python program to scrape data for “Data Scientist” Job position in “Bangalore” location. You\n",
    "have to scrape the job-title, job-location, company_name. You have to scrape first 10 jobs data.\n",
    "This task will be done in following steps"
   ]
  },
  {
   "cell_type": "code",
   "execution_count": 23,
   "id": "76c99e6c",
   "metadata": {},
   "outputs": [
    {
     "name": "stdout",
     "output_type": "stream",
     "text": [
      "Requirement already satisfied: selenium in c:\\users\\ashik\\anaconda3\\lib\\site-packages (4.1.3)\n",
      "Requirement already satisfied: urllib3[secure,socks]~=1.26 in c:\\users\\ashik\\anaconda3\\lib\\site-packages (from selenium) (1.26.4)\n",
      "Requirement already satisfied: trio-websocket~=0.9 in c:\\users\\ashik\\anaconda3\\lib\\site-packages (from selenium) (0.9.2)\n",
      "Requirement already satisfied: trio~=0.17 in c:\\users\\ashik\\anaconda3\\lib\\site-packages (from selenium) (0.20.0)\n",
      "Requirement already satisfied: outcome in c:\\users\\ashik\\anaconda3\\lib\\site-packages (from trio~=0.17->selenium) (1.1.0)\n",
      "Requirement already satisfied: cffi>=1.14 in c:\\users\\ashik\\anaconda3\\lib\\site-packages (from trio~=0.17->selenium) (1.14.5)\n",
      "Requirement already satisfied: idna in c:\\users\\ashik\\anaconda3\\lib\\site-packages (from trio~=0.17->selenium) (2.10)\n",
      "Requirement already satisfied: async-generator>=1.9 in c:\\users\\ashik\\anaconda3\\lib\\site-packages (from trio~=0.17->selenium) (1.10)\n",
      "Requirement already satisfied: sortedcontainers in c:\\users\\ashik\\anaconda3\\lib\\site-packages (from trio~=0.17->selenium) (2.3.0)\n",
      "Requirement already satisfied: attrs>=19.2.0 in c:\\users\\ashik\\anaconda3\\lib\\site-packages (from trio~=0.17->selenium) (20.3.0)\n",
      "Requirement already satisfied: sniffio in c:\\users\\ashik\\anaconda3\\lib\\site-packages (from trio~=0.17->selenium) (1.2.0)\n",
      "Requirement already satisfied: pycparser in c:\\users\\ashik\\anaconda3\\lib\\site-packages (from cffi>=1.14->trio~=0.17->selenium) (2.20)\n",
      "Requirement already satisfied: wsproto>=0.14 in c:\\users\\ashik\\anaconda3\\lib\\site-packages (from trio-websocket~=0.9->selenium) (1.1.0)\n",
      "Requirement already satisfied: PySocks!=1.5.7,<2.0,>=1.5.6 in c:\\users\\ashik\\anaconda3\\lib\\site-packages (from urllib3[secure,socks]~=1.26->selenium) (1.7.1)\n",
      "Requirement already satisfied: pyOpenSSL>=0.14 in c:\\users\\ashik\\anaconda3\\lib\\site-packages (from urllib3[secure,socks]~=1.26->selenium) (20.0.1)\n",
      "Requirement already satisfied: cryptography>=1.3.4 in c:\\users\\ashik\\anaconda3\\lib\\site-packages (from urllib3[secure,socks]~=1.26->selenium) (3.4.7)\n",
      "Requirement already satisfied: certifi in c:\\users\\ashik\\anaconda3\\lib\\site-packages (from urllib3[secure,socks]~=1.26->selenium) (2020.12.5)\n",
      "Requirement already satisfied: six>=1.5.2 in c:\\users\\ashik\\anaconda3\\lib\\site-packages (from pyOpenSSL>=0.14->urllib3[secure,socks]~=1.26->selenium) (1.15.0)\n",
      "Requirement already satisfied: h11<1,>=0.9.0 in c:\\users\\ashik\\anaconda3\\lib\\site-packages (from wsproto>=0.14->trio-websocket~=0.9->selenium) (0.13.0)\n"
     ]
    }
   ],
   "source": [
    "!pip install selenium"
   ]
  },
  {
   "cell_type": "code",
   "execution_count": 66,
   "id": "f55b94f7",
   "metadata": {},
   "outputs": [],
   "source": [
    "#lets import all the libraries\n",
    "import selenium\n",
    "import pandas as pd\n",
    "from selenium import webdriver\n",
    "import warnings\n",
    "warnings.filterwarnings(\"ignore\")\n",
    "import time"
   ]
  },
  {
   "cell_type": "code",
   "execution_count": 67,
   "id": "9f0b8165",
   "metadata": {},
   "outputs": [],
   "source": [
    "# lets set the path  so that # lets connect to the web browser\n",
    "driver=webdriver.Chrome(r'E:\\Downloads\\chromedriver_win32 (1)\\chromedriver.exe')"
   ]
  },
  {
   "cell_type": "code",
   "execution_count": 68,
   "id": "b59b4bdc",
   "metadata": {},
   "outputs": [],
   "source": [
    "driver=webdriver.Chrome(\"chromedriver.exe\")\n",
    "time.sleep(2)\n"
   ]
  },
  {
   "cell_type": "code",
   "execution_count": 69,
   "id": "96b7abb4",
   "metadata": {},
   "outputs": [],
   "source": [
    "driver.get('https://www.naukri.com/')"
   ]
  },
  {
   "cell_type": "code",
   "execution_count": 70,
   "id": "2e941c4a",
   "metadata": {},
   "outputs": [],
   "source": [
    "# finding element for job search bar\n",
    "search_field_designation=driver.find_element_by_class_name(\"suggestor-input \") # job search\n",
    "search_field_designation.send_keys(\"Data Scientist\")\n",
    "search_field_location=driver.find_element_by_xpath('/html/body/div/div[2]/div[3]/div/div/div[3]/div/div/div/input') # location search bar\n",
    "search_field_location.send_keys(\"Bangalore\")"
   ]
  },
  {
   "cell_type": "code",
   "execution_count": 71,
   "id": "e43e2103",
   "metadata": {},
   "outputs": [],
   "source": [
    "search_button=driver.find_element_by_xpath('/html/body/div/div[2]/div[3]/div/div/div[6]')\n",
    "search_button.click()"
   ]
  },
  {
   "cell_type": "code",
   "execution_count": 72,
   "id": "4862ba72",
   "metadata": {},
   "outputs": [],
   "source": [
    "#specifying the url of the webpage to be scrapped\n",
    "url=\"https://www.naukri.com/data-scientist-jobs-in-bangalore?k=data%20scientist&l=bangalore\""
   ]
  },
  {
   "cell_type": "code",
   "execution_count": 73,
   "id": "d515d2db",
   "metadata": {},
   "outputs": [],
   "source": [
    "#lets open the webpage through our web driver\n",
    "driver.get(url)"
   ]
  },
  {
   "cell_type": "code",
   "execution_count": 74,
   "id": "2ebe9a78",
   "metadata": {},
   "outputs": [],
   "source": [
    "jobtitles=[]\n",
    "companyname=[]\n",
    "location=[]\n",
    "experiences=[]"
   ]
  },
  {
   "cell_type": "code",
   "execution_count": 75,
   "id": "bd3a09af",
   "metadata": {},
   "outputs": [
    {
     "data": {
      "text/plain": [
       "[<selenium.webdriver.remote.webelement.WebElement (session=\"dd338827c0d968c4f6db8df89ab6d2d9\", element=\"309b6090-bba1-49dd-85f3-5feeb010e4a7\")>,\n",
       " <selenium.webdriver.remote.webelement.WebElement (session=\"dd338827c0d968c4f6db8df89ab6d2d9\", element=\"55371d8d-28e3-4cdf-b18d-fb1e7b1a313e\")>,\n",
       " <selenium.webdriver.remote.webelement.WebElement (session=\"dd338827c0d968c4f6db8df89ab6d2d9\", element=\"3745ac6e-fdb9-438d-9f4b-fb58d0fb737a\")>,\n",
       " <selenium.webdriver.remote.webelement.WebElement (session=\"dd338827c0d968c4f6db8df89ab6d2d9\", element=\"a3b680ba-0591-49e5-9c44-ab3283961037\")>]"
      ]
     },
     "execution_count": 75,
     "metadata": {},
     "output_type": "execute_result"
    }
   ],
   "source": [
    "# so lets extract all the tags having the job- titles\n",
    "titles_tags=driver.find_elements_by_xpath(\"//a[@class='title fw500 ellipsis']\")\n",
    "titles_tags[0:4]"
   ]
  },
  {
   "cell_type": "code",
   "execution_count": 40,
   "id": "eb2eddb9",
   "metadata": {},
   "outputs": [
    {
     "data": {
      "text/plain": [
       "['Associate Data Scientist',\n",
       " 'Senior Data Scientist (IN4)',\n",
       " 'Senior Data Scientist',\n",
       " 'Senior Data Scientist']"
      ]
     },
     "execution_count": 40,
     "metadata": {},
     "output_type": "execute_result"
    }
   ],
   "source": [
    "# Now the text of the job title is inside the tags extracted above.\n",
    "\n",
    "#so we will run a loop to iterate over the tags extracted above\n",
    "for i in titles_tags:\n",
    "    title=i.text\n",
    "    jobtitles.append(title)\n",
    "jobtitles[0:4]"
   ]
  },
  {
   "cell_type": "code",
   "execution_count": 41,
   "id": "575319b8",
   "metadata": {},
   "outputs": [
    {
     "data": {
      "text/plain": [
       "[<selenium.webdriver.remote.webelement.WebElement (session=\"aa83a24a2040af7ea2021e070d7c1685\", element=\"43a7f3ff-4187-4530-b87f-0a591882b762\")>,\n",
       " <selenium.webdriver.remote.webelement.WebElement (session=\"aa83a24a2040af7ea2021e070d7c1685\", element=\"ba59e1cf-0b34-4bc9-832e-5caafd0d8d17\")>,\n",
       " <selenium.webdriver.remote.webelement.WebElement (session=\"aa83a24a2040af7ea2021e070d7c1685\", element=\"f04161c3-9965-47e2-853c-eba8957bce7e\")>,\n",
       " <selenium.webdriver.remote.webelement.WebElement (session=\"aa83a24a2040af7ea2021e070d7c1685\", element=\"e5574feb-e895-4609-9951-27db6ccf77bf\")>]"
      ]
     },
     "execution_count": 41,
     "metadata": {},
     "output_type": "execute_result"
    }
   ],
   "source": [
    "# so lets extract all the tags having the company\n",
    "companies_tags=driver.find_elements_by_xpath(\"//a[@class='subTitle ellipsis fleft']\")\n",
    "companies_tags[0:4]"
   ]
  },
  {
   "cell_type": "code",
   "execution_count": 42,
   "id": "735973c5",
   "metadata": {},
   "outputs": [
    {
     "data": {
      "text/plain": [
       "['IDFC FIRST Bank', 'Walmart', 'Walmart', 'Ericsson Global Services']"
      ]
     },
     "execution_count": 42,
     "metadata": {},
     "output_type": "execute_result"
    }
   ],
   "source": [
    "for i in companies_tags:\n",
    "    company=i.text\n",
    "    companyname.append(company)\n",
    "companyname[0:4]"
   ]
  },
  {
   "cell_type": "code",
   "execution_count": 43,
   "id": "072b1515",
   "metadata": {},
   "outputs": [
    {
     "data": {
      "text/plain": [
       "[<selenium.webdriver.remote.webelement.WebElement (session=\"aa83a24a2040af7ea2021e070d7c1685\", element=\"8fc9e770-a59d-4ea6-a890-94f450b6a207\")>,\n",
       " <selenium.webdriver.remote.webelement.WebElement (session=\"aa83a24a2040af7ea2021e070d7c1685\", element=\"b17d2ee2-bdc3-45ba-8530-3233771ec934\")>,\n",
       " <selenium.webdriver.remote.webelement.WebElement (session=\"aa83a24a2040af7ea2021e070d7c1685\", element=\"ef086c48-e5bf-4101-91d0-837aa0e9a3d5\")>,\n",
       " <selenium.webdriver.remote.webelement.WebElement (session=\"aa83a24a2040af7ea2021e070d7c1685\", element=\"1ff95f21-1351-447a-8031-e4f6c57de360\")>]"
      ]
     },
     "execution_count": 43,
     "metadata": {},
     "output_type": "execute_result"
    }
   ],
   "source": [
    "#lets extract all the tags having company locations\n",
    "location_tags=driver.find_elements_by_xpath(\"//li[@class='fleft grey-text br2 placeHolderLi location']/span[1]\")\n",
    "location_tags[0:4]"
   ]
  },
  {
   "cell_type": "code",
   "execution_count": 44,
   "id": "459d3684",
   "metadata": {},
   "outputs": [
    {
     "data": {
      "text/plain": [
       "['Mumbai, Pune, Bangalore/Bengaluru, Mumbai',\n",
       " 'Bangalore/Bengaluru',\n",
       " 'Bangalore/Bengaluru',\n",
       " 'Bangalore/Bengaluru']"
      ]
     },
     "execution_count": 44,
     "metadata": {},
     "output_type": "execute_result"
    }
   ],
   "source": [
    "for i in location_tags:\n",
    "    locations=i.text\n",
    "    location.append(locations)\n",
    "location[0:4]"
   ]
  },
  {
   "cell_type": "code",
   "execution_count": 45,
   "id": "8c2845e7",
   "metadata": {},
   "outputs": [
    {
     "data": {
      "text/plain": [
       "[<selenium.webdriver.remote.webelement.WebElement (session=\"aa83a24a2040af7ea2021e070d7c1685\", element=\"f5657080-cf66-4e37-92c7-cb64b071cf00\")>,\n",
       " <selenium.webdriver.remote.webelement.WebElement (session=\"aa83a24a2040af7ea2021e070d7c1685\", element=\"37cb5a9c-2512-47d6-bec3-0c695a292876\")>,\n",
       " <selenium.webdriver.remote.webelement.WebElement (session=\"aa83a24a2040af7ea2021e070d7c1685\", element=\"158c8c02-4401-40aa-a72e-dfc1437fd0ae\")>,\n",
       " <selenium.webdriver.remote.webelement.WebElement (session=\"aa83a24a2040af7ea2021e070d7c1685\", element=\"0c28b9a7-54e9-48de-a26b-35dcaa394d6f\")>]"
      ]
     },
     "execution_count": 45,
     "metadata": {},
     "output_type": "execute_result"
    }
   ],
   "source": [
    "# lets extract all the tags of experience\n",
    "experience_tags=driver.find_elements_by_xpath(\"//li[@class='fleft grey-text br2 placeHolderLi experience']/span[1]\")\n",
    "experience_tags[0:4]"
   ]
  },
  {
   "cell_type": "code",
   "execution_count": 46,
   "id": "dcea43c6",
   "metadata": {},
   "outputs": [
    {
     "data": {
      "text/plain": [
       "['3-7 Yrs', '5-9 Yrs', '5-9 Yrs', '10-15 Yrs']"
      ]
     },
     "execution_count": 46,
     "metadata": {},
     "output_type": "execute_result"
    }
   ],
   "source": [
    "for i in experience_tags:\n",
    "    experience=i.text\n",
    "    experiences.append(experience)\n",
    "experiences[0:4]"
   ]
  },
  {
   "cell_type": "code",
   "execution_count": 48,
   "id": "c278658c",
   "metadata": {},
   "outputs": [
    {
     "name": "stdout",
     "output_type": "stream",
     "text": [
      "20 20 20 20\n"
     ]
    }
   ],
   "source": [
    "print(len(jobtitles),len(companyname),len(location),len(experiences))"
   ]
  },
  {
   "cell_type": "code",
   "execution_count": 62,
   "id": "82d7865b",
   "metadata": {},
   "outputs": [],
   "source": [
    "#import pandas as pd\n",
    "job=pd.DataFrame({})\n",
    "job['Title']=jobtitles\n",
    "job['Company']=companyname\n",
    "job['Location']=location\n",
    "job['Experience']=experiences"
   ]
  },
  {
   "cell_type": "code",
   "execution_count": 63,
   "id": "44751a16",
   "metadata": {},
   "outputs": [
    {
     "data": {
      "text/html": [
       "<div>\n",
       "<style scoped>\n",
       "    .dataframe tbody tr th:only-of-type {\n",
       "        vertical-align: middle;\n",
       "    }\n",
       "\n",
       "    .dataframe tbody tr th {\n",
       "        vertical-align: top;\n",
       "    }\n",
       "\n",
       "    .dataframe thead th {\n",
       "        text-align: right;\n",
       "    }\n",
       "</style>\n",
       "<table border=\"1\" class=\"dataframe\">\n",
       "  <thead>\n",
       "    <tr style=\"text-align: right;\">\n",
       "      <th></th>\n",
       "      <th>Title</th>\n",
       "      <th>Company</th>\n",
       "      <th>Location</th>\n",
       "      <th>Experience</th>\n",
       "    </tr>\n",
       "  </thead>\n",
       "  <tbody>\n",
       "    <tr>\n",
       "      <th>0</th>\n",
       "      <td>Associate Data Scientist</td>\n",
       "      <td>IDFC FIRST Bank</td>\n",
       "      <td>Mumbai, Pune, Bangalore/Bengaluru, Mumbai</td>\n",
       "      <td>3-7 Yrs</td>\n",
       "    </tr>\n",
       "    <tr>\n",
       "      <th>1</th>\n",
       "      <td>Senior Data Scientist (IN4)</td>\n",
       "      <td>Walmart</td>\n",
       "      <td>Bangalore/Bengaluru</td>\n",
       "      <td>5-9 Yrs</td>\n",
       "    </tr>\n",
       "    <tr>\n",
       "      <th>2</th>\n",
       "      <td>Senior Data Scientist</td>\n",
       "      <td>Walmart</td>\n",
       "      <td>Bangalore/Bengaluru</td>\n",
       "      <td>5-9 Yrs</td>\n",
       "    </tr>\n",
       "    <tr>\n",
       "      <th>3</th>\n",
       "      <td>Senior Data Scientist</td>\n",
       "      <td>Ericsson Global Services</td>\n",
       "      <td>Bangalore/Bengaluru</td>\n",
       "      <td>10-15 Yrs</td>\n",
       "    </tr>\n",
       "    <tr>\n",
       "      <th>4</th>\n",
       "      <td>Lead Data Scientist</td>\n",
       "      <td>Groww</td>\n",
       "      <td>Bangalore/Bengaluru</td>\n",
       "      <td>5-8 Yrs</td>\n",
       "    </tr>\n",
       "    <tr>\n",
       "      <th>5</th>\n",
       "      <td>Senior Data Scientist</td>\n",
       "      <td>Truecaller</td>\n",
       "      <td>Bangalore/Bengaluru</td>\n",
       "      <td>2-5 Yrs</td>\n",
       "    </tr>\n",
       "    <tr>\n",
       "      <th>6</th>\n",
       "      <td>Senior Data Scientist</td>\n",
       "      <td>PayU</td>\n",
       "      <td>Bangalore/Bengaluru</td>\n",
       "      <td>3-7 Yrs</td>\n",
       "    </tr>\n",
       "    <tr>\n",
       "      <th>7</th>\n",
       "      <td>Senior Data Scientist</td>\n",
       "      <td>Gojek</td>\n",
       "      <td>Bangalore/Bengaluru</td>\n",
       "      <td>6-12 Yrs</td>\n",
       "    </tr>\n",
       "    <tr>\n",
       "      <th>8</th>\n",
       "      <td>Staff Engineer Data Scientist</td>\n",
       "      <td>Infineon Technologies Pvt Ltd</td>\n",
       "      <td>Bangalore/Bengaluru</td>\n",
       "      <td>1-3 Yrs</td>\n",
       "    </tr>\n",
       "    <tr>\n",
       "      <th>9</th>\n",
       "      <td>ASSOCIATE DATA SCIENTIST</td>\n",
       "      <td>Hinduja Global</td>\n",
       "      <td>Bangalore/Bengaluru</td>\n",
       "      <td>1-4 Yrs</td>\n",
       "    </tr>\n",
       "    <tr>\n",
       "      <th>10</th>\n",
       "      <td>Data Scientist</td>\n",
       "      <td>Applied Materials</td>\n",
       "      <td>Bangalore/Bengaluru</td>\n",
       "      <td>0-3 Yrs</td>\n",
       "    </tr>\n",
       "  </tbody>\n",
       "</table>\n",
       "</div>"
      ],
      "text/plain": [
       "                            Title                        Company  \\\n",
       "0        Associate Data Scientist                IDFC FIRST Bank   \n",
       "1     Senior Data Scientist (IN4)                        Walmart   \n",
       "2           Senior Data Scientist                        Walmart   \n",
       "3           Senior Data Scientist       Ericsson Global Services   \n",
       "4             Lead Data Scientist                          Groww   \n",
       "5           Senior Data Scientist                     Truecaller   \n",
       "6           Senior Data Scientist                           PayU   \n",
       "7           Senior Data Scientist                          Gojek   \n",
       "8   Staff Engineer Data Scientist  Infineon Technologies Pvt Ltd   \n",
       "9        ASSOCIATE DATA SCIENTIST                 Hinduja Global   \n",
       "10                 Data Scientist              Applied Materials   \n",
       "\n",
       "                                     Location Experience  \n",
       "0   Mumbai, Pune, Bangalore/Bengaluru, Mumbai    3-7 Yrs  \n",
       "1                         Bangalore/Bengaluru    5-9 Yrs  \n",
       "2                         Bangalore/Bengaluru    5-9 Yrs  \n",
       "3                         Bangalore/Bengaluru  10-15 Yrs  \n",
       "4                         Bangalore/Bengaluru    5-8 Yrs  \n",
       "5                         Bangalore/Bengaluru    2-5 Yrs  \n",
       "6                         Bangalore/Bengaluru    3-7 Yrs  \n",
       "7                         Bangalore/Bengaluru   6-12 Yrs  \n",
       "8                         Bangalore/Bengaluru    1-3 Yrs  \n",
       "9                         Bangalore/Bengaluru    1-4 Yrs  \n",
       "10                        Bangalore/Bengaluru    0-3 Yrs  "
      ]
     },
     "execution_count": 63,
     "metadata": {},
     "output_type": "execute_result"
    }
   ],
   "source": [
    "job[0:11]"
   ]
  },
  {
   "cell_type": "raw",
   "id": "0bc76fd5",
   "metadata": {},
   "source": [
    "3) In this question you have to scrape data using the filters available on the webpage as shown below:\n",
    "ASSIGNMENT 2\n",
    "You have to use the location and salary filter.\n",
    "You have to scrape data for “Data Scientist” designation for first 10 job results.\n",
    "You have to scrape the job-title, job-location, company name, experience required.\n",
    "The location filter to be used is “Delhi/NCR”. The salary filter to be used is “3-6” lakhs"
   ]
  },
  {
   "cell_type": "code",
   "execution_count": 76,
   "id": "d3fba666",
   "metadata": {},
   "outputs": [
    {
     "name": "stdout",
     "output_type": "stream",
     "text": [
      "Requirement already satisfied: selenium in c:\\users\\ashik\\anaconda3\\lib\\site-packages (4.1.3)\n",
      "Requirement already satisfied: urllib3[secure,socks]~=1.26 in c:\\users\\ashik\\anaconda3\\lib\\site-packages (from selenium) (1.26.4)\n",
      "Requirement already satisfied: trio~=0.17 in c:\\users\\ashik\\anaconda3\\lib\\site-packages (from selenium) (0.20.0)\n",
      "Requirement already satisfied: trio-websocket~=0.9 in c:\\users\\ashik\\anaconda3\\lib\\site-packages (from selenium) (0.9.2)\n",
      "Requirement already satisfied: async-generator>=1.9 in c:\\users\\ashik\\anaconda3\\lib\\site-packages (from trio~=0.17->selenium) (1.10)\n",
      "Requirement already satisfied: attrs>=19.2.0 in c:\\users\\ashik\\anaconda3\\lib\\site-packages (from trio~=0.17->selenium) (20.3.0)\n",
      "Requirement already satisfied: outcome in c:\\users\\ashik\\anaconda3\\lib\\site-packages (from trio~=0.17->selenium) (1.1.0)\n",
      "Requirement already satisfied: sortedcontainers in c:\\users\\ashik\\anaconda3\\lib\\site-packages (from trio~=0.17->selenium) (2.3.0)\n",
      "Requirement already satisfied: cffi>=1.14 in c:\\users\\ashik\\anaconda3\\lib\\site-packages (from trio~=0.17->selenium) (1.14.5)\n",
      "Requirement already satisfied: sniffio in c:\\users\\ashik\\anaconda3\\lib\\site-packages (from trio~=0.17->selenium) (1.2.0)\n",
      "Requirement already satisfied: idna in c:\\users\\ashik\\anaconda3\\lib\\site-packages (from trio~=0.17->selenium) (2.10)\n",
      "Requirement already satisfied: pycparser in c:\\users\\ashik\\anaconda3\\lib\\site-packages (from cffi>=1.14->trio~=0.17->selenium) (2.20)\n",
      "Requirement already satisfied: wsproto>=0.14 in c:\\users\\ashik\\anaconda3\\lib\\site-packages (from trio-websocket~=0.9->selenium) (1.1.0)\n",
      "Requirement already satisfied: pyOpenSSL>=0.14 in c:\\users\\ashik\\anaconda3\\lib\\site-packages (from urllib3[secure,socks]~=1.26->selenium) (20.0.1)\n",
      "Requirement already satisfied: cryptography>=1.3.4 in c:\\users\\ashik\\anaconda3\\lib\\site-packages (from urllib3[secure,socks]~=1.26->selenium) (3.4.7)\n",
      "Requirement already satisfied: certifi in c:\\users\\ashik\\anaconda3\\lib\\site-packages (from urllib3[secure,socks]~=1.26->selenium) (2020.12.5)\n",
      "Requirement already satisfied: PySocks!=1.5.7,<2.0,>=1.5.6 in c:\\users\\ashik\\anaconda3\\lib\\site-packages (from urllib3[secure,socks]~=1.26->selenium) (1.7.1)\n",
      "Requirement already satisfied: six>=1.5.2 in c:\\users\\ashik\\anaconda3\\lib\\site-packages (from pyOpenSSL>=0.14->urllib3[secure,socks]~=1.26->selenium) (1.15.0)\n",
      "Requirement already satisfied: h11<1,>=0.9.0 in c:\\users\\ashik\\anaconda3\\lib\\site-packages (from wsproto>=0.14->trio-websocket~=0.9->selenium) (0.13.0)\n"
     ]
    }
   ],
   "source": [
    "!pip install selenium"
   ]
  },
  {
   "cell_type": "code",
   "execution_count": 77,
   "id": "f89da09c",
   "metadata": {},
   "outputs": [],
   "source": [
    "#lets import all the libraries\n",
    "import selenium\n",
    "import pandas as pd\n",
    "from selenium import webdriver\n",
    "import warnings\n",
    "warnings.filterwarnings(\"ignore\")\n",
    "import time"
   ]
  },
  {
   "cell_type": "code",
   "execution_count": 78,
   "id": "206ad2bf",
   "metadata": {},
   "outputs": [],
   "source": [
    "# lets set the path  so that # lets connect to the web browser\n",
    "driver=webdriver.Chrome(r'E:\\Downloads\\chromedriver_win32 (1)\\chromedriver.exe')"
   ]
  },
  {
   "cell_type": "code",
   "execution_count": 79,
   "id": "582f8cf7",
   "metadata": {},
   "outputs": [],
   "source": [
    "driver=webdriver.Chrome(\"chromedriver.exe\")\n",
    "time.sleep(2)"
   ]
  },
  {
   "cell_type": "code",
   "execution_count": 80,
   "id": "467b96d2",
   "metadata": {},
   "outputs": [],
   "source": [
    "driver.get('https://www.naukri.com/')"
   ]
  },
  {
   "cell_type": "code",
   "execution_count": 81,
   "id": "6bfce766",
   "metadata": {},
   "outputs": [],
   "source": [
    "# finding element for job search bar\n",
    "search_field_designation=driver.find_element_by_class_name(\"suggestor-input \") # job search\n",
    "search_field_designation.send_keys(\"Data Scientist\")\n",
    "search_field_location=driver.find_element_by_xpath('/html/body/div/div[2]/div[3]/div/div/div[3]/div/div/div/input') # location search bar\n",
    "search_field_location.send_keys(\"Delhi/NCR\")\n",
    "search_button=driver.find_element_by_xpath('/html/body/div/div[2]/div[3]/div/div/div[6]')\n",
    "search_button.click()\n"
   ]
  },
  {
   "cell_type": "code",
   "execution_count": 82,
   "id": "36b9c026",
   "metadata": {},
   "outputs": [],
   "source": [
    "filter_salary=driver.find_element_by_xpath('/html/body/div[1]/div[3]/div[2]/section[1]/div[2]/div[4]/div[2]/div[2]/label/i')\n",
    "filter_salary.click()"
   ]
  },
  {
   "cell_type": "code",
   "execution_count": 83,
   "id": "5cffc251",
   "metadata": {},
   "outputs": [],
   "source": [
    "#specifying the url of the webpage to be scrapped\n",
    "url=\"https://www.naukri.com/data-scientist-jobs-in-delhi-ncr?k=data%20scientist&l=delhi%2Fncr&ctcFilter=3to6\""
   ]
  },
  {
   "cell_type": "code",
   "execution_count": 84,
   "id": "ef73ac3f",
   "metadata": {},
   "outputs": [],
   "source": [
    "#lets open the webpage through our web driver\n",
    "driver.get(url)"
   ]
  },
  {
   "cell_type": "code",
   "execution_count": 85,
   "id": "222b059b",
   "metadata": {},
   "outputs": [],
   "source": [
    "tit=[]\n",
    "cmp_name=[]\n",
    "loc=[]\n",
    "expe=[]\n",
    "sal=[]"
   ]
  },
  {
   "cell_type": "code",
   "execution_count": 86,
   "id": "6381613a",
   "metadata": {},
   "outputs": [
    {
     "data": {
      "text/plain": [
       "[<selenium.webdriver.remote.webelement.WebElement (session=\"20afbe9800c95632f670642cda8527ee\", element=\"32a5d0c4-88b5-4294-9a05-09e9dd9adb80\")>,\n",
       " <selenium.webdriver.remote.webelement.WebElement (session=\"20afbe9800c95632f670642cda8527ee\", element=\"f0bcd8d3-9b63-4849-9b60-dd36d4b6861b\")>,\n",
       " <selenium.webdriver.remote.webelement.WebElement (session=\"20afbe9800c95632f670642cda8527ee\", element=\"5e7e4773-da06-4d3b-bca5-25f001324ef7\")>,\n",
       " <selenium.webdriver.remote.webelement.WebElement (session=\"20afbe9800c95632f670642cda8527ee\", element=\"8ae6d8d6-b664-4e29-9b8c-40ffab78d7b3\")>]"
      ]
     },
     "execution_count": 86,
     "metadata": {},
     "output_type": "execute_result"
    }
   ],
   "source": [
    "# so lets extract all the tags having the job- titles\n",
    "titles_tags=driver.find_elements_by_xpath(\"//a[@class='title fw500 ellipsis']\")\n",
    "titles_tags[0:4]"
   ]
  },
  {
   "cell_type": "code",
   "execution_count": 87,
   "id": "7f5c2d5e",
   "metadata": {},
   "outputs": [
    {
     "data": {
      "text/plain": [
       "['Associate Data Scientist',\n",
       " 'Data Scientist (freelance)',\n",
       " 'Hiring For Senior Data Scientist-Noida',\n",
       " 'Data Scientist/ Machine Learning, 2022 Passout Can also apply']"
      ]
     },
     "execution_count": 87,
     "metadata": {},
     "output_type": "execute_result"
    }
   ],
   "source": [
    "# Now the text of the job title is inside the tags extracted above.\n",
    "\n",
    "#so we will run a loop to iterate over the tags extracted above\n",
    "for i in titles_tags:\n",
    "    title=i.text\n",
    "    tit.append(title)\n",
    "tit[0:4]"
   ]
  },
  {
   "cell_type": "code",
   "execution_count": 88,
   "id": "a1d1b74b",
   "metadata": {},
   "outputs": [
    {
     "data": {
      "text/plain": [
       "[<selenium.webdriver.remote.webelement.WebElement (session=\"20afbe9800c95632f670642cda8527ee\", element=\"f22e2e11-4417-421c-af52-a2b17914db93\")>,\n",
       " <selenium.webdriver.remote.webelement.WebElement (session=\"20afbe9800c95632f670642cda8527ee\", element=\"8d2b3860-1f4c-4981-b5fa-cd61e2bff7a0\")>,\n",
       " <selenium.webdriver.remote.webelement.WebElement (session=\"20afbe9800c95632f670642cda8527ee\", element=\"730b275c-a63a-49a6-9c97-469a8b63552c\")>,\n",
       " <selenium.webdriver.remote.webelement.WebElement (session=\"20afbe9800c95632f670642cda8527ee\", element=\"f8ab5030-df84-4f4f-8144-9474e275ff78\")>]"
      ]
     },
     "execution_count": 88,
     "metadata": {},
     "output_type": "execute_result"
    }
   ],
   "source": [
    "# so lets extract all the tags having the company\n",
    "companies_tags=driver.find_elements_by_xpath(\"//a[@class='subTitle ellipsis fleft']\")\n",
    "companies_tags[0:4]"
   ]
  },
  {
   "cell_type": "code",
   "execution_count": 89,
   "id": "2b36f88d",
   "metadata": {},
   "outputs": [
    {
     "data": {
      "text/plain": [
       "['Optum', '2Coms', 'Lumiq.ai', 'Creative Hands HR Consultancy']"
      ]
     },
     "execution_count": 89,
     "metadata": {},
     "output_type": "execute_result"
    }
   ],
   "source": [
    "for i in companies_tags:\n",
    "    company=i.text\n",
    "    cmp_name.append(company)\n",
    "cmp_name[0:4]"
   ]
  },
  {
   "cell_type": "code",
   "execution_count": 90,
   "id": "dc707a89",
   "metadata": {},
   "outputs": [
    {
     "data": {
      "text/plain": [
       "[<selenium.webdriver.remote.webelement.WebElement (session=\"20afbe9800c95632f670642cda8527ee\", element=\"80ba005c-ce82-484e-a8e7-f6f4b0e1e374\")>,\n",
       " <selenium.webdriver.remote.webelement.WebElement (session=\"20afbe9800c95632f670642cda8527ee\", element=\"ca99bb97-4b02-4995-bd86-6e6bb96f851d\")>,\n",
       " <selenium.webdriver.remote.webelement.WebElement (session=\"20afbe9800c95632f670642cda8527ee\", element=\"7572e2ea-d751-4bf4-b1a0-a6776fa82f79\")>,\n",
       " <selenium.webdriver.remote.webelement.WebElement (session=\"20afbe9800c95632f670642cda8527ee\", element=\"1bd3352f-de84-452d-8f67-47f826261695\")>]"
      ]
     },
     "execution_count": 90,
     "metadata": {},
     "output_type": "execute_result"
    }
   ],
   "source": [
    "location_tags=driver.find_elements_by_xpath(\"//li[@class='fleft grey-text br2 placeHolderLi location']/span[1]\")\n",
    "location_tags[0:4]"
   ]
  },
  {
   "cell_type": "code",
   "execution_count": 91,
   "id": "084bc5a7",
   "metadata": {},
   "outputs": [
    {
     "data": {
      "text/plain": [
       "['Gurgaon/Gurugram',\n",
       " 'New Delhi, Delhi',\n",
       " 'Noida, Greater Noida, Delhi / NCR',\n",
       " 'Hyderabad/Secunderabad, Ahmedabad, Chennai, Bangalore/Bengaluru, Delhi / NCR, Mumbai (All Areas)']"
      ]
     },
     "execution_count": 91,
     "metadata": {},
     "output_type": "execute_result"
    }
   ],
   "source": [
    "for i in location_tags:\n",
    "    location=i.text\n",
    "    loc.append(location)\n",
    "loc[0:4]"
   ]
  },
  {
   "cell_type": "code",
   "execution_count": 92,
   "id": "8cf3312d",
   "metadata": {},
   "outputs": [
    {
     "data": {
      "text/plain": [
       "[<selenium.webdriver.remote.webelement.WebElement (session=\"20afbe9800c95632f670642cda8527ee\", element=\"44e5d833-cf75-4349-9dec-529c5489d04a\")>,\n",
       " <selenium.webdriver.remote.webelement.WebElement (session=\"20afbe9800c95632f670642cda8527ee\", element=\"9275836a-3995-4133-a7ba-e5aaa384d6b8\")>,\n",
       " <selenium.webdriver.remote.webelement.WebElement (session=\"20afbe9800c95632f670642cda8527ee\", element=\"4b080ec7-8f15-4011-8a31-5606ecbf8ab4\")>,\n",
       " <selenium.webdriver.remote.webelement.WebElement (session=\"20afbe9800c95632f670642cda8527ee\", element=\"bfcea7ef-e062-4305-b847-0651fccf3a8e\")>]"
      ]
     },
     "execution_count": 92,
     "metadata": {},
     "output_type": "execute_result"
    }
   ],
   "source": [
    "experience_tags=driver.find_elements_by_xpath(\"//li[@class='fleft grey-text br2 placeHolderLi experience']/span[1]\")\n",
    "experience_tags[0:4]"
   ]
  },
  {
   "cell_type": "code",
   "execution_count": 93,
   "id": "ce0b9a0f",
   "metadata": {},
   "outputs": [
    {
     "data": {
      "text/plain": [
       "['1-5 Yrs', '2-7 Yrs', '2-6 Yrs', '0-4 Yrs']"
      ]
     },
     "execution_count": 93,
     "metadata": {},
     "output_type": "execute_result"
    }
   ],
   "source": [
    "for i in experience_tags:\n",
    "    experience=i.text\n",
    "    expe.append(experience)\n",
    "expe[0:4]"
   ]
  },
  {
   "cell_type": "code",
   "execution_count": 94,
   "id": "5029c905",
   "metadata": {},
   "outputs": [
    {
     "data": {
      "text/plain": [
       "[<selenium.webdriver.remote.webelement.WebElement (session=\"20afbe9800c95632f670642cda8527ee\", element=\"9cf1d951-a2a2-46ad-97e2-8ba4c3e15733\")>,\n",
       " <selenium.webdriver.remote.webelement.WebElement (session=\"20afbe9800c95632f670642cda8527ee\", element=\"ce6b57d7-71e8-4e0e-8e26-99f5ebf39785\")>,\n",
       " <selenium.webdriver.remote.webelement.WebElement (session=\"20afbe9800c95632f670642cda8527ee\", element=\"c6f726df-839a-4696-8881-a736fae39787\")>,\n",
       " <selenium.webdriver.remote.webelement.WebElement (session=\"20afbe9800c95632f670642cda8527ee\", element=\"9397b76e-5aad-45a3-838d-084ff33ebe26\")>]"
      ]
     },
     "execution_count": 94,
     "metadata": {},
     "output_type": "execute_result"
    }
   ],
   "source": [
    "salary_tags=driver.find_elements_by_xpath(\"//li[@class='fleft grey-text br2 placeHolderLi salary']\")\n",
    "salary_tags[0:4]"
   ]
  },
  {
   "cell_type": "code",
   "execution_count": 95,
   "id": "bc05f82a",
   "metadata": {},
   "outputs": [
    {
     "data": {
      "text/plain": [
       "['Not disclosed',\n",
       " '4,75,000 - 9,75,000 PA.',\n",
       " 'Not disclosed',\n",
       " '5,00,000 - 7,00,000 PA.']"
      ]
     },
     "execution_count": 95,
     "metadata": {},
     "output_type": "execute_result"
    }
   ],
   "source": [
    "for i in salary_tags:\n",
    "    salary=i.text\n",
    "    sal.append(salary)\n",
    "sal[0:4]"
   ]
  },
  {
   "cell_type": "code",
   "execution_count": 96,
   "id": "7aebeb3f",
   "metadata": {},
   "outputs": [
    {
     "name": "stdout",
     "output_type": "stream",
     "text": [
      "20 20 20 20 20\n"
     ]
    }
   ],
   "source": [
    "print(len(tit),len(cmp_name),len(loc),len(expe),len(sal))"
   ]
  },
  {
   "cell_type": "code",
   "execution_count": 97,
   "id": "354f9d5c",
   "metadata": {},
   "outputs": [],
   "source": [
    "#import pandas as pd\n",
    "jobs=pd.DataFrame({})\n",
    "jobs['Title']=tit\n",
    "jobs['Company']=cmp_name\n",
    "jobs['Location']=loc\n",
    "jobs['Experience']=expe\n",
    "jobs['Salary']=sal"
   ]
  },
  {
   "cell_type": "code",
   "execution_count": 98,
   "id": "69d9b693",
   "metadata": {},
   "outputs": [
    {
     "data": {
      "text/html": [
       "<div>\n",
       "<style scoped>\n",
       "    .dataframe tbody tr th:only-of-type {\n",
       "        vertical-align: middle;\n",
       "    }\n",
       "\n",
       "    .dataframe tbody tr th {\n",
       "        vertical-align: top;\n",
       "    }\n",
       "\n",
       "    .dataframe thead th {\n",
       "        text-align: right;\n",
       "    }\n",
       "</style>\n",
       "<table border=\"1\" class=\"dataframe\">\n",
       "  <thead>\n",
       "    <tr style=\"text-align: right;\">\n",
       "      <th></th>\n",
       "      <th>Title</th>\n",
       "      <th>Company</th>\n",
       "      <th>Location</th>\n",
       "      <th>Experience</th>\n",
       "      <th>Salary</th>\n",
       "    </tr>\n",
       "  </thead>\n",
       "  <tbody>\n",
       "    <tr>\n",
       "      <th>0</th>\n",
       "      <td>Associate Data Scientist</td>\n",
       "      <td>Optum</td>\n",
       "      <td>Gurgaon/Gurugram</td>\n",
       "      <td>1-5 Yrs</td>\n",
       "      <td>Not disclosed</td>\n",
       "    </tr>\n",
       "    <tr>\n",
       "      <th>1</th>\n",
       "      <td>Data Scientist (freelance)</td>\n",
       "      <td>2Coms</td>\n",
       "      <td>New Delhi, Delhi</td>\n",
       "      <td>2-7 Yrs</td>\n",
       "      <td>4,75,000 - 9,75,000 PA.</td>\n",
       "    </tr>\n",
       "    <tr>\n",
       "      <th>2</th>\n",
       "      <td>Hiring For Senior Data Scientist-Noida</td>\n",
       "      <td>Lumiq.ai</td>\n",
       "      <td>Noida, Greater Noida, Delhi / NCR</td>\n",
       "      <td>2-6 Yrs</td>\n",
       "      <td>Not disclosed</td>\n",
       "    </tr>\n",
       "    <tr>\n",
       "      <th>3</th>\n",
       "      <td>Data Scientist/ Machine Learning, 2022 Passout...</td>\n",
       "      <td>Creative Hands HR Consultancy</td>\n",
       "      <td>Hyderabad/Secunderabad, Ahmedabad, Chennai, Ba...</td>\n",
       "      <td>0-4 Yrs</td>\n",
       "      <td>5,00,000 - 7,00,000 PA.</td>\n",
       "    </tr>\n",
       "    <tr>\n",
       "      <th>4</th>\n",
       "      <td>Opening For Data Scientist</td>\n",
       "      <td>Care Health Insurance</td>\n",
       "      <td>Gurgaon/Gurugram</td>\n",
       "      <td>1-5 Yrs</td>\n",
       "      <td>3,00,000 - 7,00,000 PA.</td>\n",
       "    </tr>\n",
       "    <tr>\n",
       "      <th>5</th>\n",
       "      <td>Data Scientist</td>\n",
       "      <td>BlackBuck</td>\n",
       "      <td>Gurgaon, Bengaluru</td>\n",
       "      <td>3-7 Yrs</td>\n",
       "      <td>Not disclosed</td>\n",
       "    </tr>\n",
       "    <tr>\n",
       "      <th>6</th>\n",
       "      <td>Data Scientist</td>\n",
       "      <td>Boston Consulting Group</td>\n",
       "      <td>New Delhi</td>\n",
       "      <td>2-5 Yrs</td>\n",
       "      <td>Not disclosed</td>\n",
       "    </tr>\n",
       "    <tr>\n",
       "      <th>7</th>\n",
       "      <td>Senior Data Scientist</td>\n",
       "      <td>iNICU</td>\n",
       "      <td>Delhi</td>\n",
       "      <td>1-5 Yrs</td>\n",
       "      <td>Not disclosed</td>\n",
       "    </tr>\n",
       "    <tr>\n",
       "      <th>8</th>\n",
       "      <td>AM Data Scientist - Goods &amp; Service Tax Networ...</td>\n",
       "      <td>NISG (National Institute for Smart Government)</td>\n",
       "      <td>Delhi / NCR</td>\n",
       "      <td>3-8 Yrs</td>\n",
       "      <td>Not disclosed</td>\n",
       "    </tr>\n",
       "    <tr>\n",
       "      <th>9</th>\n",
       "      <td>Lead Data Scientist</td>\n",
       "      <td>KIA INDIA PRIVATE LIMITED</td>\n",
       "      <td>Gurgaon/Gurugram</td>\n",
       "      <td>7-10 Yrs</td>\n",
       "      <td>Not disclosed</td>\n",
       "    </tr>\n",
       "    <tr>\n",
       "      <th>10</th>\n",
       "      <td>Data Scientist - Python/SQL</td>\n",
       "      <td>AVE-Promagne</td>\n",
       "      <td>Noida, Kota, Mumbai, Chandigarh, Lucknow, Agra...</td>\n",
       "      <td>3-8 Yrs</td>\n",
       "      <td>Not disclosed</td>\n",
       "    </tr>\n",
       "  </tbody>\n",
       "</table>\n",
       "</div>"
      ],
      "text/plain": [
       "                                                Title  \\\n",
       "0                            Associate Data Scientist   \n",
       "1                          Data Scientist (freelance)   \n",
       "2              Hiring For Senior Data Scientist-Noida   \n",
       "3   Data Scientist/ Machine Learning, 2022 Passout...   \n",
       "4                          Opening For Data Scientist   \n",
       "5                                      Data Scientist   \n",
       "6                                      Data Scientist   \n",
       "7                               Senior Data Scientist   \n",
       "8   AM Data Scientist - Goods & Service Tax Networ...   \n",
       "9                                 Lead Data Scientist   \n",
       "10                        Data Scientist - Python/SQL   \n",
       "\n",
       "                                           Company  \\\n",
       "0                                            Optum   \n",
       "1                                            2Coms   \n",
       "2                                         Lumiq.ai   \n",
       "3                    Creative Hands HR Consultancy   \n",
       "4                            Care Health Insurance   \n",
       "5                                        BlackBuck   \n",
       "6                          Boston Consulting Group   \n",
       "7                                            iNICU   \n",
       "8   NISG (National Institute for Smart Government)   \n",
       "9                        KIA INDIA PRIVATE LIMITED   \n",
       "10                                    AVE-Promagne   \n",
       "\n",
       "                                             Location Experience  \\\n",
       "0                                    Gurgaon/Gurugram    1-5 Yrs   \n",
       "1                                    New Delhi, Delhi    2-7 Yrs   \n",
       "2                   Noida, Greater Noida, Delhi / NCR    2-6 Yrs   \n",
       "3   Hyderabad/Secunderabad, Ahmedabad, Chennai, Ba...    0-4 Yrs   \n",
       "4                                    Gurgaon/Gurugram    1-5 Yrs   \n",
       "5                                  Gurgaon, Bengaluru    3-7 Yrs   \n",
       "6                                           New Delhi    2-5 Yrs   \n",
       "7                                               Delhi    1-5 Yrs   \n",
       "8                                         Delhi / NCR    3-8 Yrs   \n",
       "9                                    Gurgaon/Gurugram   7-10 Yrs   \n",
       "10  Noida, Kota, Mumbai, Chandigarh, Lucknow, Agra...    3-8 Yrs   \n",
       "\n",
       "                     Salary  \n",
       "0             Not disclosed  \n",
       "1   4,75,000 - 9,75,000 PA.  \n",
       "2             Not disclosed  \n",
       "3   5,00,000 - 7,00,000 PA.  \n",
       "4   3,00,000 - 7,00,000 PA.  \n",
       "5             Not disclosed  \n",
       "6             Not disclosed  \n",
       "7             Not disclosed  \n",
       "8             Not disclosed  \n",
       "9             Not disclosed  \n",
       "10            Not disclosed  "
      ]
     },
     "execution_count": 98,
     "metadata": {},
     "output_type": "execute_result"
    }
   ],
   "source": [
    "jobs[0:11]"
   ]
  },
  {
   "cell_type": "code",
   "execution_count": null,
   "id": "b9f29cac",
   "metadata": {},
   "outputs": [],
   "source": []
  },
  {
   "cell_type": "markdown",
   "id": "80312ad6",
   "metadata": {},
   "source": [
    "4) Scrape data of first 100 sunglasses listings on flipkart.com. You have to scrape four attributes:\n",
    "1. Brand\n",
    "2. Product Description\n",
    "3. Pric"
   ]
  },
  {
   "cell_type": "code",
   "execution_count": 99,
   "id": "dfb8251a",
   "metadata": {},
   "outputs": [
    {
     "name": "stdout",
     "output_type": "stream",
     "text": [
      "Requirement already satisfied: selenium in c:\\users\\ashik\\anaconda3\\lib\\site-packages (4.1.3)\n",
      "Requirement already satisfied: trio-websocket~=0.9 in c:\\users\\ashik\\anaconda3\\lib\\site-packages (from selenium) (0.9.2)\n",
      "Requirement already satisfied: trio~=0.17 in c:\\users\\ashik\\anaconda3\\lib\\site-packages (from selenium) (0.20.0)\n",
      "Requirement already satisfied: urllib3[secure,socks]~=1.26 in c:\\users\\ashik\\anaconda3\\lib\\site-packages (from selenium) (1.26.4)\n",
      "Requirement already satisfied: attrs>=19.2.0 in c:\\users\\ashik\\anaconda3\\lib\\site-packages (from trio~=0.17->selenium) (20.3.0)\n",
      "Requirement already satisfied: async-generator>=1.9 in c:\\users\\ashik\\anaconda3\\lib\\site-packages (from trio~=0.17->selenium) (1.10)\n",
      "Requirement already satisfied: sortedcontainers in c:\\users\\ashik\\anaconda3\\lib\\site-packages (from trio~=0.17->selenium) (2.3.0)\n",
      "Requirement already satisfied: idna in c:\\users\\ashik\\anaconda3\\lib\\site-packages (from trio~=0.17->selenium) (2.10)\n",
      "Requirement already satisfied: cffi>=1.14 in c:\\users\\ashik\\anaconda3\\lib\\site-packages (from trio~=0.17->selenium) (1.14.5)\n",
      "Requirement already satisfied: sniffio in c:\\users\\ashik\\anaconda3\\lib\\site-packages (from trio~=0.17->selenium) (1.2.0)\n",
      "Requirement already satisfied: outcome in c:\\users\\ashik\\anaconda3\\lib\\site-packages (from trio~=0.17->selenium) (1.1.0)\n",
      "Requirement already satisfied: pycparser in c:\\users\\ashik\\anaconda3\\lib\\site-packages (from cffi>=1.14->trio~=0.17->selenium) (2.20)\n",
      "Requirement already satisfied: wsproto>=0.14 in c:\\users\\ashik\\anaconda3\\lib\\site-packages (from trio-websocket~=0.9->selenium) (1.1.0)\n",
      "Requirement already satisfied: PySocks!=1.5.7,<2.0,>=1.5.6 in c:\\users\\ashik\\anaconda3\\lib\\site-packages (from urllib3[secure,socks]~=1.26->selenium) (1.7.1)\n",
      "Requirement already satisfied: cryptography>=1.3.4 in c:\\users\\ashik\\anaconda3\\lib\\site-packages (from urllib3[secure,socks]~=1.26->selenium) (3.4.7)\n",
      "Requirement already satisfied: certifi in c:\\users\\ashik\\anaconda3\\lib\\site-packages (from urllib3[secure,socks]~=1.26->selenium) (2020.12.5)\n",
      "Requirement already satisfied: pyOpenSSL>=0.14 in c:\\users\\ashik\\anaconda3\\lib\\site-packages (from urllib3[secure,socks]~=1.26->selenium) (20.0.1)\n",
      "Requirement already satisfied: six>=1.5.2 in c:\\users\\ashik\\anaconda3\\lib\\site-packages (from pyOpenSSL>=0.14->urllib3[secure,socks]~=1.26->selenium) (1.15.0)\n",
      "Requirement already satisfied: h11<1,>=0.9.0 in c:\\users\\ashik\\anaconda3\\lib\\site-packages (from wsproto>=0.14->trio-websocket~=0.9->selenium) (0.13.0)\n"
     ]
    }
   ],
   "source": [
    "!pip install selenium"
   ]
  },
  {
   "cell_type": "code",
   "execution_count": 119,
   "id": "6aa1fc1b",
   "metadata": {},
   "outputs": [],
   "source": [
    "#lets import all the libraries\n",
    "import selenium\n",
    "import pandas as pd\n",
    "from selenium import webdriver\n",
    "import warnings\n",
    "warnings.filterwarnings(\"ignore\")\n",
    "import time"
   ]
  },
  {
   "cell_type": "code",
   "execution_count": 120,
   "id": "8d2cedf8",
   "metadata": {},
   "outputs": [],
   "source": [
    "# lets set the path  so that # lets connect to the web browser\n",
    "driver=webdriver.Chrome(r'E:\\Downloads\\chromedriver_win32 (1)\\chromedriver.exe')"
   ]
  },
  {
   "cell_type": "code",
   "execution_count": 121,
   "id": "1e876cd2",
   "metadata": {},
   "outputs": [],
   "source": [
    "driver=webdriver.Chrome(\"chromedriver.exe\")\n",
    "time.sleep(2)"
   ]
  },
  {
   "cell_type": "code",
   "execution_count": 122,
   "id": "e0f20d3f",
   "metadata": {},
   "outputs": [],
   "source": [
    "driver.get('https://www.flipkart.com/')"
   ]
  },
  {
   "cell_type": "code",
   "execution_count": 123,
   "id": "45d68f05",
   "metadata": {},
   "outputs": [],
   "source": [
    "# finding element for job search bar\n",
    "search_field_designation=driver.find_element_by_class_name(\"_3704LK\") # job search\n",
    "search_field_designation.send_keys('sunglasses')\n",
    "\n",
    "search_button=driver.find_element_by_xpath('/html/body/div/div/div[1]/div[1]/div[2]/div[2]/form/div/button')\n",
    "search_button.click()\n"
   ]
  },
  {
   "cell_type": "code",
   "execution_count": 124,
   "id": "86f79a3f",
   "metadata": {},
   "outputs": [],
   "source": [
    "#specifying the url of the webpage to be scrapped\n",
    "url=\"https://www.flipkart.com/search?q=sunglasses&otracker=search&otracker1=search&marketplace=FLIPKART&as-show=off&as=off\""
   ]
  },
  {
   "cell_type": "code",
   "execution_count": 125,
   "id": "2a9219cf",
   "metadata": {},
   "outputs": [],
   "source": [
    "#lets open the webpage through our web driver\n",
    "driver.get(url)"
   ]
  },
  {
   "cell_type": "code",
   "execution_count": 126,
   "id": "311d0485",
   "metadata": {},
   "outputs": [],
   "source": [
    "Brand=[]\n",
    "Product_name=[]\n",
    "Price=[]\n"
   ]
  },
  {
   "cell_type": "code",
   "execution_count": 145,
   "id": "74ed7d42",
   "metadata": {},
   "outputs": [
    {
     "data": {
      "text/plain": [
       "[<selenium.webdriver.remote.webelement.WebElement (session=\"31610f976bcc783a3e26513c40ce2fbf\", element=\"99b30433-e85e-432f-a151-3904b25fa8c1\")>,\n",
       " <selenium.webdriver.remote.webelement.WebElement (session=\"31610f976bcc783a3e26513c40ce2fbf\", element=\"e63acfb5-d702-484a-b051-c96831409bdd\")>,\n",
       " <selenium.webdriver.remote.webelement.WebElement (session=\"31610f976bcc783a3e26513c40ce2fbf\", element=\"d236412d-dfa1-44e4-94b2-971e1a3c3ed7\")>,\n",
       " <selenium.webdriver.remote.webelement.WebElement (session=\"31610f976bcc783a3e26513c40ce2fbf\", element=\"1fa97488-898f-4ccf-b05e-da582f5d925b\")>]"
      ]
     },
     "execution_count": 145,
     "metadata": {},
     "output_type": "execute_result"
    }
   ],
   "source": [
    "# so lets extract all the tags having the - titles\n",
    "brand_tags=driver.find_elements_by_xpath(\"//div[@class='_2WkVRV']\")\n",
    "brand_tags[0:4]"
   ]
  },
  {
   "cell_type": "code",
   "execution_count": 146,
   "id": "01e1f753",
   "metadata": {},
   "outputs": [
    {
     "data": {
      "text/plain": [
       "['VINCENT CHASE', 'VINCENT CHASE', 'Fastrack', 'PIRASO']"
      ]
     },
     "execution_count": 146,
     "metadata": {},
     "output_type": "execute_result"
    }
   ],
   "source": [
    "# Now the text of the job title is inside the tags extracted above.\n",
    "\n",
    "#so we will run a loop to iterate over the tags extracted above\n",
    "for i in brand_tags:\n",
    "    title=i.text\n",
    "    Brand.append(title)\n",
    "Brand[0:4]"
   ]
  },
  {
   "cell_type": "code",
   "execution_count": 147,
   "id": "8157a102",
   "metadata": {},
   "outputs": [
    {
     "data": {
      "text/plain": [
       "[<selenium.webdriver.remote.webelement.WebElement (session=\"31610f976bcc783a3e26513c40ce2fbf\", element=\"f4da48ed-a9eb-498d-988a-46dee64a0e7d\")>,\n",
       " <selenium.webdriver.remote.webelement.WebElement (session=\"31610f976bcc783a3e26513c40ce2fbf\", element=\"ac2a3dd8-cfff-4a71-95b3-81bb04718f24\")>,\n",
       " <selenium.webdriver.remote.webelement.WebElement (session=\"31610f976bcc783a3e26513c40ce2fbf\", element=\"44cf7c5b-066f-40b4-bc8b-1781bed24ece\")>,\n",
       " <selenium.webdriver.remote.webelement.WebElement (session=\"31610f976bcc783a3e26513c40ce2fbf\", element=\"7d6bff7a-804d-4ff2-b9f5-3a0f72c2a51b\")>]"
      ]
     },
     "execution_count": 147,
     "metadata": {},
     "output_type": "execute_result"
    }
   ],
   "source": [
    "# so lets extract all the tags having the company\n",
    "Product_Description=driver.find_elements_by_xpath(\"//a[@class='IRpwTa']\")\n",
    "Product_Description[0:4]"
   ]
  },
  {
   "cell_type": "code",
   "execution_count": 148,
   "id": "580d40a7",
   "metadata": {},
   "outputs": [
    {
     "data": {
      "text/plain": [
       "['UV Protection Rectangular Sunglasses (50)',\n",
       " 'UV Protection Cat-eye Sunglasses (54)',\n",
       " 'UV Protection Wayfarer Sunglasses (Free Size)',\n",
       " 'UV Protection Aviator Sunglasses (54)']"
      ]
     },
     "execution_count": 148,
     "metadata": {},
     "output_type": "execute_result"
    }
   ],
   "source": [
    "for i in Product_Description:\n",
    "    Pro=i.text\n",
    "    Product_name.append(Pro)\n",
    "Product_name[0:4]"
   ]
  },
  {
   "cell_type": "code",
   "execution_count": 149,
   "id": "f5ae5d41",
   "metadata": {},
   "outputs": [
    {
     "data": {
      "text/plain": [
       "[<selenium.webdriver.remote.webelement.WebElement (session=\"31610f976bcc783a3e26513c40ce2fbf\", element=\"66c16518-91be-4c5a-9068-cbe7ca8f1dc2\")>,\n",
       " <selenium.webdriver.remote.webelement.WebElement (session=\"31610f976bcc783a3e26513c40ce2fbf\", element=\"b68c56cb-40d2-4250-b364-3e8f3f4fe2a8\")>,\n",
       " <selenium.webdriver.remote.webelement.WebElement (session=\"31610f976bcc783a3e26513c40ce2fbf\", element=\"e6231057-dbc2-46b6-a98c-1795108c1be4\")>,\n",
       " <selenium.webdriver.remote.webelement.WebElement (session=\"31610f976bcc783a3e26513c40ce2fbf\", element=\"c37890c2-0d85-4c4c-85fc-87d98f1a2f97\")>]"
      ]
     },
     "execution_count": 149,
     "metadata": {},
     "output_type": "execute_result"
    }
   ],
   "source": [
    "Price_tags=driver.find_elements_by_xpath(\"//a[@class='_3bPFwb']\")\n",
    "Price_tags[0:4]"
   ]
  },
  {
   "cell_type": "code",
   "execution_count": 150,
   "id": "4a1ee676",
   "metadata": {},
   "outputs": [
    {
     "data": {
      "text/plain": [
       "['₹649₹1,99967% off\\nFree delivery',\n",
       " '₹649₹1,99967% off\\nFree delivery',\n",
       " '₹649₹89927% off\\nFree delivery',\n",
       " '₹249₹1,59984% off\\nFree delivery']"
      ]
     },
     "execution_count": 150,
     "metadata": {},
     "output_type": "execute_result"
    }
   ],
   "source": [
    "for i in Price_tags:\n",
    "    pri=i.text\n",
    "    Price.append(pri)\n",
    "Price[0:4]"
   ]
  },
  {
   "cell_type": "code",
   "execution_count": 154,
   "id": "5d52af14",
   "metadata": {},
   "outputs": [
    {
     "name": "stdout",
     "output_type": "stream",
     "text": [
      "100 100 100\n"
     ]
    }
   ],
   "source": [
    "print(len(Brand[0:100]),len(Product_name[0:100]),len(Price[0:100]))"
   ]
  },
  {
   "cell_type": "code",
   "execution_count": 157,
   "id": "572b6fde",
   "metadata": {},
   "outputs": [],
   "source": [
    "#import pandas as pd\n",
    "Products=pd.DataFrame({})\n",
    "Products['Brands']=Brand[0:100]\n",
    "Products['Companies']=Product_name[0:100]\n",
    "Products['Price']=Price[0:100]"
   ]
  },
  {
   "cell_type": "code",
   "execution_count": 158,
   "id": "6475399e",
   "metadata": {},
   "outputs": [
    {
     "data": {
      "text/html": [
       "<div>\n",
       "<style scoped>\n",
       "    .dataframe tbody tr th:only-of-type {\n",
       "        vertical-align: middle;\n",
       "    }\n",
       "\n",
       "    .dataframe tbody tr th {\n",
       "        vertical-align: top;\n",
       "    }\n",
       "\n",
       "    .dataframe thead th {\n",
       "        text-align: right;\n",
       "    }\n",
       "</style>\n",
       "<table border=\"1\" class=\"dataframe\">\n",
       "  <thead>\n",
       "    <tr style=\"text-align: right;\">\n",
       "      <th></th>\n",
       "      <th>Brands</th>\n",
       "      <th>Companies</th>\n",
       "      <th>Price</th>\n",
       "    </tr>\n",
       "  </thead>\n",
       "  <tbody>\n",
       "    <tr>\n",
       "      <th>0</th>\n",
       "      <td>VINCENT CHASE</td>\n",
       "      <td>UV Protection Rectangular Sunglasses (50)</td>\n",
       "      <td>₹649₹1,99967% off\\nFree delivery</td>\n",
       "    </tr>\n",
       "    <tr>\n",
       "      <th>1</th>\n",
       "      <td>VINCENT CHASE</td>\n",
       "      <td>UV Protection Cat-eye Sunglasses (54)</td>\n",
       "      <td>₹649₹1,99967% off\\nFree delivery</td>\n",
       "    </tr>\n",
       "    <tr>\n",
       "      <th>2</th>\n",
       "      <td>Fastrack</td>\n",
       "      <td>UV Protection Wayfarer Sunglasses (Free Size)</td>\n",
       "      <td>₹649₹89927% off\\nFree delivery</td>\n",
       "    </tr>\n",
       "    <tr>\n",
       "      <th>3</th>\n",
       "      <td>PIRASO</td>\n",
       "      <td>UV Protection Aviator Sunglasses (54)</td>\n",
       "      <td>₹249₹1,59984% off\\nFree delivery</td>\n",
       "    </tr>\n",
       "    <tr>\n",
       "      <th>4</th>\n",
       "      <td>Lee Topper</td>\n",
       "      <td>Riding Glasses Wrap-around Sunglasses (Free Size)</td>\n",
       "      <td>₹299₹2,49988% off\\nFree delivery</td>\n",
       "    </tr>\n",
       "    <tr>\n",
       "      <th>...</th>\n",
       "      <td>...</td>\n",
       "      <td>...</td>\n",
       "      <td>...</td>\n",
       "    </tr>\n",
       "    <tr>\n",
       "      <th>95</th>\n",
       "      <td>VINCENT CHASE</td>\n",
       "      <td>UV Protection Wayfarer Sunglasses (62)</td>\n",
       "      <td>₹649₹1,99967% off\\nFree delivery</td>\n",
       "    </tr>\n",
       "    <tr>\n",
       "      <th>96</th>\n",
       "      <td>PIRASO</td>\n",
       "      <td>UV Protection Aviator Sunglasses (54)</td>\n",
       "      <td>₹224₹1,59985% off\\nFree delivery</td>\n",
       "    </tr>\n",
       "    <tr>\n",
       "      <th>97</th>\n",
       "      <td>New Specs</td>\n",
       "      <td>UV Protection, Mirrored Round Sunglasses (Free...</td>\n",
       "      <td>₹299₹1,99985% off\\nFree delivery</td>\n",
       "    </tr>\n",
       "    <tr>\n",
       "      <th>98</th>\n",
       "      <td>PIRASO</td>\n",
       "      <td>UV Protection Aviator Sunglasses (54)</td>\n",
       "      <td>₹224₹1,59985% off\\nFree delivery</td>\n",
       "    </tr>\n",
       "    <tr>\n",
       "      <th>99</th>\n",
       "      <td>VINCENT CHASE</td>\n",
       "      <td>UV Protection Rectangular Sunglasses (52)</td>\n",
       "      <td>₹649₹1,99967% off\\nFree delivery</td>\n",
       "    </tr>\n",
       "  </tbody>\n",
       "</table>\n",
       "<p>100 rows × 3 columns</p>\n",
       "</div>"
      ],
      "text/plain": [
       "           Brands                                          Companies  \\\n",
       "0   VINCENT CHASE          UV Protection Rectangular Sunglasses (50)   \n",
       "1   VINCENT CHASE              UV Protection Cat-eye Sunglasses (54)   \n",
       "2        Fastrack      UV Protection Wayfarer Sunglasses (Free Size)   \n",
       "3          PIRASO              UV Protection Aviator Sunglasses (54)   \n",
       "4      Lee Topper  Riding Glasses Wrap-around Sunglasses (Free Size)   \n",
       "..            ...                                                ...   \n",
       "95  VINCENT CHASE             UV Protection Wayfarer Sunglasses (62)   \n",
       "96         PIRASO              UV Protection Aviator Sunglasses (54)   \n",
       "97      New Specs  UV Protection, Mirrored Round Sunglasses (Free...   \n",
       "98         PIRASO              UV Protection Aviator Sunglasses (54)   \n",
       "99  VINCENT CHASE          UV Protection Rectangular Sunglasses (52)   \n",
       "\n",
       "                               Price  \n",
       "0   ₹649₹1,99967% off\\nFree delivery  \n",
       "1   ₹649₹1,99967% off\\nFree delivery  \n",
       "2     ₹649₹89927% off\\nFree delivery  \n",
       "3   ₹249₹1,59984% off\\nFree delivery  \n",
       "4   ₹299₹2,49988% off\\nFree delivery  \n",
       "..                               ...  \n",
       "95  ₹649₹1,99967% off\\nFree delivery  \n",
       "96  ₹224₹1,59985% off\\nFree delivery  \n",
       "97  ₹299₹1,99985% off\\nFree delivery  \n",
       "98  ₹224₹1,59985% off\\nFree delivery  \n",
       "99  ₹649₹1,99967% off\\nFree delivery  \n",
       "\n",
       "[100 rows x 3 columns]"
      ]
     },
     "execution_count": 158,
     "metadata": {},
     "output_type": "execute_result"
    }
   ],
   "source": [
    "Products"
   ]
  },
  {
   "cell_type": "code",
   "execution_count": null,
   "id": "e8f6fc63",
   "metadata": {},
   "outputs": [],
   "source": []
  },
  {
   "cell_type": "raw",
   "id": "918e00a8",
   "metadata": {},
   "source": [
    "5)Scrape 100 reviews data from flipkart.com for iphone11 phone. You have to go the link:\n",
    "\n",
    "\n",
    "As shown in the above page you have to scrape the tick marked attributes.These are:\n",
    "1. Rating\n",
    "2. Review summary\n",
    "3. Full review\n",
    "4. You have to scrape this data for first 100 reviews"
   ]
  },
  {
   "cell_type": "code",
   "execution_count": 204,
   "id": "78473d52",
   "metadata": {},
   "outputs": [
    {
     "name": "stdout",
     "output_type": "stream",
     "text": [
      "Requirement already satisfied: selenium in c:\\users\\ashik\\anaconda3\\lib\\site-packages (4.1.3)\n",
      "Requirement already satisfied: trio-websocket~=0.9 in c:\\users\\ashik\\anaconda3\\lib\\site-packages (from selenium) (0.9.2)\n",
      "Requirement already satisfied: trio~=0.17 in c:\\users\\ashik\\anaconda3\\lib\\site-packages (from selenium) (0.20.0)\n",
      "Requirement already satisfied: urllib3[secure,socks]~=1.26 in c:\\users\\ashik\\anaconda3\\lib\\site-packages (from selenium) (1.26.4)\n",
      "Requirement already satisfied: sniffio in c:\\users\\ashik\\anaconda3\\lib\\site-packages (from trio~=0.17->selenium) (1.2.0)\n",
      "Requirement already satisfied: async-generator>=1.9 in c:\\users\\ashik\\anaconda3\\lib\\site-packages (from trio~=0.17->selenium) (1.10)\n",
      "Requirement already satisfied: cffi>=1.14 in c:\\users\\ashik\\anaconda3\\lib\\site-packages (from trio~=0.17->selenium) (1.14.5)\n",
      "Requirement already satisfied: attrs>=19.2.0 in c:\\users\\ashik\\anaconda3\\lib\\site-packages (from trio~=0.17->selenium) (20.3.0)\n",
      "Requirement already satisfied: sortedcontainers in c:\\users\\ashik\\anaconda3\\lib\\site-packages (from trio~=0.17->selenium) (2.3.0)\n",
      "Requirement already satisfied: idna in c:\\users\\ashik\\anaconda3\\lib\\site-packages (from trio~=0.17->selenium) (2.10)\n",
      "Requirement already satisfied: outcome in c:\\users\\ashik\\anaconda3\\lib\\site-packages (from trio~=0.17->selenium) (1.1.0)\n",
      "Requirement already satisfied: pycparser in c:\\users\\ashik\\anaconda3\\lib\\site-packages (from cffi>=1.14->trio~=0.17->selenium) (2.20)\n",
      "Requirement already satisfied: wsproto>=0.14 in c:\\users\\ashik\\anaconda3\\lib\\site-packages (from trio-websocket~=0.9->selenium) (1.1.0)\n",
      "Requirement already satisfied: PySocks!=1.5.7,<2.0,>=1.5.6 in c:\\users\\ashik\\anaconda3\\lib\\site-packages (from urllib3[secure,socks]~=1.26->selenium) (1.7.1)\n",
      "Requirement already satisfied: pyOpenSSL>=0.14 in c:\\users\\ashik\\anaconda3\\lib\\site-packages (from urllib3[secure,socks]~=1.26->selenium) (20.0.1)\n",
      "Requirement already satisfied: certifi in c:\\users\\ashik\\anaconda3\\lib\\site-packages (from urllib3[secure,socks]~=1.26->selenium) (2020.12.5)\n",
      "Requirement already satisfied: cryptography>=1.3.4 in c:\\users\\ashik\\anaconda3\\lib\\site-packages (from urllib3[secure,socks]~=1.26->selenium) (3.4.7)\n",
      "Requirement already satisfied: six>=1.5.2 in c:\\users\\ashik\\anaconda3\\lib\\site-packages (from pyOpenSSL>=0.14->urllib3[secure,socks]~=1.26->selenium) (1.15.0)\n",
      "Requirement already satisfied: h11<1,>=0.9.0 in c:\\users\\ashik\\anaconda3\\lib\\site-packages (from wsproto>=0.14->trio-websocket~=0.9->selenium) (0.13.0)\n"
     ]
    }
   ],
   "source": [
    "!pip install selenium"
   ]
  },
  {
   "cell_type": "code",
   "execution_count": 227,
   "id": "325a4ca1",
   "metadata": {},
   "outputs": [],
   "source": [
    "#lets import all the libraries\n",
    "import selenium\n",
    "import pandas as pd\n",
    "from selenium import webdriver\n",
    "import warnings\n",
    "warnings.filterwarnings(\"ignore\")\n",
    "import time"
   ]
  },
  {
   "cell_type": "code",
   "execution_count": 228,
   "id": "30ed8eb0",
   "metadata": {},
   "outputs": [],
   "source": [
    "# lets set the path  so that # lets connect to the web browser\n",
    "driver=webdriver.Chrome(r'E:\\Downloads\\chromedriver_win32 (1)\\chromedriver.exe')"
   ]
  },
  {
   "cell_type": "code",
   "execution_count": 229,
   "id": "958d1cd8",
   "metadata": {},
   "outputs": [],
   "source": [
    "driver=webdriver.Chrome(\"chromedriver.exe\")\n",
    "time.sleep(1)"
   ]
  },
  {
   "cell_type": "code",
   "execution_count": 230,
   "id": "730f05fd",
   "metadata": {},
   "outputs": [],
   "source": [
    "driver.get('https://www.flipkart.com/apple-iphone-11-black-64-gb-includes- earpods-power\u0002adapter/p/itm0f37c2240b217?pid=MOBFKCTSVZAXUHGR&lid=LSTMOBFKCTSVZAXUHGREPBFGI&marketplace')"
   ]
  },
  {
   "cell_type": "code",
   "execution_count": 209,
   "id": "c3bd3342",
   "metadata": {},
   "outputs": [],
   "source": [
    "#specifying the url of the webpage to be scrapped\n",
    "url='https://www.flipkart.com/apple-iphone-11-black-64-gb-includes- earpods-power\u0002adapter/p/itm0f37c2240b217?pid=MOBFKCTSVZAXUHGR&lid=LSTMOBFKCTSVZAXUHGREPBFGI&marketplace.'"
   ]
  },
  {
   "cell_type": "code",
   "execution_count": 210,
   "id": "c6e31152",
   "metadata": {},
   "outputs": [],
   "source": [
    "#lets open the webpage through our web driver\n",
    "driver.get(url)"
   ]
  },
  {
   "cell_type": "code",
   "execution_count": 231,
   "id": "4479733c",
   "metadata": {},
   "outputs": [],
   "source": [
    "Rating=[]\n",
    "Review_summary=[]\n",
    "Full_review=[]\n"
   ]
  },
  {
   "cell_type": "code",
   "execution_count": 232,
   "id": "ecf42303",
   "metadata": {},
   "outputs": [],
   "source": [
    "search_button=driver.find_element_by_xpath('/html/body/div[1]/div/div[3]/div[1]/div[2]/div[9]/div/div/div[5]/div/a/div/span')\n",
    "search_button.click()\n"
   ]
  },
  {
   "cell_type": "code",
   "execution_count": 235,
   "id": "4f1f19bc",
   "metadata": {},
   "outputs": [],
   "source": [
    "next_button=driver.find_element_by_xpath('/html/body/div[1]/div/div[3]/div/div/div[2]/div[13]/div/div/nav/a[11]')\n",
    "next_button.click()\n"
   ]
  },
  {
   "cell_type": "code",
   "execution_count": 236,
   "id": "ed672893",
   "metadata": {},
   "outputs": [
    {
     "data": {
      "text/plain": [
       "[<selenium.webdriver.remote.webelement.WebElement (session=\"08ad02163c1d1e01897a01d4369a44f3\", element=\"ff9a5b46-1a29-4e5f-99c5-e6ef83f593e6\")>,\n",
       " <selenium.webdriver.remote.webelement.WebElement (session=\"08ad02163c1d1e01897a01d4369a44f3\", element=\"b3848122-1184-435c-b20c-69a852f7c184\")>,\n",
       " <selenium.webdriver.remote.webelement.WebElement (session=\"08ad02163c1d1e01897a01d4369a44f3\", element=\"55337870-4bbc-4b1e-9171-6d523a3d2322\")>,\n",
       " <selenium.webdriver.remote.webelement.WebElement (session=\"08ad02163c1d1e01897a01d4369a44f3\", element=\"fe5313e7-d4e9-41f7-8bb4-415158ba5edb\")>]"
      ]
     },
     "execution_count": 236,
     "metadata": {},
     "output_type": "execute_result"
    }
   ],
   "source": [
    "# so lets extract all the tags having the ratings tags\n",
    "rating_tags=driver.find_elements_by_xpath(\"//div[@class='_3LWZlK _1BLPMq']\")\n",
    "rating_tags[0:4]"
   ]
  },
  {
   "cell_type": "code",
   "execution_count": 237,
   "id": "310848b1",
   "metadata": {},
   "outputs": [
    {
     "data": {
      "text/plain": [
       "['5', '5', '5', '5']"
      ]
     },
     "execution_count": 237,
     "metadata": {},
     "output_type": "execute_result"
    }
   ],
   "source": [
    "# Now the text of the rating content is inside the tags extracted above.\n",
    "\n",
    "for i in rating_tags:\n",
    "    rat=i.text\n",
    "    Rating.append(rat)\n",
    "Rating[0:4]"
   ]
  },
  {
   "cell_type": "code",
   "execution_count": 238,
   "id": "f1c19931",
   "metadata": {},
   "outputs": [
    {
     "data": {
      "text/plain": [
       "[<selenium.webdriver.remote.webelement.WebElement (session=\"08ad02163c1d1e01897a01d4369a44f3\", element=\"62070f87-3869-432b-a9eb-611174d827ee\")>,\n",
       " <selenium.webdriver.remote.webelement.WebElement (session=\"08ad02163c1d1e01897a01d4369a44f3\", element=\"f824ba29-d42d-4f8a-8a65-874b1216e1f8\")>,\n",
       " <selenium.webdriver.remote.webelement.WebElement (session=\"08ad02163c1d1e01897a01d4369a44f3\", element=\"78b6c537-91a7-4379-9b86-8a3bfbf7065b\")>,\n",
       " <selenium.webdriver.remote.webelement.WebElement (session=\"08ad02163c1d1e01897a01d4369a44f3\", element=\"19c5fbe4-afed-42fa-8cea-864433b8c189\")>]"
      ]
     },
     "execution_count": 238,
     "metadata": {},
     "output_type": "execute_result"
    }
   ],
   "source": [
    "# so lets extract all the tags having the company\n",
    "Review=driver.find_elements_by_xpath(\"//p[@class='_2-N8zT']\")\n",
    "Review[0:4]"
   ]
  },
  {
   "cell_type": "code",
   "execution_count": 239,
   "id": "097cbe3d",
   "metadata": {},
   "outputs": [
    {
     "data": {
      "text/plain": [
       "['Highly recommended',\n",
       " 'Perfect product!',\n",
       " 'Perfect product!',\n",
       " 'Worth every penny']"
      ]
     },
     "execution_count": 239,
     "metadata": {},
     "output_type": "execute_result"
    }
   ],
   "source": [
    "for i in Review:\n",
    "    rew=i.text\n",
    "    Review_summary.append(rew)\n",
    "Review_summary[0:4]"
   ]
  },
  {
   "cell_type": "code",
   "execution_count": 240,
   "id": "f465f9fc",
   "metadata": {},
   "outputs": [
    {
     "data": {
      "text/plain": [
       "[<selenium.webdriver.remote.webelement.WebElement (session=\"08ad02163c1d1e01897a01d4369a44f3\", element=\"f66467c5-3571-4ff5-ad54-c417374babe2\")>,\n",
       " <selenium.webdriver.remote.webelement.WebElement (session=\"08ad02163c1d1e01897a01d4369a44f3\", element=\"53f1f08f-3be5-4874-a228-5306c6af21fa\")>,\n",
       " <selenium.webdriver.remote.webelement.WebElement (session=\"08ad02163c1d1e01897a01d4369a44f3\", element=\"94e49c21-cd45-4d09-83f9-7066de310df0\")>,\n",
       " <selenium.webdriver.remote.webelement.WebElement (session=\"08ad02163c1d1e01897a01d4369a44f3\", element=\"56057df2-091e-41e0-bc07-75b1fc829a73\")>]"
      ]
     },
     "execution_count": 240,
     "metadata": {},
     "output_type": "execute_result"
    }
   ],
   "source": [
    "full_review_tags=driver.find_elements_by_xpath(\"//div[@class='t-ZTKy']\")\n",
    "full_review_tags[0:4]"
   ]
  },
  {
   "cell_type": "code",
   "execution_count": 241,
   "id": "41117056",
   "metadata": {},
   "outputs": [
    {
     "data": {
      "text/plain": [
       "['iphone 11 is a very good phone to buy only if you can compromise for the display. The display on this is device is pretty good but you can get other options with better displays in this price segment.\\nIf you can survive with an HD+ LCD panel with thicker bezels and a notch up top then this is a very good phone for you.\\nCameras are awesome, battery backup excellent, great performance and a decent premium look. Good job Apple !',\n",
       " 'It’s a must buy who is looking for an upgrade from previous generation of iPhones. If you are using XR then still you can hold on for sometime and upgrade to 2020 model else this phone is a must buy . Camera quality is amazing and wide angle is something to count upon. Performance wise it’s amazing and feels premium while holding in hand. So a big YES for this device. Go for 128 GB variant as the 4K videos will occupy lots of space and the storage can get over very quickly. Try to buy it with...\\nREAD MORE',\n",
       " 'Value for money❤️❤️\\nIts awesome mobile phone in the world ...\\nDisplay was very good and bright ..\\nTrust me freinds you r never regret after Buying..\\nJust go for it....\\nI love this phone and i switch to iphone x to 11',\n",
       " 'Smooth like butter, camera like fantabulous, sound is crystal clear & its red color is damn attractive, i am just loving it. Must buy if you love photography.\\n\\nLucky to get it in sale, thank you Flipkart.']"
      ]
     },
     "execution_count": 241,
     "metadata": {},
     "output_type": "execute_result"
    }
   ],
   "source": [
    "for i in full_review_tags:\n",
    "    full=i.text\n",
    "    Full_review.append(full)\n",
    "Full_review[0:4]"
   ]
  },
  {
   "cell_type": "code",
   "execution_count": 242,
   "id": "606b09cf",
   "metadata": {},
   "outputs": [
    {
     "name": "stdout",
     "output_type": "stream",
     "text": [
      "10 10 10\n"
     ]
    }
   ],
   "source": [
    "print(len(Rating),len(Review_summary),len(Full_review))"
   ]
  },
  {
   "cell_type": "code",
   "execution_count": 243,
   "id": "5c0424b5",
   "metadata": {},
   "outputs": [],
   "source": [
    "#import pandas as pd\n",
    "Product=pd.DataFrame({})\n",
    "Product['Rating']=Rating\n",
    "Product['Review_summary']=Review_summary\n",
    "Product['full_review']=Full_review"
   ]
  },
  {
   "cell_type": "code",
   "execution_count": 244,
   "id": "383aff90",
   "metadata": {},
   "outputs": [
    {
     "data": {
      "text/html": [
       "<div>\n",
       "<style scoped>\n",
       "    .dataframe tbody tr th:only-of-type {\n",
       "        vertical-align: middle;\n",
       "    }\n",
       "\n",
       "    .dataframe tbody tr th {\n",
       "        vertical-align: top;\n",
       "    }\n",
       "\n",
       "    .dataframe thead th {\n",
       "        text-align: right;\n",
       "    }\n",
       "</style>\n",
       "<table border=\"1\" class=\"dataframe\">\n",
       "  <thead>\n",
       "    <tr style=\"text-align: right;\">\n",
       "      <th></th>\n",
       "      <th>Rating</th>\n",
       "      <th>Review_summary</th>\n",
       "      <th>full_review</th>\n",
       "    </tr>\n",
       "  </thead>\n",
       "  <tbody>\n",
       "    <tr>\n",
       "      <th>0</th>\n",
       "      <td>5</td>\n",
       "      <td>Highly recommended</td>\n",
       "      <td>iphone 11 is a very good phone to buy only if ...</td>\n",
       "    </tr>\n",
       "    <tr>\n",
       "      <th>1</th>\n",
       "      <td>5</td>\n",
       "      <td>Perfect product!</td>\n",
       "      <td>It’s a must buy who is looking for an upgrade ...</td>\n",
       "    </tr>\n",
       "    <tr>\n",
       "      <th>2</th>\n",
       "      <td>5</td>\n",
       "      <td>Perfect product!</td>\n",
       "      <td>Value for money❤️❤️\\nIts awesome mobile phone ...</td>\n",
       "    </tr>\n",
       "    <tr>\n",
       "      <th>3</th>\n",
       "      <td>5</td>\n",
       "      <td>Worth every penny</td>\n",
       "      <td>Smooth like butter, camera like fantabulous, s...</td>\n",
       "    </tr>\n",
       "    <tr>\n",
       "      <th>4</th>\n",
       "      <td>5</td>\n",
       "      <td>Highly recommended</td>\n",
       "      <td>It's my first time to use iOS phone and I am l...</td>\n",
       "    </tr>\n",
       "    <tr>\n",
       "      <th>5</th>\n",
       "      <td>5</td>\n",
       "      <td>Perfect product!</td>\n",
       "      <td>Iphone is just awesome.. battery backup is ver...</td>\n",
       "    </tr>\n",
       "    <tr>\n",
       "      <th>6</th>\n",
       "      <td>5</td>\n",
       "      <td>Worth every penny</td>\n",
       "      <td>Best budget Iphone till date ❤️ go for it guys...</td>\n",
       "    </tr>\n",
       "    <tr>\n",
       "      <th>7</th>\n",
       "      <td>5</td>\n",
       "      <td>Simply awesome</td>\n",
       "      <td>Excellent camera, good performance, no lag. Th...</td>\n",
       "    </tr>\n",
       "    <tr>\n",
       "      <th>8</th>\n",
       "      <td>5</td>\n",
       "      <td>Classy product</td>\n",
       "      <td>Totally in love with this ❤ the camera quality...</td>\n",
       "    </tr>\n",
       "    <tr>\n",
       "      <th>9</th>\n",
       "      <td>5</td>\n",
       "      <td>Terrific</td>\n",
       "      <td>Really worth of money. i just love it. It is t...</td>\n",
       "    </tr>\n",
       "  </tbody>\n",
       "</table>\n",
       "</div>"
      ],
      "text/plain": [
       "  Rating      Review_summary  \\\n",
       "0      5  Highly recommended   \n",
       "1      5    Perfect product!   \n",
       "2      5    Perfect product!   \n",
       "3      5   Worth every penny   \n",
       "4      5  Highly recommended   \n",
       "5      5    Perfect product!   \n",
       "6      5   Worth every penny   \n",
       "7      5      Simply awesome   \n",
       "8      5      Classy product   \n",
       "9      5            Terrific   \n",
       "\n",
       "                                         full_review  \n",
       "0  iphone 11 is a very good phone to buy only if ...  \n",
       "1  It’s a must buy who is looking for an upgrade ...  \n",
       "2  Value for money❤️❤️\\nIts awesome mobile phone ...  \n",
       "3  Smooth like butter, camera like fantabulous, s...  \n",
       "4  It's my first time to use iOS phone and I am l...  \n",
       "5  Iphone is just awesome.. battery backup is ver...  \n",
       "6  Best budget Iphone till date ❤️ go for it guys...  \n",
       "7  Excellent camera, good performance, no lag. Th...  \n",
       "8  Totally in love with this ❤ the camera quality...  \n",
       "9  Really worth of money. i just love it. It is t...  "
      ]
     },
     "execution_count": 244,
     "metadata": {},
     "output_type": "execute_result"
    }
   ],
   "source": [
    "Product"
   ]
  },
  {
   "cell_type": "raw",
   "id": "1e18491c",
   "metadata": {},
   "source": [
    "6)Scrape data for first 100 sneakers you find when you visit flipkart.com andsearch for “sneakers” in the\n",
    "search field.\n",
    "You have to scrape 4 attributes of each sneaker:\n",
    "1. Brand\n",
    "2. Product Description\n",
    "3. Price\n"
   ]
  },
  {
   "cell_type": "code",
   "execution_count": 254,
   "id": "7096cd2d",
   "metadata": {},
   "outputs": [
    {
     "name": "stdout",
     "output_type": "stream",
     "text": [
      "Requirement already satisfied: selenium in c:\\users\\ashik\\anaconda3\\lib\\site-packages (4.1.3)\n",
      "Requirement already satisfied: trio~=0.17 in c:\\users\\ashik\\anaconda3\\lib\\site-packages (from selenium) (0.20.0)\n",
      "Requirement already satisfied: trio-websocket~=0.9 in c:\\users\\ashik\\anaconda3\\lib\\site-packages (from selenium) (0.9.2)\n",
      "Requirement already satisfied: urllib3[secure,socks]~=1.26 in c:\\users\\ashik\\anaconda3\\lib\\site-packages (from selenium) (1.26.4)\n",
      "Requirement already satisfied: idna in c:\\users\\ashik\\anaconda3\\lib\\site-packages (from trio~=0.17->selenium) (2.10)\n",
      "Requirement already satisfied: attrs>=19.2.0 in c:\\users\\ashik\\anaconda3\\lib\\site-packages (from trio~=0.17->selenium) (20.3.0)\n",
      "Requirement already satisfied: sniffio in c:\\users\\ashik\\anaconda3\\lib\\site-packages (from trio~=0.17->selenium) (1.2.0)\n",
      "Requirement already satisfied: cffi>=1.14 in c:\\users\\ashik\\anaconda3\\lib\\site-packages (from trio~=0.17->selenium) (1.14.5)\n",
      "Requirement already satisfied: outcome in c:\\users\\ashik\\anaconda3\\lib\\site-packages (from trio~=0.17->selenium) (1.1.0)\n",
      "Requirement already satisfied: sortedcontainers in c:\\users\\ashik\\anaconda3\\lib\\site-packages (from trio~=0.17->selenium) (2.3.0)\n",
      "Requirement already satisfied: async-generator>=1.9 in c:\\users\\ashik\\anaconda3\\lib\\site-packages (from trio~=0.17->selenium) (1.10)\n",
      "Requirement already satisfied: pycparser in c:\\users\\ashik\\anaconda3\\lib\\site-packages (from cffi>=1.14->trio~=0.17->selenium) (2.20)\n",
      "Requirement already satisfied: wsproto>=0.14 in c:\\users\\ashik\\anaconda3\\lib\\site-packages (from trio-websocket~=0.9->selenium) (1.1.0)\n",
      "Requirement already satisfied: cryptography>=1.3.4 in c:\\users\\ashik\\anaconda3\\lib\\site-packages (from urllib3[secure,socks]~=1.26->selenium) (3.4.7)\n",
      "Requirement already satisfied: pyOpenSSL>=0.14 in c:\\users\\ashik\\anaconda3\\lib\\site-packages (from urllib3[secure,socks]~=1.26->selenium) (20.0.1)\n",
      "Requirement already satisfied: certifi in c:\\users\\ashik\\anaconda3\\lib\\site-packages (from urllib3[secure,socks]~=1.26->selenium) (2020.12.5)\n",
      "Requirement already satisfied: PySocks!=1.5.7,<2.0,>=1.5.6 in c:\\users\\ashik\\anaconda3\\lib\\site-packages (from urllib3[secure,socks]~=1.26->selenium) (1.7.1)\n",
      "Requirement already satisfied: six>=1.5.2 in c:\\users\\ashik\\anaconda3\\lib\\site-packages (from pyOpenSSL>=0.14->urllib3[secure,socks]~=1.26->selenium) (1.15.0)\n",
      "Requirement already satisfied: h11<1,>=0.9.0 in c:\\users\\ashik\\anaconda3\\lib\\site-packages (from wsproto>=0.14->trio-websocket~=0.9->selenium) (0.13.0)\n"
     ]
    }
   ],
   "source": [
    "!pip install selenium"
   ]
  },
  {
   "cell_type": "code",
   "execution_count": 255,
   "id": "9800f1cb",
   "metadata": {},
   "outputs": [],
   "source": [
    "#lets import all the libraries\n",
    "import selenium\n",
    "import pandas as pd\n",
    "from selenium import webdriver\n",
    "import warnings\n",
    "warnings.filterwarnings(\"ignore\")\n",
    "import time"
   ]
  },
  {
   "cell_type": "code",
   "execution_count": 256,
   "id": "34f5f4ba",
   "metadata": {},
   "outputs": [],
   "source": [
    "# lets set the path  so that # lets connect to the web browser\n",
    "driver=webdriver.Chrome(r'E:\\Downloads\\chromedriver_win32 (1)\\chromedriver.exe')"
   ]
  },
  {
   "cell_type": "code",
   "execution_count": 257,
   "id": "83df9b12",
   "metadata": {},
   "outputs": [],
   "source": [
    "driver=webdriver.Chrome(\"chromedriver.exe\")\n",
    "time.sleep(1)"
   ]
  },
  {
   "cell_type": "code",
   "execution_count": 258,
   "id": "10c53baa",
   "metadata": {},
   "outputs": [],
   "source": [
    "driver.get('https://www.flipkart.com/')"
   ]
  },
  {
   "cell_type": "code",
   "execution_count": 260,
   "id": "6a4511ee",
   "metadata": {},
   "outputs": [],
   "source": [
    "# finding element for job search bar\n",
    "search_field_designation=driver.find_element_by_class_name(\"_3704LK\") # job search\n",
    "search_field_designation.send_keys('sneakers')\n",
    "\n",
    "search_button=driver.find_element_by_xpath('/html/body/div/div/div[1]/div[1]/div[2]/div[2]/form/div/button')\n",
    "search_button.click()"
   ]
  },
  {
   "cell_type": "code",
   "execution_count": 261,
   "id": "ec057ac3",
   "metadata": {},
   "outputs": [],
   "source": [
    "#specifying the url of the webpage to be scrapped\n",
    "url='https://www.flipkart.com/search?q=sneakers&otracker=search&otracker1=search&marketplace=FLIPKART&as-show=off&as=off'"
   ]
  },
  {
   "cell_type": "code",
   "execution_count": 262,
   "id": "6f6aa7f1",
   "metadata": {},
   "outputs": [],
   "source": [
    "#lets open the webpage through our web driver\n",
    "driver.get(url)"
   ]
  },
  {
   "cell_type": "code",
   "execution_count": 263,
   "id": "d61b8848",
   "metadata": {},
   "outputs": [],
   "source": [
    "Brand=[]\n",
    "Product_name=[]\n",
    "Price=[]"
   ]
  },
  {
   "cell_type": "code",
   "execution_count": 264,
   "id": "3af9bed0",
   "metadata": {},
   "outputs": [
    {
     "data": {
      "text/plain": [
       "[<selenium.webdriver.remote.webelement.WebElement (session=\"a05b6c361903c6001bc0cbf575e8524b\", element=\"4ac525f0-80e9-4e8d-9202-74e242ada6ea\")>,\n",
       " <selenium.webdriver.remote.webelement.WebElement (session=\"a05b6c361903c6001bc0cbf575e8524b\", element=\"880ffae8-8bbb-4f62-b3f6-588bec8c8704\")>,\n",
       " <selenium.webdriver.remote.webelement.WebElement (session=\"a05b6c361903c6001bc0cbf575e8524b\", element=\"e45fd7e9-e7d9-4965-a4d5-66b2539611cb\")>,\n",
       " <selenium.webdriver.remote.webelement.WebElement (session=\"a05b6c361903c6001bc0cbf575e8524b\", element=\"a699cd4c-1055-45f5-b82d-57ccb2bb513e\")>]"
      ]
     },
     "execution_count": 264,
     "metadata": {},
     "output_type": "execute_result"
    }
   ],
   "source": [
    "# so lets extract all the tags having the - titles\n",
    "brand_tags=driver.find_elements_by_xpath(\"//div[@class='_2WkVRV']\")\n",
    "brand_tags[0:4]"
   ]
  },
  {
   "cell_type": "code",
   "execution_count": 265,
   "id": "c7ce5c0a",
   "metadata": {},
   "outputs": [
    {
     "data": {
      "text/plain": [
       "['URBANBOX', 'Magnolia', 'corsac', 'BRUTON']"
      ]
     },
     "execution_count": 265,
     "metadata": {},
     "output_type": "execute_result"
    }
   ],
   "source": [
    "# Now the text of the  title is inside the tags extracted above.\n",
    "\n",
    "#so we will run a loop to iterate over the tags extracted above\n",
    "for i in brand_tags:\n",
    "    title=i.text\n",
    "    Brand.append(title)\n",
    "Brand[0:4]"
   ]
  },
  {
   "cell_type": "code",
   "execution_count": 266,
   "id": "7c5838d2",
   "metadata": {},
   "outputs": [
    {
     "data": {
      "text/plain": [
       "[<selenium.webdriver.remote.webelement.WebElement (session=\"a05b6c361903c6001bc0cbf575e8524b\", element=\"517c89ba-0652-4b67-8b30-f04b95d686b9\")>,\n",
       " <selenium.webdriver.remote.webelement.WebElement (session=\"a05b6c361903c6001bc0cbf575e8524b\", element=\"110e818b-af12-4fb1-9035-1fbbb934e5c3\")>,\n",
       " <selenium.webdriver.remote.webelement.WebElement (session=\"a05b6c361903c6001bc0cbf575e8524b\", element=\"fddb356d-2171-4829-a18f-8f8c44874b9a\")>,\n",
       " <selenium.webdriver.remote.webelement.WebElement (session=\"a05b6c361903c6001bc0cbf575e8524b\", element=\"e45a95bf-9e9f-4803-9b44-b52b2204dae9\")>]"
      ]
     },
     "execution_count": 266,
     "metadata": {},
     "output_type": "execute_result"
    }
   ],
   "source": [
    "# so lets extract all the tags having the company\n",
    "Product_Description=driver.find_elements_by_xpath(\"//a[@class='IRpwTa']\")\n",
    "Product_Description[0:4]"
   ]
  },
  {
   "cell_type": "code",
   "execution_count": 267,
   "id": "28a5d165",
   "metadata": {},
   "outputs": [
    {
     "data": {
      "text/plain": [
       "['Sneakers For Men',\n",
       " 'STYLISH MENS BLACK SNEAKER Sneakers For Men',\n",
       " 'Canvas shoes for Men Sneakers For Men',\n",
       " 'STR2 Sneakers For Men']"
      ]
     },
     "execution_count": 267,
     "metadata": {},
     "output_type": "execute_result"
    }
   ],
   "source": [
    "for i in Product_Description:\n",
    "    Pro=i.text\n",
    "    Product_name.append(Pro)\n",
    "Product_name[0:4]"
   ]
  },
  {
   "cell_type": "code",
   "execution_count": 268,
   "id": "0c1fedbc",
   "metadata": {},
   "outputs": [
    {
     "data": {
      "text/plain": [
       "[<selenium.webdriver.remote.webelement.WebElement (session=\"a05b6c361903c6001bc0cbf575e8524b\", element=\"52547659-4f70-4410-a969-6deaa0790e45\")>,\n",
       " <selenium.webdriver.remote.webelement.WebElement (session=\"a05b6c361903c6001bc0cbf575e8524b\", element=\"f965f502-8983-4472-b955-d8af3a69dcbb\")>,\n",
       " <selenium.webdriver.remote.webelement.WebElement (session=\"a05b6c361903c6001bc0cbf575e8524b\", element=\"3273f45a-b97f-45e8-aab7-4ccb70fde081\")>,\n",
       " <selenium.webdriver.remote.webelement.WebElement (session=\"a05b6c361903c6001bc0cbf575e8524b\", element=\"b407e60b-1e99-4022-8157-d3651f237309\")>]"
      ]
     },
     "execution_count": 268,
     "metadata": {},
     "output_type": "execute_result"
    }
   ],
   "source": [
    "Price_tags=driver.find_elements_by_xpath(\"//a[@class='_3bPFwb']\")\n",
    "Price_tags[0:4]"
   ]
  },
  {
   "cell_type": "code",
   "execution_count": 269,
   "id": "1a2f12fe",
   "metadata": {},
   "outputs": [
    {
     "data": {
      "text/plain": [
       "['₹142₹99985% off',\n",
       " '₹351₹99964% off\\nFree delivery',\n",
       " '₹424₹1,49971% off\\nFree delivery',\n",
       " '₹299₹1,29976% off\\nFree delivery']"
      ]
     },
     "execution_count": 269,
     "metadata": {},
     "output_type": "execute_result"
    }
   ],
   "source": [
    "for i in Price_tags:\n",
    "    pri=i.text\n",
    "    Price.append(pri)\n",
    "Price[0:4]"
   ]
  },
  {
   "cell_type": "code",
   "execution_count": 270,
   "id": "b7816e08",
   "metadata": {},
   "outputs": [
    {
     "name": "stdout",
     "output_type": "stream",
     "text": [
      "35 35 35\n"
     ]
    }
   ],
   "source": [
    "print(len(Brand[0:35]),len(Product_name[0:35]),len(Price[0:35]))"
   ]
  },
  {
   "cell_type": "code",
   "execution_count": 271,
   "id": "33bc3445",
   "metadata": {},
   "outputs": [
    {
     "data": {
      "text/html": [
       "<div>\n",
       "<style scoped>\n",
       "    .dataframe tbody tr th:only-of-type {\n",
       "        vertical-align: middle;\n",
       "    }\n",
       "\n",
       "    .dataframe tbody tr th {\n",
       "        vertical-align: top;\n",
       "    }\n",
       "\n",
       "    .dataframe thead th {\n",
       "        text-align: right;\n",
       "    }\n",
       "</style>\n",
       "<table border=\"1\" class=\"dataframe\">\n",
       "  <thead>\n",
       "    <tr style=\"text-align: right;\">\n",
       "      <th></th>\n",
       "      <th>Title</th>\n",
       "      <th>Rating</th>\n",
       "      <th>Price</th>\n",
       "    </tr>\n",
       "  </thead>\n",
       "  <tbody>\n",
       "    <tr>\n",
       "      <th>0</th>\n",
       "      <td>Dell New 15\" Gaming Laptop i5-11400H, 16GB, 51...</td>\n",
       "      <td>39</td>\n",
       "      <td>77,990</td>\n",
       "    </tr>\n",
       "    <tr>\n",
       "      <th>1</th>\n",
       "      <td>Redmi Book Pro Intel Core i5 11th Gen 15.6-inc...</td>\n",
       "      <td>Get it by Tomorrow, May 5\\nFREE Delivery by Am...</td>\n",
       "      <td>44,990</td>\n",
       "    </tr>\n",
       "    <tr>\n",
       "      <th>2</th>\n",
       "      <td>ASUS VivoBook 15 (2021) Intel Core i5-1035G1 1...</td>\n",
       "      <td>1,082</td>\n",
       "      <td>46,990</td>\n",
       "    </tr>\n",
       "    <tr>\n",
       "      <th>3</th>\n",
       "      <td>HP Pavilion 14,11th Gen Intel Core i5 16GB RAM...</td>\n",
       "      <td>Get it by Tomorrow, May 5\\nFREE Delivery by Am...</td>\n",
       "      <td>62,990</td>\n",
       "    </tr>\n",
       "    <tr>\n",
       "      <th>4</th>\n",
       "      <td>Lenovo IdeaPad Gaming 3 Intel Core i5 10th Gen...</td>\n",
       "      <td>5</td>\n",
       "      <td>53,990</td>\n",
       "    </tr>\n",
       "    <tr>\n",
       "      <th>5</th>\n",
       "      <td>(Refurbished) Dell Latitude Intel 2nd Gen Core...</td>\n",
       "      <td>Get it by Tomorrow, May 5\\nFREE Delivery by Am...</td>\n",
       "      <td>18,837</td>\n",
       "    </tr>\n",
       "    <tr>\n",
       "      <th>6</th>\n",
       "      <td>Lenovo IdeaPad Slim 3 10th Gen Intel Core i5 1...</td>\n",
       "      <td>343</td>\n",
       "      <td>48,490</td>\n",
       "    </tr>\n",
       "    <tr>\n",
       "      <th>7</th>\n",
       "      <td>Acer Aspire 3 11th Generation Intel Core i5-11...</td>\n",
       "      <td>Get it by Tomorrow, May 5\\nFREE Delivery by Am...</td>\n",
       "      <td>49,990</td>\n",
       "    </tr>\n",
       "    <tr>\n",
       "      <th>8</th>\n",
       "      <td>Lenovo IdeaPad Slim 3 11th Gen Intel Core i5 1...</td>\n",
       "      <td>1,165</td>\n",
       "      <td>50,990</td>\n",
       "    </tr>\n",
       "  </tbody>\n",
       "</table>\n",
       "</div>"
      ],
      "text/plain": [
       "                                               Title  \\\n",
       "0  Dell New 15\" Gaming Laptop i5-11400H, 16GB, 51...   \n",
       "1  Redmi Book Pro Intel Core i5 11th Gen 15.6-inc...   \n",
       "2  ASUS VivoBook 15 (2021) Intel Core i5-1035G1 1...   \n",
       "3  HP Pavilion 14,11th Gen Intel Core i5 16GB RAM...   \n",
       "4  Lenovo IdeaPad Gaming 3 Intel Core i5 10th Gen...   \n",
       "5  (Refurbished) Dell Latitude Intel 2nd Gen Core...   \n",
       "6  Lenovo IdeaPad Slim 3 10th Gen Intel Core i5 1...   \n",
       "7  Acer Aspire 3 11th Generation Intel Core i5-11...   \n",
       "8  Lenovo IdeaPad Slim 3 11th Gen Intel Core i5 1...   \n",
       "\n",
       "                                              Rating   Price  \n",
       "0                                                 39  77,990  \n",
       "1  Get it by Tomorrow, May 5\\nFREE Delivery by Am...  44,990  \n",
       "2                                              1,082  46,990  \n",
       "3  Get it by Tomorrow, May 5\\nFREE Delivery by Am...  62,990  \n",
       "4                                                  5  53,990  \n",
       "5  Get it by Tomorrow, May 5\\nFREE Delivery by Am...  18,837  \n",
       "6                                                343  48,490  \n",
       "7  Get it by Tomorrow, May 5\\nFREE Delivery by Am...  49,990  \n",
       "8                                              1,165  50,990  "
      ]
     },
     "execution_count": 271,
     "metadata": {},
     "output_type": "execute_result"
    }
   ],
   "source": [
    "Products"
   ]
  },
  {
   "cell_type": "code",
   "execution_count": null,
   "id": "38595dc4",
   "metadata": {},
   "outputs": [],
   "source": []
  },
  {
   "cell_type": "raw",
   "id": "3d95d76f",
   "metadata": {},
   "source": [
    "7)Go to the link - https://www.myntra.com/shoes\n",
    "Set Price filter to “Rs. 7149 to Rs. 14099 ” , Color filter to “Black”, as shown inthe below image.\n",
    "And then scrape First 100 shoes data you get. The data should include “Brand” of the shoes , Short Shoe\n",
    "description, price of the shoe as shown in the below image"
   ]
  },
  {
   "cell_type": "code",
   "execution_count": 313,
   "id": "a46fe307",
   "metadata": {},
   "outputs": [
    {
     "name": "stdout",
     "output_type": "stream",
     "text": [
      "Requirement already satisfied: selenium in c:\\users\\ashik\\anaconda3\\lib\\site-packages (4.1.3)\n",
      "Requirement already satisfied: urllib3[secure,socks]~=1.26 in c:\\users\\ashik\\anaconda3\\lib\\site-packages (from selenium) (1.26.4)\n",
      "Requirement already satisfied: trio-websocket~=0.9 in c:\\users\\ashik\\anaconda3\\lib\\site-packages (from selenium) (0.9.2)\n",
      "Requirement already satisfied: trio~=0.17 in c:\\users\\ashik\\anaconda3\\lib\\site-packages (from selenium) (0.20.0)\n",
      "Requirement already satisfied: idna in c:\\users\\ashik\\anaconda3\\lib\\site-packages (from trio~=0.17->selenium) (2.10)\n",
      "Requirement already satisfied: sortedcontainers in c:\\users\\ashik\\anaconda3\\lib\\site-packages (from trio~=0.17->selenium) (2.3.0)\n",
      "Requirement already satisfied: cffi>=1.14 in c:\\users\\ashik\\anaconda3\\lib\\site-packages (from trio~=0.17->selenium) (1.14.5)\n",
      "Requirement already satisfied: async-generator>=1.9 in c:\\users\\ashik\\anaconda3\\lib\\site-packages (from trio~=0.17->selenium) (1.10)\n",
      "Requirement already satisfied: sniffio in c:\\users\\ashik\\anaconda3\\lib\\site-packages (from trio~=0.17->selenium) (1.2.0)\n",
      "Requirement already satisfied: attrs>=19.2.0 in c:\\users\\ashik\\anaconda3\\lib\\site-packages (from trio~=0.17->selenium) (20.3.0)\n",
      "Requirement already satisfied: outcome in c:\\users\\ashik\\anaconda3\\lib\\site-packages (from trio~=0.17->selenium) (1.1.0)\n",
      "Requirement already satisfied: pycparser in c:\\users\\ashik\\anaconda3\\lib\\site-packages (from cffi>=1.14->trio~=0.17->selenium) (2.20)\n",
      "Requirement already satisfied: wsproto>=0.14 in c:\\users\\ashik\\anaconda3\\lib\\site-packages (from trio-websocket~=0.9->selenium) (1.1.0)\n",
      "Requirement already satisfied: PySocks!=1.5.7,<2.0,>=1.5.6 in c:\\users\\ashik\\anaconda3\\lib\\site-packages (from urllib3[secure,socks]~=1.26->selenium) (1.7.1)\n",
      "Requirement already satisfied: certifi in c:\\users\\ashik\\anaconda3\\lib\\site-packages (from urllib3[secure,socks]~=1.26->selenium) (2020.12.5)\n",
      "Requirement already satisfied: cryptography>=1.3.4 in c:\\users\\ashik\\anaconda3\\lib\\site-packages (from urllib3[secure,socks]~=1.26->selenium) (3.4.7)\n",
      "Requirement already satisfied: pyOpenSSL>=0.14 in c:\\users\\ashik\\anaconda3\\lib\\site-packages (from urllib3[secure,socks]~=1.26->selenium) (20.0.1)\n",
      "Requirement already satisfied: six>=1.5.2 in c:\\users\\ashik\\anaconda3\\lib\\site-packages (from pyOpenSSL>=0.14->urllib3[secure,socks]~=1.26->selenium) (1.15.0)\n",
      "Requirement already satisfied: h11<1,>=0.9.0 in c:\\users\\ashik\\anaconda3\\lib\\site-packages (from wsproto>=0.14->trio-websocket~=0.9->selenium) (0.13.0)\n"
     ]
    }
   ],
   "source": [
    "!pip install selenium"
   ]
  },
  {
   "cell_type": "code",
   "execution_count": 328,
   "id": "0baaec3e",
   "metadata": {},
   "outputs": [],
   "source": [
    "#lets import all the libraries\n",
    "import selenium\n",
    "import pandas as pd\n",
    "from selenium import webdriver\n",
    "import warnings\n",
    "warnings.filterwarnings(\"ignore\")\n",
    "import time"
   ]
  },
  {
   "cell_type": "code",
   "execution_count": 342,
   "id": "95bbcbd5",
   "metadata": {},
   "outputs": [],
   "source": [
    "# lets set the path  so that # lets connect to the web browser\n",
    "driver=webdriver.Chrome(r'E:\\Downloads\\chromedriver_win32 (1)\\chromedriver.exe')"
   ]
  },
  {
   "cell_type": "code",
   "execution_count": 343,
   "id": "d1ea120e",
   "metadata": {},
   "outputs": [],
   "source": [
    "driver=webdriver.Chrome(\"chromedriver.exe\")\n",
    "time.sleep(2)"
   ]
  },
  {
   "cell_type": "code",
   "execution_count": 344,
   "id": "e4063333",
   "metadata": {},
   "outputs": [],
   "source": [
    "driver.get('https://www.myntra.com/shoes')"
   ]
  },
  {
   "cell_type": "code",
   "execution_count": 352,
   "id": "6c073943",
   "metadata": {},
   "outputs": [],
   "source": [
    "filter_color=driver.find_element_by_xpath('/html/body/div[2]/div/div[1]/main/div[3]/div[1]/section/div/div[6]/ul/li[1]/label/div')\n",
    "filter_color.click()"
   ]
  },
  {
   "cell_type": "code",
   "execution_count": 353,
   "id": "ad643dd4",
   "metadata": {},
   "outputs": [],
   "source": [
    "filter_price=driver.find_element_by_xpath('/html/body/div[2]/div/div[1]/main/div[3]/div[1]/section/div/div[5]/ul/li[2]/label/div')\n",
    "filter_price.click()"
   ]
  },
  {
   "cell_type": "code",
   "execution_count": 354,
   "id": "3dc0b3e1",
   "metadata": {},
   "outputs": [],
   "source": [
    "#specifying the url of the webpage to be scrapped\n",
    "url='https://www.myntra.com/shoes?f=Color%3ABlack_36454f&rf=Price%3A7187.0_14125.0_7187.0%20TO%2014125.0'"
   ]
  },
  {
   "cell_type": "code",
   "execution_count": 355,
   "id": "a683c718",
   "metadata": {},
   "outputs": [],
   "source": [
    "#lets open the webpage through our web driver\n",
    "driver.get(url)"
   ]
  },
  {
   "cell_type": "code",
   "execution_count": 356,
   "id": "b6c24fef",
   "metadata": {},
   "outputs": [],
   "source": [
    "Brand=[]\n",
    "Product_name=[]\n",
    "Price=[]"
   ]
  },
  {
   "cell_type": "code",
   "execution_count": 371,
   "id": "0b7c7f26",
   "metadata": {},
   "outputs": [
    {
     "data": {
      "text/plain": [
       "[<selenium.webdriver.remote.webelement.WebElement (session=\"844089109e5df8b75ff4bcada64d2d64\", element=\"392a5914-db1e-4712-877e-91f1ffc25771\")>,\n",
       " <selenium.webdriver.remote.webelement.WebElement (session=\"844089109e5df8b75ff4bcada64d2d64\", element=\"b766bd07-57a3-446b-9e13-f828802508ab\")>,\n",
       " <selenium.webdriver.remote.webelement.WebElement (session=\"844089109e5df8b75ff4bcada64d2d64\", element=\"3c3bdb85-30bc-46bf-93df-388c3effc86a\")>,\n",
       " <selenium.webdriver.remote.webelement.WebElement (session=\"844089109e5df8b75ff4bcada64d2d64\", element=\"bbc0eb20-f983-4de2-b043-8b0988827498\")>]"
      ]
     },
     "execution_count": 371,
     "metadata": {},
     "output_type": "execute_result"
    }
   ],
   "source": [
    "# so lets extract all the tags having the - titles\n",
    "brand_tags=driver.find_elements_by_xpath(\"//h3[@class='product-brand']\")\n",
    "brand_tags[0:4]"
   ]
  },
  {
   "cell_type": "code",
   "execution_count": 372,
   "id": "e606f551",
   "metadata": {},
   "outputs": [
    {
     "data": {
      "text/plain": [
       "['ALDO', 'ALDO', 'Nike', 'UNDER ARMOUR']"
      ]
     },
     "execution_count": 372,
     "metadata": {},
     "output_type": "execute_result"
    }
   ],
   "source": [
    "# Now the text of the  title is inside the tags extracted above.\n",
    "\n",
    "#so we will run a loop to iterate over the tags extracted above\n",
    "for i in brand_tags:\n",
    "    title=i.text\n",
    "    Brand.append(title)\n",
    "Brand[0:4]"
   ]
  },
  {
   "cell_type": "code",
   "execution_count": 373,
   "id": "5c3ec7ef",
   "metadata": {},
   "outputs": [
    {
     "data": {
      "text/plain": [
       "[<selenium.webdriver.remote.webelement.WebElement (session=\"844089109e5df8b75ff4bcada64d2d64\", element=\"3e7ff271-df10-40c9-a09b-f7026caf528c\")>,\n",
       " <selenium.webdriver.remote.webelement.WebElement (session=\"844089109e5df8b75ff4bcada64d2d64\", element=\"94a042a3-0dbf-4213-aa71-8cba52141534\")>,\n",
       " <selenium.webdriver.remote.webelement.WebElement (session=\"844089109e5df8b75ff4bcada64d2d64\", element=\"61dfe59f-a547-4c83-85f5-af2a62b5fdd2\")>,\n",
       " <selenium.webdriver.remote.webelement.WebElement (session=\"844089109e5df8b75ff4bcada64d2d64\", element=\"8a017466-b59a-49e4-8318-a8d432071c2c\")>]"
      ]
     },
     "execution_count": 373,
     "metadata": {},
     "output_type": "execute_result"
    }
   ],
   "source": [
    "# so lets extract all the product tags having the company\n",
    "Product_Description=driver.find_elements_by_xpath(\"//h4[@class='product-product']\")\n",
    "Product_Description[0:4]"
   ]
  },
  {
   "cell_type": "code",
   "execution_count": 374,
   "id": "e00d8ab0",
   "metadata": {},
   "outputs": [
    {
     "data": {
      "text/plain": [
       "['Men Woven Design Sneakers',\n",
       " 'Men Leather Loafers',\n",
       " 'Men KF 5 EP Basketball Shoes',\n",
       " 'Project Rock Training shoes']"
      ]
     },
     "execution_count": 374,
     "metadata": {},
     "output_type": "execute_result"
    }
   ],
   "source": [
    "for i in Product_Description:\n",
    "    Pro=i.text\n",
    "    Product_name.append(Pro)\n",
    "Product_name[0:4]"
   ]
  },
  {
   "cell_type": "code",
   "execution_count": 375,
   "id": "b1483cdd",
   "metadata": {},
   "outputs": [
    {
     "data": {
      "text/plain": [
       "[<selenium.webdriver.remote.webelement.WebElement (session=\"844089109e5df8b75ff4bcada64d2d64\", element=\"87a982f0-9334-48e6-9455-71e6597145dc\")>,\n",
       " <selenium.webdriver.remote.webelement.WebElement (session=\"844089109e5df8b75ff4bcada64d2d64\", element=\"b5f90a15-bff8-411f-8430-0ad6c9f92e73\")>,\n",
       " <selenium.webdriver.remote.webelement.WebElement (session=\"844089109e5df8b75ff4bcada64d2d64\", element=\"5ebe7259-167c-4686-8273-a5aea6b18a91\")>,\n",
       " <selenium.webdriver.remote.webelement.WebElement (session=\"844089109e5df8b75ff4bcada64d2d64\", element=\"22195234-937d-42a0-b707-eaea243bfd0f\")>]"
      ]
     },
     "execution_count": 375,
     "metadata": {},
     "output_type": "execute_result"
    }
   ],
   "source": [
    "Price_tags=driver.find_elements_by_xpath(\"//div[@class='product-price']\")\n",
    "Price_tags[0:4]"
   ]
  },
  {
   "cell_type": "code",
   "execution_count": 376,
   "id": "eaf57f0e",
   "metadata": {},
   "outputs": [
    {
     "data": {
      "text/plain": [
       "['Rs. 13999', 'Rs. 12999', 'Rs. 8195', 'Rs. 9999']"
      ]
     },
     "execution_count": 376,
     "metadata": {},
     "output_type": "execute_result"
    }
   ],
   "source": [
    "for i in Price_tags:\n",
    "    pri=i.text\n",
    "    Price.append(pri)\n",
    "Price[0:4]"
   ]
  },
  {
   "cell_type": "code",
   "execution_count": 377,
   "id": "87fe7386",
   "metadata": {},
   "outputs": [
    {
     "name": "stdout",
     "output_type": "stream",
     "text": [
      "100 100 100\n"
     ]
    }
   ],
   "source": [
    "print(len(Brand),len(Product_name),len(Price))"
   ]
  },
  {
   "cell_type": "code",
   "execution_count": 378,
   "id": "b413c280",
   "metadata": {},
   "outputs": [],
   "source": [
    "#import pandas as pd\n",
    "Products=pd.DataFrame({})\n",
    "Products['Brands']=Brand\n",
    "Products['Short_Shoe_description']=Product_name\n",
    "Products['price_of_the_shoe']=Price"
   ]
  },
  {
   "cell_type": "code",
   "execution_count": 379,
   "id": "2d957880",
   "metadata": {},
   "outputs": [
    {
     "data": {
      "text/html": [
       "<div>\n",
       "<style scoped>\n",
       "    .dataframe tbody tr th:only-of-type {\n",
       "        vertical-align: middle;\n",
       "    }\n",
       "\n",
       "    .dataframe tbody tr th {\n",
       "        vertical-align: top;\n",
       "    }\n",
       "\n",
       "    .dataframe thead th {\n",
       "        text-align: right;\n",
       "    }\n",
       "</style>\n",
       "<table border=\"1\" class=\"dataframe\">\n",
       "  <thead>\n",
       "    <tr style=\"text-align: right;\">\n",
       "      <th></th>\n",
       "      <th>Brands</th>\n",
       "      <th>Short_Shoe_description</th>\n",
       "      <th>price_of_the_shoe</th>\n",
       "    </tr>\n",
       "  </thead>\n",
       "  <tbody>\n",
       "    <tr>\n",
       "      <th>0</th>\n",
       "      <td>ALDO</td>\n",
       "      <td>Men Woven Design Sneakers</td>\n",
       "      <td>Rs. 13999</td>\n",
       "    </tr>\n",
       "    <tr>\n",
       "      <th>1</th>\n",
       "      <td>ALDO</td>\n",
       "      <td>Men Leather Loafers</td>\n",
       "      <td>Rs. 12999</td>\n",
       "    </tr>\n",
       "    <tr>\n",
       "      <th>2</th>\n",
       "      <td>Nike</td>\n",
       "      <td>Men KF 5 EP Basketball Shoes</td>\n",
       "      <td>Rs. 8195</td>\n",
       "    </tr>\n",
       "    <tr>\n",
       "      <th>3</th>\n",
       "      <td>UNDER ARMOUR</td>\n",
       "      <td>Project Rock Training shoes</td>\n",
       "      <td>Rs. 9999</td>\n",
       "    </tr>\n",
       "    <tr>\n",
       "      <th>4</th>\n",
       "      <td>Nike</td>\n",
       "      <td>Women React MR 3 Running Shoes</td>\n",
       "      <td>Rs. 10495</td>\n",
       "    </tr>\n",
       "    <tr>\n",
       "      <th>...</th>\n",
       "      <td>...</td>\n",
       "      <td>...</td>\n",
       "      <td>...</td>\n",
       "    </tr>\n",
       "    <tr>\n",
       "      <th>95</th>\n",
       "      <td>ADIDAS</td>\n",
       "      <td>Women KarlieKlossX9000 Running</td>\n",
       "      <td>Rs. 13999</td>\n",
       "    </tr>\n",
       "    <tr>\n",
       "      <th>96</th>\n",
       "      <td>ADIDAS</td>\n",
       "      <td>Women Dropset Training Shoes</td>\n",
       "      <td>Rs. 12999</td>\n",
       "    </tr>\n",
       "    <tr>\n",
       "      <th>97</th>\n",
       "      <td>Hush Puppies</td>\n",
       "      <td>Men Solid Leather Formal Derbys</td>\n",
       "      <td>Rs. 8499Rs. 9999(15% OFF)</td>\n",
       "    </tr>\n",
       "    <tr>\n",
       "      <th>98</th>\n",
       "      <td>Geox</td>\n",
       "      <td>Men Textured Leather Driving Shoes</td>\n",
       "      <td>Rs. 9990</td>\n",
       "    </tr>\n",
       "    <tr>\n",
       "      <th>99</th>\n",
       "      <td>Geox</td>\n",
       "      <td>Men Textured Leather Driving Shoes</td>\n",
       "      <td>Rs. 10990</td>\n",
       "    </tr>\n",
       "  </tbody>\n",
       "</table>\n",
       "<p>100 rows × 3 columns</p>\n",
       "</div>"
      ],
      "text/plain": [
       "          Brands              Short_Shoe_description  \\\n",
       "0           ALDO           Men Woven Design Sneakers   \n",
       "1           ALDO                 Men Leather Loafers   \n",
       "2           Nike        Men KF 5 EP Basketball Shoes   \n",
       "3   UNDER ARMOUR         Project Rock Training shoes   \n",
       "4           Nike      Women React MR 3 Running Shoes   \n",
       "..           ...                                 ...   \n",
       "95        ADIDAS      Women KarlieKlossX9000 Running   \n",
       "96        ADIDAS        Women Dropset Training Shoes   \n",
       "97  Hush Puppies     Men Solid Leather Formal Derbys   \n",
       "98          Geox  Men Textured Leather Driving Shoes   \n",
       "99          Geox  Men Textured Leather Driving Shoes   \n",
       "\n",
       "            price_of_the_shoe  \n",
       "0                   Rs. 13999  \n",
       "1                   Rs. 12999  \n",
       "2                    Rs. 8195  \n",
       "3                    Rs. 9999  \n",
       "4                   Rs. 10495  \n",
       "..                        ...  \n",
       "95                  Rs. 13999  \n",
       "96                  Rs. 12999  \n",
       "97  Rs. 8499Rs. 9999(15% OFF)  \n",
       "98                   Rs. 9990  \n",
       "99                  Rs. 10990  \n",
       "\n",
       "[100 rows x 3 columns]"
      ]
     },
     "execution_count": 379,
     "metadata": {},
     "output_type": "execute_result"
    }
   ],
   "source": [
    "Products"
   ]
  },
  {
   "cell_type": "raw",
   "id": "d0975b4a",
   "metadata": {},
   "source": [
    "8)Go to webpage https://www.amazon.in/\n",
    "Enter “Laptop” in the search field and then click the search icon.\n",
    "Then set CPU Type filter to “Intel Core i7” and “Intel Core i9” as shown in the below image:\n",
    "After setting the filters scrape first 10 laptops data. You have to scrape 3 attributesfor each laptop:\n",
    "1. Title\n",
    "2. Ratings\n",
    "3. Price"
   ]
  },
  {
   "cell_type": "code",
   "execution_count": 1,
   "id": "e89d621d",
   "metadata": {},
   "outputs": [
    {
     "name": "stdout",
     "output_type": "stream",
     "text": [
      "Requirement already satisfied: selenium in c:\\users\\ashik\\anaconda3\\lib\\site-packages (4.1.3)\n",
      "Requirement already satisfied: trio~=0.17 in c:\\users\\ashik\\anaconda3\\lib\\site-packages (from selenium) (0.20.0)\n",
      "Requirement already satisfied: trio-websocket~=0.9 in c:\\users\\ashik\\anaconda3\\lib\\site-packages (from selenium) (0.9.2)\n",
      "Requirement already satisfied: urllib3[secure,socks]~=1.26 in c:\\users\\ashik\\anaconda3\\lib\\site-packages (from selenium) (1.26.4)\n",
      "Requirement already satisfied: async-generator>=1.9 in c:\\users\\ashik\\anaconda3\\lib\\site-packages (from trio~=0.17->selenium) (1.10)\n",
      "Requirement already satisfied: outcome in c:\\users\\ashik\\anaconda3\\lib\\site-packages (from trio~=0.17->selenium) (1.1.0)\n",
      "Requirement already satisfied: sniffio in c:\\users\\ashik\\anaconda3\\lib\\site-packages (from trio~=0.17->selenium) (1.2.0)\n",
      "Requirement already satisfied: cffi>=1.14 in c:\\users\\ashik\\anaconda3\\lib\\site-packages (from trio~=0.17->selenium) (1.14.5)\n",
      "Requirement already satisfied: attrs>=19.2.0 in c:\\users\\ashik\\anaconda3\\lib\\site-packages (from trio~=0.17->selenium) (20.3.0)\n",
      "Requirement already satisfied: sortedcontainers in c:\\users\\ashik\\anaconda3\\lib\\site-packages (from trio~=0.17->selenium) (2.3.0)\n",
      "Requirement already satisfied: idna in c:\\users\\ashik\\anaconda3\\lib\\site-packages (from trio~=0.17->selenium) (2.10)\n",
      "Requirement already satisfied: pycparser in c:\\users\\ashik\\anaconda3\\lib\\site-packages (from cffi>=1.14->trio~=0.17->selenium) (2.20)\n",
      "Requirement already satisfied: wsproto>=0.14 in c:\\users\\ashik\\anaconda3\\lib\\site-packages (from trio-websocket~=0.9->selenium) (1.1.0)\n",
      "Requirement already satisfied: PySocks!=1.5.7,<2.0,>=1.5.6 in c:\\users\\ashik\\anaconda3\\lib\\site-packages (from urllib3[secure,socks]~=1.26->selenium) (1.7.1)\n",
      "Requirement already satisfied: certifi in c:\\users\\ashik\\anaconda3\\lib\\site-packages (from urllib3[secure,socks]~=1.26->selenium) (2020.12.5)\n",
      "Requirement already satisfied: pyOpenSSL>=0.14 in c:\\users\\ashik\\anaconda3\\lib\\site-packages (from urllib3[secure,socks]~=1.26->selenium) (20.0.1)\n",
      "Requirement already satisfied: cryptography>=1.3.4 in c:\\users\\ashik\\anaconda3\\lib\\site-packages (from urllib3[secure,socks]~=1.26->selenium) (3.4.7)\n",
      "Requirement already satisfied: six>=1.5.2 in c:\\users\\ashik\\anaconda3\\lib\\site-packages (from pyOpenSSL>=0.14->urllib3[secure,socks]~=1.26->selenium) (1.15.0)\n",
      "Requirement already satisfied: h11<1,>=0.9.0 in c:\\users\\ashik\\anaconda3\\lib\\site-packages (from wsproto>=0.14->trio-websocket~=0.9->selenium) (0.13.0)\n"
     ]
    }
   ],
   "source": [
    "!pip install selenium"
   ]
  },
  {
   "cell_type": "code",
   "execution_count": 15,
   "id": "7411ff78",
   "metadata": {},
   "outputs": [],
   "source": [
    "#lets import all the libraries\n",
    "import selenium\n",
    "import pandas as pd\n",
    "from selenium import webdriver\n",
    "import warnings\n",
    "warnings.filterwarnings(\"ignore\")\n",
    "import time"
   ]
  },
  {
   "cell_type": "code",
   "execution_count": 35,
   "id": "b8bae608",
   "metadata": {},
   "outputs": [],
   "source": [
    "# lets set the path  so that # lets connect to the web browser\n",
    "driver=webdriver.Chrome(r'E:\\Downloads\\chromedriver_win32 (1)\\chromedriver.exe')"
   ]
  },
  {
   "cell_type": "code",
   "execution_count": 36,
   "id": "2c0b824b",
   "metadata": {},
   "outputs": [],
   "source": [
    "driver=webdriver.Chrome(\"chromedriver.exe\")\n",
    "time.sleep(1)"
   ]
  },
  {
   "cell_type": "code",
   "execution_count": 37,
   "id": "3ac3063a",
   "metadata": {},
   "outputs": [],
   "source": [
    "driver.get('https://www.amazon.in/')"
   ]
  },
  {
   "cell_type": "code",
   "execution_count": 57,
   "id": "64bce3a7",
   "metadata": {},
   "outputs": [],
   "source": [
    "search_field_designation=driver.find_element_by_id(\"twotabsearchtextbox\") # job search\n",
    "search_field_designation.send_keys('laptops')\n",
    "\n",
    "search_button=driver.find_element_by_xpath('/html/body/div[1]/header/div/div[1]/div[2]/div/form/div[3]/div/span/input')\n",
    "search_button.click()"
   ]
  },
  {
   "cell_type": "code",
   "execution_count": 58,
   "id": "c7d14ae9",
   "metadata": {},
   "outputs": [],
   "source": [
    "search_button=driver.find_element_by_xpath('/html/body/div[1]/div[2]/div[1]/div[2]/div/div[3]/span/div[1]/div/div/div[6]/ul[4]/li[12]/span/a/div/label/i')\n",
    "search_button.click()"
   ]
  },
  {
   "cell_type": "code",
   "execution_count": 59,
   "id": "e20d6055",
   "metadata": {},
   "outputs": [],
   "source": [
    "url='https://www.amazon.in/s?k=laptops&i=computers&rh=n%3A1375424031%2Cp_n_feature_thirteen_browse-bin%3A12598162031&dc&qid=1651639090&rnid=12598141031&ref=sr_nr_p_n_feature_thirteen_browse-bin_12'"
   ]
  },
  {
   "cell_type": "code",
   "execution_count": 60,
   "id": "ba69ab1a",
   "metadata": {},
   "outputs": [],
   "source": [
    "#lets open the webpage through our web driver\n",
    "driver.get(url)"
   ]
  },
  {
   "cell_type": "code",
   "execution_count": 65,
   "id": "e799b371",
   "metadata": {},
   "outputs": [],
   "source": [
    "Brand=[]\n",
    "Rating=[]\n",
    "Price=[]"
   ]
  },
  {
   "cell_type": "code",
   "execution_count": 66,
   "id": "777ba677",
   "metadata": {},
   "outputs": [
    {
     "data": {
      "text/plain": [
       "[<selenium.webdriver.remote.webelement.WebElement (session=\"017363cadba00b4a8457edfaf4d86da9\", element=\"411ad0b3-b8fe-4085-b794-a2619c4948e9\")>,\n",
       " <selenium.webdriver.remote.webelement.WebElement (session=\"017363cadba00b4a8457edfaf4d86da9\", element=\"c30e9e20-c576-400f-81a0-227b931b0f6f\")>,\n",
       " <selenium.webdriver.remote.webelement.WebElement (session=\"017363cadba00b4a8457edfaf4d86da9\", element=\"9340e5a3-feda-44ec-bc15-ae7583ef494b\")>,\n",
       " <selenium.webdriver.remote.webelement.WebElement (session=\"017363cadba00b4a8457edfaf4d86da9\", element=\"e6385291-85e6-4780-946a-dd9b2c68e751\")>]"
      ]
     },
     "execution_count": 66,
     "metadata": {},
     "output_type": "execute_result"
    }
   ],
   "source": [
    "brand_tags=driver.find_elements_by_xpath(\"//span[@class='a-size-medium a-color-base a-text-normal']\")\n",
    "brand_tags[0:4]"
   ]
  },
  {
   "cell_type": "code",
   "execution_count": 67,
   "id": "fcc0ff85",
   "metadata": {},
   "outputs": [
    {
     "data": {
      "text/plain": [
       "['Honor MagicBook X 14, Intel Core i5-10210U 14 inch (35.56 cm) FHD IPS Anti-Glare Thin and Light Laptop (8GB/512GB PCIe SSD/Windows 10/1.38Kg), Gray, (NobleBR-WAH9E)',\n",
       " 'Lenovo IdeaPad 3 10th Gen Intel Core i5 15.6\" FHD Thin & Light Laptop (8GB/512GB SSD/Windows 11/Office 2021/2 Yr Warranty/Platinum Grey/1.7Kg), 81WB01DFIN',\n",
       " 'Mi NoteBook Ultra 3.2K resolution display Intel Core i5-11300H 11th Gen 15.6-inch(39.62 cm) Thin & Light laptop(16GB/512GB SSD/Iris Xe Graphics/Win 11/MS Office 21/Backlit KB/Fingerprint sensor/1.7Kg)',\n",
       " 'Lenovo ThinkBook 14 Intel Core i5 11th Gen 14\" (35.56cm) FHD IPS Thin & Light Laptop (16GB RAM/512GB SSD/Windows 11 Home/MS Office 2021/FPR/Intel Iris Xe Graphics Mineral Grey/1.4 kg), 20VDA0TLIH']"
      ]
     },
     "execution_count": 67,
     "metadata": {},
     "output_type": "execute_result"
    }
   ],
   "source": [
    "#so we will run a loop to iterate over the tags extracted above\n",
    "for i in brand_tags:\n",
    "    title=i.text\n",
    "    Brand.append(title)\n",
    "Brand[0:4]"
   ]
  },
  {
   "cell_type": "code",
   "execution_count": 71,
   "id": "f626bb8d",
   "metadata": {},
   "outputs": [
    {
     "data": {
      "text/plain": [
       "[<selenium.webdriver.remote.webelement.WebElement (session=\"017363cadba00b4a8457edfaf4d86da9\", element=\"016b8e9b-46b2-4826-af7b-23c4c661e6f0\")>,\n",
       " <selenium.webdriver.remote.webelement.WebElement (session=\"017363cadba00b4a8457edfaf4d86da9\", element=\"2b15a413-3261-4329-a38f-cc0ea143ca70\")>,\n",
       " <selenium.webdriver.remote.webelement.WebElement (session=\"017363cadba00b4a8457edfaf4d86da9\", element=\"e81e2df7-6102-4a94-a01c-f06f74c5c2d6\")>,\n",
       " <selenium.webdriver.remote.webelement.WebElement (session=\"017363cadba00b4a8457edfaf4d86da9\", element=\"7c9ca0ec-9071-4e45-a29f-868f23f1c880\")>]"
      ]
     },
     "execution_count": 71,
     "metadata": {},
     "output_type": "execute_result"
    }
   ],
   "source": [
    "Productrating=driver.find_elements_by_xpath(\"//div[@class='a-section a-spacing-none a-spacing-top-micro']\")\n",
    "Productrating[0:4]"
   ]
  },
  {
   "cell_type": "code",
   "execution_count": 72,
   "id": "c11bef87",
   "metadata": {},
   "outputs": [
    {
     "data": {
      "text/plain": [
       "['', '', '', '']"
      ]
     },
     "execution_count": 72,
     "metadata": {},
     "output_type": "execute_result"
    }
   ],
   "source": [
    "for i in Productrating:\n",
    "    Pro=i.text\n",
    "    Rating.append(Pro)\n",
    "Rating[0:4]"
   ]
  },
  {
   "cell_type": "code",
   "execution_count": 73,
   "id": "3b749250",
   "metadata": {},
   "outputs": [
    {
     "data": {
      "text/plain": [
       "[<selenium.webdriver.remote.webelement.WebElement (session=\"017363cadba00b4a8457edfaf4d86da9\", element=\"45dddd02-b99d-4472-80ab-bf2f0153b6d5\")>,\n",
       " <selenium.webdriver.remote.webelement.WebElement (session=\"017363cadba00b4a8457edfaf4d86da9\", element=\"4aa08222-5f47-41ce-9528-b48e9b4da277\")>,\n",
       " <selenium.webdriver.remote.webelement.WebElement (session=\"017363cadba00b4a8457edfaf4d86da9\", element=\"354d8809-e6e2-4acc-a884-bb4b49c089a8\")>,\n",
       " <selenium.webdriver.remote.webelement.WebElement (session=\"017363cadba00b4a8457edfaf4d86da9\", element=\"4b130be2-5b15-42e0-9924-7dffea35ebee\")>]"
      ]
     },
     "execution_count": 73,
     "metadata": {},
     "output_type": "execute_result"
    }
   ],
   "source": [
    "price_tags=driver.find_elements_by_xpath(\"//span[@class='a-price-whole']\")\n",
    "price_tags[0:4]"
   ]
  },
  {
   "cell_type": "code",
   "execution_count": 75,
   "id": "e795a540",
   "metadata": {},
   "outputs": [
    {
     "data": {
      "text/plain": [
       "['46,990', '46,390', '59,990', '59,990']"
      ]
     },
     "execution_count": 75,
     "metadata": {},
     "output_type": "execute_result"
    }
   ],
   "source": [
    "for i in price_tags:\n",
    "    Pri=i.text\n",
    "    Price.append(Pri)\n",
    "Price[0:4]"
   ]
  },
  {
   "cell_type": "code",
   "execution_count": 77,
   "id": "9d5edbb5",
   "metadata": {},
   "outputs": [
    {
     "name": "stdout",
     "output_type": "stream",
     "text": [
      "30 30 30\n"
     ]
    }
   ],
   "source": [
    "print(len(Brand[0:35]),len(Rating[0:30]),len(Price[0:35]))"
   ]
  },
  {
   "cell_type": "code",
   "execution_count": 84,
   "id": "d09ea4e7",
   "metadata": {},
   "outputs": [],
   "source": [
    "#import pandas as pd\n",
    "Products=pd.DataFrame({})\n",
    "Products['Title']=Brand[20:29]\n",
    "Products['Rating']=Rating[20:29]\n",
    "Products['Price']=Price[20:29]"
   ]
  },
  {
   "cell_type": "code",
   "execution_count": 85,
   "id": "a8fb24ea",
   "metadata": {},
   "outputs": [
    {
     "data": {
      "text/html": [
       "<div>\n",
       "<style scoped>\n",
       "    .dataframe tbody tr th:only-of-type {\n",
       "        vertical-align: middle;\n",
       "    }\n",
       "\n",
       "    .dataframe tbody tr th {\n",
       "        vertical-align: top;\n",
       "    }\n",
       "\n",
       "    .dataframe thead th {\n",
       "        text-align: right;\n",
       "    }\n",
       "</style>\n",
       "<table border=\"1\" class=\"dataframe\">\n",
       "  <thead>\n",
       "    <tr style=\"text-align: right;\">\n",
       "      <th></th>\n",
       "      <th>Title</th>\n",
       "      <th>Rating</th>\n",
       "      <th>Price</th>\n",
       "    </tr>\n",
       "  </thead>\n",
       "  <tbody>\n",
       "    <tr>\n",
       "      <th>0</th>\n",
       "      <td>Dell New 15\" Gaming Laptop i5-11400H, 16GB, 51...</td>\n",
       "      <td>39</td>\n",
       "      <td>77,990</td>\n",
       "    </tr>\n",
       "    <tr>\n",
       "      <th>1</th>\n",
       "      <td>Redmi Book Pro Intel Core i5 11th Gen 15.6-inc...</td>\n",
       "      <td>Get it by Tomorrow, May 5\\nFREE Delivery by Am...</td>\n",
       "      <td>44,990</td>\n",
       "    </tr>\n",
       "    <tr>\n",
       "      <th>2</th>\n",
       "      <td>ASUS VivoBook 15 (2021) Intel Core i5-1035G1 1...</td>\n",
       "      <td>1,082</td>\n",
       "      <td>46,990</td>\n",
       "    </tr>\n",
       "    <tr>\n",
       "      <th>3</th>\n",
       "      <td>HP Pavilion 14,11th Gen Intel Core i5 16GB RAM...</td>\n",
       "      <td>Get it by Tomorrow, May 5\\nFREE Delivery by Am...</td>\n",
       "      <td>62,990</td>\n",
       "    </tr>\n",
       "    <tr>\n",
       "      <th>4</th>\n",
       "      <td>Lenovo IdeaPad Gaming 3 Intel Core i5 10th Gen...</td>\n",
       "      <td>5</td>\n",
       "      <td>53,990</td>\n",
       "    </tr>\n",
       "    <tr>\n",
       "      <th>5</th>\n",
       "      <td>(Refurbished) Dell Latitude Intel 2nd Gen Core...</td>\n",
       "      <td>Get it by Tomorrow, May 5\\nFREE Delivery by Am...</td>\n",
       "      <td>18,837</td>\n",
       "    </tr>\n",
       "    <tr>\n",
       "      <th>6</th>\n",
       "      <td>Lenovo IdeaPad Slim 3 10th Gen Intel Core i5 1...</td>\n",
       "      <td>343</td>\n",
       "      <td>48,490</td>\n",
       "    </tr>\n",
       "    <tr>\n",
       "      <th>7</th>\n",
       "      <td>Acer Aspire 3 11th Generation Intel Core i5-11...</td>\n",
       "      <td>Get it by Tomorrow, May 5\\nFREE Delivery by Am...</td>\n",
       "      <td>49,990</td>\n",
       "    </tr>\n",
       "    <tr>\n",
       "      <th>8</th>\n",
       "      <td>Lenovo IdeaPad Slim 3 11th Gen Intel Core i5 1...</td>\n",
       "      <td>1,165</td>\n",
       "      <td>50,990</td>\n",
       "    </tr>\n",
       "  </tbody>\n",
       "</table>\n",
       "</div>"
      ],
      "text/plain": [
       "                                               Title  \\\n",
       "0  Dell New 15\" Gaming Laptop i5-11400H, 16GB, 51...   \n",
       "1  Redmi Book Pro Intel Core i5 11th Gen 15.6-inc...   \n",
       "2  ASUS VivoBook 15 (2021) Intel Core i5-1035G1 1...   \n",
       "3  HP Pavilion 14,11th Gen Intel Core i5 16GB RAM...   \n",
       "4  Lenovo IdeaPad Gaming 3 Intel Core i5 10th Gen...   \n",
       "5  (Refurbished) Dell Latitude Intel 2nd Gen Core...   \n",
       "6  Lenovo IdeaPad Slim 3 10th Gen Intel Core i5 1...   \n",
       "7  Acer Aspire 3 11th Generation Intel Core i5-11...   \n",
       "8  Lenovo IdeaPad Slim 3 11th Gen Intel Core i5 1...   \n",
       "\n",
       "                                              Rating   Price  \n",
       "0                                                 39  77,990  \n",
       "1  Get it by Tomorrow, May 5\\nFREE Delivery by Am...  44,990  \n",
       "2                                              1,082  46,990  \n",
       "3  Get it by Tomorrow, May 5\\nFREE Delivery by Am...  62,990  \n",
       "4                                                  5  53,990  \n",
       "5  Get it by Tomorrow, May 5\\nFREE Delivery by Am...  18,837  \n",
       "6                                                343  48,490  \n",
       "7  Get it by Tomorrow, May 5\\nFREE Delivery by Am...  49,990  \n",
       "8                                              1,165  50,990  "
      ]
     },
     "execution_count": 85,
     "metadata": {},
     "output_type": "execute_result"
    }
   ],
   "source": [
    "Products"
   ]
  },
  {
   "cell_type": "code",
   "execution_count": null,
   "id": "c7f783d3",
   "metadata": {},
   "outputs": [],
   "source": []
  },
  {
   "cell_type": "markdown",
   "id": "39ad74d9",
   "metadata": {},
   "source": [
    "9) Write a python program to scrape data for first 10 job results for Data Scientist Designation in Noida\n",
    "location. You have to scrape company name, No. of days ago when job was posted, Rating of the company."
   ]
  },
  {
   "cell_type": "code",
   "execution_count": 86,
   "id": "61622c10",
   "metadata": {},
   "outputs": [
    {
     "name": "stdout",
     "output_type": "stream",
     "text": [
      "Requirement already satisfied: selenium in c:\\users\\ashik\\anaconda3\\lib\\site-packages (4.1.3)\n",
      "Requirement already satisfied: urllib3[secure,socks]~=1.26 in c:\\users\\ashik\\anaconda3\\lib\\site-packages (from selenium) (1.26.4)\n",
      "Requirement already satisfied: trio~=0.17 in c:\\users\\ashik\\anaconda3\\lib\\site-packages (from selenium) (0.20.0)\n",
      "Requirement already satisfied: trio-websocket~=0.9 in c:\\users\\ashik\\anaconda3\\lib\\site-packages (from selenium) (0.9.2)\n",
      "Requirement already satisfied: sniffio in c:\\users\\ashik\\anaconda3\\lib\\site-packages (from trio~=0.17->selenium) (1.2.0)\n",
      "Requirement already satisfied: idna in c:\\users\\ashik\\anaconda3\\lib\\site-packages (from trio~=0.17->selenium) (2.10)\n",
      "Requirement already satisfied: async-generator>=1.9 in c:\\users\\ashik\\anaconda3\\lib\\site-packages (from trio~=0.17->selenium) (1.10)\n",
      "Requirement already satisfied: attrs>=19.2.0 in c:\\users\\ashik\\anaconda3\\lib\\site-packages (from trio~=0.17->selenium) (20.3.0)\n",
      "Requirement already satisfied: cffi>=1.14 in c:\\users\\ashik\\anaconda3\\lib\\site-packages (from trio~=0.17->selenium) (1.14.5)\n",
      "Requirement already satisfied: sortedcontainers in c:\\users\\ashik\\anaconda3\\lib\\site-packages (from trio~=0.17->selenium) (2.3.0)\n",
      "Requirement already satisfied: outcome in c:\\users\\ashik\\anaconda3\\lib\\site-packages (from trio~=0.17->selenium) (1.1.0)\n",
      "Requirement already satisfied: pycparser in c:\\users\\ashik\\anaconda3\\lib\\site-packages (from cffi>=1.14->trio~=0.17->selenium) (2.20)\n",
      "Requirement already satisfied: wsproto>=0.14 in c:\\users\\ashik\\anaconda3\\lib\\site-packages (from trio-websocket~=0.9->selenium) (1.1.0)\n",
      "Requirement already satisfied: PySocks!=1.5.7,<2.0,>=1.5.6 in c:\\users\\ashik\\anaconda3\\lib\\site-packages (from urllib3[secure,socks]~=1.26->selenium) (1.7.1)\n",
      "Requirement already satisfied: pyOpenSSL>=0.14 in c:\\users\\ashik\\anaconda3\\lib\\site-packages (from urllib3[secure,socks]~=1.26->selenium) (20.0.1)\n",
      "Requirement already satisfied: cryptography>=1.3.4 in c:\\users\\ashik\\anaconda3\\lib\\site-packages (from urllib3[secure,socks]~=1.26->selenium) (3.4.7)\n",
      "Requirement already satisfied: certifi in c:\\users\\ashik\\anaconda3\\lib\\site-packages (from urllib3[secure,socks]~=1.26->selenium) (2020.12.5)\n",
      "Requirement already satisfied: six>=1.5.2 in c:\\users\\ashik\\anaconda3\\lib\\site-packages (from pyOpenSSL>=0.14->urllib3[secure,socks]~=1.26->selenium) (1.15.0)\n",
      "Requirement already satisfied: h11<1,>=0.9.0 in c:\\users\\ashik\\anaconda3\\lib\\site-packages (from wsproto>=0.14->trio-websocket~=0.9->selenium) (0.13.0)\n"
     ]
    }
   ],
   "source": [
    "!pip install selenium"
   ]
  },
  {
   "cell_type": "code",
   "execution_count": 139,
   "id": "633c3792",
   "metadata": {},
   "outputs": [],
   "source": [
    "#lets import all the libraries\n",
    "import selenium\n",
    "import pandas as pd\n",
    "from selenium import webdriver\n",
    "import warnings\n",
    "warnings.filterwarnings(\"ignore\")\n",
    "import time"
   ]
  },
  {
   "cell_type": "code",
   "execution_count": 140,
   "id": "b894421c",
   "metadata": {},
   "outputs": [],
   "source": [
    "driver=webdriver.Chrome(r'E:\\Downloads\\chromedriver_win32 (1)\\chromedriver.exe')"
   ]
  },
  {
   "cell_type": "code",
   "execution_count": 141,
   "id": "21438269",
   "metadata": {},
   "outputs": [],
   "source": [
    "driver=webdriver.Chrome(\"chromedriver.exe\")\n",
    "time.sleep(1)"
   ]
  },
  {
   "cell_type": "code",
   "execution_count": 142,
   "id": "086abce6",
   "metadata": {},
   "outputs": [],
   "source": [
    "driver.get('https://www.ambitionbox.com/')"
   ]
  },
  {
   "cell_type": "code",
   "execution_count": 143,
   "id": "b3a296c4",
   "metadata": {},
   "outputs": [],
   "source": [
    "companies_button=driver.find_element_by_xpath('/html/body/div[1]/nav/nav/a[2]')\n",
    "companies_button.click()"
   ]
  },
  {
   "cell_type": "code",
   "execution_count": 144,
   "id": "85eeb95f",
   "metadata": {},
   "outputs": [],
   "source": [
    "search_field_designation=driver.find_element_by_xpath(\"/html/body/div/div/div/main/div[2]/aside/div/div[3]/div[2]/input\") # job search\n",
    "search_field_designation.send_keys('Data Scientist')"
   ]
  },
  {
   "cell_type": "code",
   "execution_count": 145,
   "id": "0bdeb787",
   "metadata": {},
   "outputs": [],
   "source": [
    "box_buttonds=driver.find_element_by_xpath('/html/body/div/div/div/main/div[2]/aside/div/div[3]/div[3]/div[1]/div/div/label')\n",
    "box_buttonds.click()\n"
   ]
  },
  {
   "cell_type": "code",
   "execution_count": 146,
   "id": "a7740e4b",
   "metadata": {},
   "outputs": [],
   "source": [
    "search_field_designation=driver.find_element_by_xpath(\"/html/body/div/div/div/main/div[2]/aside/div/div[4]/div[2]/input\") # job search\n",
    "search_field_designation.send_keys('noida')"
   ]
  },
  {
   "cell_type": "code",
   "execution_count": 147,
   "id": "a5ed33e5",
   "metadata": {},
   "outputs": [],
   "source": [
    "box_buttonds=driver.find_element_by_xpath('/html/body/div/div/div/main/div[2]/aside/div/div[4]/div[3]/div[1]/div[1]/div/label')\n",
    "box_buttonds.click()\n"
   ]
  },
  {
   "cell_type": "code",
   "execution_count": 148,
   "id": "c36cbdb6",
   "metadata": {},
   "outputs": [],
   "source": [
    "url='https://www.ambitionbox.com/list-of-companies?CompanyLocation=noida&sort_by=popularity&designation=data-scientist'"
   ]
  },
  {
   "cell_type": "code",
   "execution_count": 149,
   "id": "79ca9e06",
   "metadata": {},
   "outputs": [],
   "source": [
    "#lets open the webpage through our web driver\n",
    "driver.get(url)"
   ]
  },
  {
   "cell_type": "code",
   "execution_count": 150,
   "id": "6d506f9c",
   "metadata": {},
   "outputs": [],
   "source": [
    "companyname=[]\n",
    "posteddate=[]\n",
    "rating=[]"
   ]
  },
  {
   "cell_type": "code",
   "execution_count": 155,
   "id": "71214f34",
   "metadata": {},
   "outputs": [
    {
     "data": {
      "text/plain": [
       "[<selenium.webdriver.remote.webelement.WebElement (session=\"aa55406b32542d46b2dd69c48afb22a6\", element=\"7a9ccd64-df55-4daf-b80d-d7d5a9bfce8b\")>,\n",
       " <selenium.webdriver.remote.webelement.WebElement (session=\"aa55406b32542d46b2dd69c48afb22a6\", element=\"a722f847-4470-470f-a895-9cd1923a6352\")>,\n",
       " <selenium.webdriver.remote.webelement.WebElement (session=\"aa55406b32542d46b2dd69c48afb22a6\", element=\"68ac2d50-b41c-45fe-8d05-458e671cf40e\")>,\n",
       " <selenium.webdriver.remote.webelement.WebElement (session=\"aa55406b32542d46b2dd69c48afb22a6\", element=\"c41c2f1d-d676-488d-bcc0-c17776017e0e\")>]"
      ]
     },
     "execution_count": 155,
     "metadata": {},
     "output_type": "execute_result"
    }
   ],
   "source": [
    "companyname_tags=driver.find_elements_by_xpath(\"//h2[@class='company-name bold-title-l']\")\n",
    "companyname_tags[0:4]"
   ]
  },
  {
   "cell_type": "code",
   "execution_count": 156,
   "id": "e61444b1",
   "metadata": {},
   "outputs": [
    {
     "data": {
      "text/plain": [
       "['TCS', 'Glorious Insight', 'IBM', 'Cognizant']"
      ]
     },
     "execution_count": 156,
     "metadata": {},
     "output_type": "execute_result"
    }
   ],
   "source": [
    "#so we will run a loop to iterate over the tags extracted above\n",
    "for i in companyname_tags:\n",
    "    title=i.text\n",
    "    companyname.append(title)\n",
    "companyname[0:4]"
   ]
  },
  {
   "cell_type": "code",
   "execution_count": 159,
   "id": "3586ac4e",
   "metadata": {},
   "outputs": [
    {
     "data": {
      "text/plain": [
       "[<selenium.webdriver.remote.webelement.WebElement (session=\"aa55406b32542d46b2dd69c48afb22a6\", element=\"4b1c3791-1bc5-4531-908b-278deba39e7d\")>,\n",
       " <selenium.webdriver.remote.webelement.WebElement (session=\"aa55406b32542d46b2dd69c48afb22a6\", element=\"69c68a98-ca16-4198-add8-9e0496028015\")>,\n",
       " <selenium.webdriver.remote.webelement.WebElement (session=\"aa55406b32542d46b2dd69c48afb22a6\", element=\"af0efa95-4ebc-4d14-bffb-f77bd6d22179\")>,\n",
       " <selenium.webdriver.remote.webelement.WebElement (session=\"aa55406b32542d46b2dd69c48afb22a6\", element=\"d2f6d47f-0625-4312-bf44-389abd9c5899\")>]"
      ]
     },
     "execution_count": 159,
     "metadata": {},
     "output_type": "execute_result"
    }
   ],
   "source": [
    "Descriptionupto=driver.find_elements_by_xpath(\"//p[@class='infoEntity sbold-list-header']\")\n",
    "Descriptionupto[0:4]"
   ]
  },
  {
   "cell_type": "code",
   "execution_count": 160,
   "id": "7b7b6353",
   "metadata": {},
   "outputs": [
    {
     "data": {
      "text/plain": [
       "['Public',\n",
       " 'Mumbai,Maharashtra + 233 more',\n",
       " '54 years old',\n",
       " '1 Lakh+ Employees (India)']"
      ]
     },
     "execution_count": 160,
     "metadata": {},
     "output_type": "execute_result"
    }
   ],
   "source": [
    "for i in Descriptionupto:\n",
    "    Pro=i.text\n",
    "    posteddate.append(Pro)\n",
    "posteddate[0:4]"
   ]
  },
  {
   "cell_type": "code",
   "execution_count": 162,
   "id": "a89806f0",
   "metadata": {},
   "outputs": [
    {
     "data": {
      "text/plain": [
       "[<selenium.webdriver.remote.webelement.WebElement (session=\"aa55406b32542d46b2dd69c48afb22a6\", element=\"699c0041-bee9-4887-a2ed-528d37e015c4\")>,\n",
       " <selenium.webdriver.remote.webelement.WebElement (session=\"aa55406b32542d46b2dd69c48afb22a6\", element=\"74338889-8359-4358-b33c-b9fbd7ce0715\")>,\n",
       " <selenium.webdriver.remote.webelement.WebElement (session=\"aa55406b32542d46b2dd69c48afb22a6\", element=\"f42d262d-e5cc-4e00-a84d-b7204b629f6d\")>,\n",
       " <selenium.webdriver.remote.webelement.WebElement (session=\"aa55406b32542d46b2dd69c48afb22a6\", element=\"d182b5b1-29c1-4b8b-b052-27f3de44509c\")>]"
      ]
     },
     "execution_count": 162,
     "metadata": {},
     "output_type": "execute_result"
    }
   ],
   "source": [
    "rating_tags=driver.find_elements_by_xpath(\"//div[@class='rating-wrapper']\")\n",
    "rating_tags[0:4]"
   ]
  },
  {
   "cell_type": "code",
   "execution_count": 164,
   "id": "3d9f1ca5",
   "metadata": {},
   "outputs": [
    {
     "data": {
      "text/plain": [
       "['3.9\\n(37.6k Reviews)',\n",
       " '5.0\\n(413 Reviews)',\n",
       " '4.1\\n(12.9k Reviews)',\n",
       " '3.9\\n(23.2k Reviews)']"
      ]
     },
     "execution_count": 164,
     "metadata": {},
     "output_type": "execute_result"
    }
   ],
   "source": [
    "for i in rating_tags:\n",
    "    rat=i.text\n",
    "    rating.append(rat)\n",
    "rating[0:4]"
   ]
  },
  {
   "cell_type": "code",
   "execution_count": 165,
   "id": "5519cde5",
   "metadata": {},
   "outputs": [
    {
     "name": "stdout",
     "output_type": "stream",
     "text": [
      "10 10 10\n"
     ]
    }
   ],
   "source": [
    "print(len(companyname[0:10]),len(posteddate[0:10]),len(rating[0:10]))"
   ]
  },
  {
   "cell_type": "code",
   "execution_count": 168,
   "id": "b0e8c84f",
   "metadata": {},
   "outputs": [],
   "source": [
    "company=pd.DataFrame({})\n",
    "company['company_name']=companyname[:10]\n",
    "company['Descriptions']=posteddate[:10]\n",
    "company['Rating']=rating[:10]"
   ]
  },
  {
   "cell_type": "code",
   "execution_count": 169,
   "id": "ae8ec62d",
   "metadata": {},
   "outputs": [
    {
     "data": {
      "text/html": [
       "<div>\n",
       "<style scoped>\n",
       "    .dataframe tbody tr th:only-of-type {\n",
       "        vertical-align: middle;\n",
       "    }\n",
       "\n",
       "    .dataframe tbody tr th {\n",
       "        vertical-align: top;\n",
       "    }\n",
       "\n",
       "    .dataframe thead th {\n",
       "        text-align: right;\n",
       "    }\n",
       "</style>\n",
       "<table border=\"1\" class=\"dataframe\">\n",
       "  <thead>\n",
       "    <tr style=\"text-align: right;\">\n",
       "      <th></th>\n",
       "      <th>company_name</th>\n",
       "      <th>Descriptions</th>\n",
       "      <th>Rating</th>\n",
       "    </tr>\n",
       "  </thead>\n",
       "  <tbody>\n",
       "    <tr>\n",
       "      <th>0</th>\n",
       "      <td>TCS</td>\n",
       "      <td>Public</td>\n",
       "      <td>3.9\\n(37.6k Reviews)</td>\n",
       "    </tr>\n",
       "    <tr>\n",
       "      <th>1</th>\n",
       "      <td>Glorious Insight</td>\n",
       "      <td>Mumbai,Maharashtra + 233 more</td>\n",
       "      <td>5.0\\n(413 Reviews)</td>\n",
       "    </tr>\n",
       "    <tr>\n",
       "      <th>2</th>\n",
       "      <td>IBM</td>\n",
       "      <td>54 years old</td>\n",
       "      <td>4.1\\n(12.9k Reviews)</td>\n",
       "    </tr>\n",
       "    <tr>\n",
       "      <th>3</th>\n",
       "      <td>Cognizant</td>\n",
       "      <td>1 Lakh+ Employees (India)</td>\n",
       "      <td>3.9\\n(23.2k Reviews)</td>\n",
       "    </tr>\n",
       "    <tr>\n",
       "      <th>4</th>\n",
       "      <td>Accenture</td>\n",
       "      <td>Noida</td>\n",
       "      <td>4.1\\n(25.4k Reviews)</td>\n",
       "    </tr>\n",
       "    <tr>\n",
       "      <th>5</th>\n",
       "      <td>Ericsson</td>\n",
       "      <td>11-50 Employees (India)</td>\n",
       "      <td>4.3\\n(4.6k Reviews)</td>\n",
       "    </tr>\n",
       "    <tr>\n",
       "      <th>6</th>\n",
       "      <td>Tech Mahindra</td>\n",
       "      <td>Public</td>\n",
       "      <td>3.7\\n(17.3k Reviews)</td>\n",
       "    </tr>\n",
       "    <tr>\n",
       "      <th>7</th>\n",
       "      <td>Capgemini</td>\n",
       "      <td>Armonk,New York + 105 more</td>\n",
       "      <td>3.9\\n(18.6k Reviews)</td>\n",
       "    </tr>\n",
       "    <tr>\n",
       "      <th>8</th>\n",
       "      <td>Wipro</td>\n",
       "      <td>111 years old</td>\n",
       "      <td>3.9\\n(21.7k Reviews)</td>\n",
       "    </tr>\n",
       "    <tr>\n",
       "      <th>9</th>\n",
       "      <td>HCL Technologies</td>\n",
       "      <td>1 Lakh+ Employees (India)</td>\n",
       "      <td>3.8\\n(18.4k Reviews)</td>\n",
       "    </tr>\n",
       "  </tbody>\n",
       "</table>\n",
       "</div>"
      ],
      "text/plain": [
       "       company_name                   Descriptions                Rating\n",
       "0               TCS                         Public  3.9\\n(37.6k Reviews)\n",
       "1  Glorious Insight  Mumbai,Maharashtra + 233 more    5.0\\n(413 Reviews)\n",
       "2               IBM                   54 years old  4.1\\n(12.9k Reviews)\n",
       "3         Cognizant      1 Lakh+ Employees (India)  3.9\\n(23.2k Reviews)\n",
       "4         Accenture                          Noida  4.1\\n(25.4k Reviews)\n",
       "5          Ericsson        11-50 Employees (India)   4.3\\n(4.6k Reviews)\n",
       "6     Tech Mahindra                         Public  3.7\\n(17.3k Reviews)\n",
       "7         Capgemini     Armonk,New York + 105 more  3.9\\n(18.6k Reviews)\n",
       "8             Wipro                  111 years old  3.9\\n(21.7k Reviews)\n",
       "9  HCL Technologies      1 Lakh+ Employees (India)  3.8\\n(18.4k Reviews)"
      ]
     },
     "execution_count": 169,
     "metadata": {},
     "output_type": "execute_result"
    }
   ],
   "source": [
    "company"
   ]
  },
  {
   "cell_type": "raw",
   "id": "3a2f573d",
   "metadata": {},
   "source": [
    "10)Write a python program to scrape the salary data for Data Scientist designation.\n",
    "You have to scrape Company name, Number of salaries, Average salary, Minsalary, Max Salary.\n",
    "The above task will be, done as shown in the below steps:\n",
    "1. First get the webpage https://www.ambitionbox.com/\n"
   ]
  },
  {
   "cell_type": "code",
   "execution_count": 170,
   "id": "4aca86fc",
   "metadata": {},
   "outputs": [
    {
     "name": "stdout",
     "output_type": "stream",
     "text": [
      "Requirement already satisfied: selenium in c:\\users\\ashik\\anaconda3\\lib\\site-packages (4.1.3)\n",
      "Requirement already satisfied: trio~=0.17 in c:\\users\\ashik\\anaconda3\\lib\\site-packages (from selenium) (0.20.0)\n",
      "Requirement already satisfied: urllib3[secure,socks]~=1.26 in c:\\users\\ashik\\anaconda3\\lib\\site-packages (from selenium) (1.26.4)\n",
      "Requirement already satisfied: trio-websocket~=0.9 in c:\\users\\ashik\\anaconda3\\lib\\site-packages (from selenium) (0.9.2)\n",
      "Requirement already satisfied: outcome in c:\\users\\ashik\\anaconda3\\lib\\site-packages (from trio~=0.17->selenium) (1.1.0)\n",
      "Requirement already satisfied: idna in c:\\users\\ashik\\anaconda3\\lib\\site-packages (from trio~=0.17->selenium) (2.10)\n",
      "Requirement already satisfied: async-generator>=1.9 in c:\\users\\ashik\\anaconda3\\lib\\site-packages (from trio~=0.17->selenium) (1.10)\n",
      "Requirement already satisfied: sortedcontainers in c:\\users\\ashik\\anaconda3\\lib\\site-packages (from trio~=0.17->selenium) (2.3.0)\n",
      "Requirement already satisfied: sniffio in c:\\users\\ashik\\anaconda3\\lib\\site-packages (from trio~=0.17->selenium) (1.2.0)\n",
      "Requirement already satisfied: cffi>=1.14 in c:\\users\\ashik\\anaconda3\\lib\\site-packages (from trio~=0.17->selenium) (1.14.5)\n",
      "Requirement already satisfied: attrs>=19.2.0 in c:\\users\\ashik\\anaconda3\\lib\\site-packages (from trio~=0.17->selenium) (20.3.0)\n",
      "Requirement already satisfied: pycparser in c:\\users\\ashik\\anaconda3\\lib\\site-packages (from cffi>=1.14->trio~=0.17->selenium) (2.20)\n",
      "Requirement already satisfied: wsproto>=0.14 in c:\\users\\ashik\\anaconda3\\lib\\site-packages (from trio-websocket~=0.9->selenium) (1.1.0)\n",
      "Requirement already satisfied: PySocks!=1.5.7,<2.0,>=1.5.6 in c:\\users\\ashik\\anaconda3\\lib\\site-packages (from urllib3[secure,socks]~=1.26->selenium) (1.7.1)\n",
      "Requirement already satisfied: cryptography>=1.3.4 in c:\\users\\ashik\\anaconda3\\lib\\site-packages (from urllib3[secure,socks]~=1.26->selenium) (3.4.7)\n",
      "Requirement already satisfied: certifi in c:\\users\\ashik\\anaconda3\\lib\\site-packages (from urllib3[secure,socks]~=1.26->selenium) (2020.12.5)\n",
      "Requirement already satisfied: pyOpenSSL>=0.14 in c:\\users\\ashik\\anaconda3\\lib\\site-packages (from urllib3[secure,socks]~=1.26->selenium) (20.0.1)\n",
      "Requirement already satisfied: six>=1.5.2 in c:\\users\\ashik\\anaconda3\\lib\\site-packages (from pyOpenSSL>=0.14->urllib3[secure,socks]~=1.26->selenium) (1.15.0)\n",
      "Requirement already satisfied: h11<1,>=0.9.0 in c:\\users\\ashik\\anaconda3\\lib\\site-packages (from wsproto>=0.14->trio-websocket~=0.9->selenium) (0.13.0)\n"
     ]
    }
   ],
   "source": [
    "!pip install selenium"
   ]
  },
  {
   "cell_type": "code",
   "execution_count": 171,
   "id": "6d84c6c1",
   "metadata": {},
   "outputs": [],
   "source": [
    "import selenium\n",
    "import pandas as pd\n",
    "from selenium import webdriver\n",
    "import warnings\n",
    "warnings.filterwarnings(\"ignore\")\n",
    "import time"
   ]
  },
  {
   "cell_type": "code",
   "execution_count": 172,
   "id": "a449c707",
   "metadata": {},
   "outputs": [],
   "source": [
    "driver=webdriver.Chrome(r'E:\\Downloads\\chromedriver_win32 (1)\\chromedriver.exe')"
   ]
  },
  {
   "cell_type": "code",
   "execution_count": 173,
   "id": "148d86da",
   "metadata": {},
   "outputs": [],
   "source": [
    "driver=webdriver.Chrome(\"chromedriver.exe\")\n",
    "time.sleep(1)"
   ]
  },
  {
   "cell_type": "code",
   "execution_count": 174,
   "id": "95c39a53",
   "metadata": {},
   "outputs": [],
   "source": [
    "driver.get('https://www.ambitionbox.com/profile/data-scientist-salary')"
   ]
  },
  {
   "cell_type": "code",
   "execution_count": 175,
   "id": "dd57a253",
   "metadata": {},
   "outputs": [],
   "source": [
    "url='https://www.ambitionbox.com/profile/data-scientist-salary'"
   ]
  },
  {
   "cell_type": "code",
   "execution_count": 176,
   "id": "1bda160e",
   "metadata": {},
   "outputs": [],
   "source": [
    "companyname=[]\n",
    "totalsalary=[]\n",
    "avgsalary=[]\n",
    "minsalary=[]"
   ]
  },
  {
   "cell_type": "code",
   "execution_count": 177,
   "id": "27dc7bb2",
   "metadata": {},
   "outputs": [
    {
     "data": {
      "text/plain": [
       "[<selenium.webdriver.remote.webelement.WebElement (session=\"573840ff7108477c95640e14143ff995\", element=\"3e64cc4b-5ee4-493b-aecf-fcfb99300fa9\")>,\n",
       " <selenium.webdriver.remote.webelement.WebElement (session=\"573840ff7108477c95640e14143ff995\", element=\"508cbd29-d3f0-4a71-9b14-015c6bb80334\")>,\n",
       " <selenium.webdriver.remote.webelement.WebElement (session=\"573840ff7108477c95640e14143ff995\", element=\"80e0a8bb-11e0-47c2-a3af-ad3b8db3078c\")>,\n",
       " <selenium.webdriver.remote.webelement.WebElement (session=\"573840ff7108477c95640e14143ff995\", element=\"0b9b4687-93ac-49a0-be3e-fd440d10435d\")>]"
      ]
     },
     "execution_count": 177,
     "metadata": {},
     "output_type": "execute_result"
    }
   ],
   "source": [
    "companyname_tags=driver.find_elements_by_xpath(\"//div[@class='name']\")\n",
    "companyname_tags[0:4]"
   ]
  },
  {
   "cell_type": "code",
   "execution_count": 179,
   "id": "882a4fd6",
   "metadata": {},
   "outputs": [
    {
     "data": {
      "text/plain": [
       "['TCS\\n(779 Salaries)',\n",
       " 'Accenture\\n(463 Salaries)',\n",
       " 'IBM\\n(375 Salaries)',\n",
       " 'Cognizant\\n(301 Salaries)']"
      ]
     },
     "execution_count": 179,
     "metadata": {},
     "output_type": "execute_result"
    }
   ],
   "source": [
    "for i in companyname_tags:\n",
    "    title=i.text\n",
    "    companyname.append(title)\n",
    "companyname[0:4]"
   ]
  },
  {
   "cell_type": "code",
   "execution_count": 180,
   "id": "7f6e3bde",
   "metadata": {},
   "outputs": [
    {
     "data": {
      "text/plain": [
       "[<selenium.webdriver.remote.webelement.WebElement (session=\"573840ff7108477c95640e14143ff995\", element=\"f4c2f19a-a345-4889-9f92-cf85e47f19fb\")>,\n",
       " <selenium.webdriver.remote.webelement.WebElement (session=\"573840ff7108477c95640e14143ff995\", element=\"b2d560eb-af0e-41f8-8633-ca514ad0ce8c\")>,\n",
       " <selenium.webdriver.remote.webelement.WebElement (session=\"573840ff7108477c95640e14143ff995\", element=\"075e3288-98a6-44ac-a433-f4ed91a53b50\")>,\n",
       " <selenium.webdriver.remote.webelement.WebElement (session=\"573840ff7108477c95640e14143ff995\", element=\"c0ba0d27-94c1-4ebc-97b7-2f02c737de7b\")>]"
      ]
     },
     "execution_count": 180,
     "metadata": {},
     "output_type": "execute_result"
    }
   ],
   "source": [
    "totalsal_tags=driver.find_elements_by_xpath(\"//div[@class='value body-medium']\")\n",
    "totalsal_tags[0:4]"
   ]
  },
  {
   "cell_type": "code",
   "execution_count": 181,
   "id": "757c7d8e",
   "metadata": {},
   "outputs": [
    {
     "data": {
      "text/plain": [
       "['₹ 3.0L', '₹ 16.0L', '₹ 9.3L', '₹ 41.9L']"
      ]
     },
     "execution_count": 181,
     "metadata": {},
     "output_type": "execute_result"
    }
   ],
   "source": [
    "for i in totalsal_tags:\n",
    "    title=i.text\n",
    "    totalsalary.append(title)\n",
    "totalsalary[0:4]"
   ]
  },
  {
   "cell_type": "code",
   "execution_count": 191,
   "id": "86afe63f",
   "metadata": {},
   "outputs": [
    {
     "data": {
      "text/plain": [
       "[<selenium.webdriver.remote.webelement.WebElement (session=\"573840ff7108477c95640e14143ff995\", element=\"f3ab20e8-c8f3-4ce5-9c52-4e9968900613\")>,\n",
       " <selenium.webdriver.remote.webelement.WebElement (session=\"573840ff7108477c95640e14143ff995\", element=\"8aab2ffe-b22a-4d51-be7b-5832b30f6bd2\")>,\n",
       " <selenium.webdriver.remote.webelement.WebElement (session=\"573840ff7108477c95640e14143ff995\", element=\"283fd920-3f70-494f-98f4-880fd29240dd\")>,\n",
       " <selenium.webdriver.remote.webelement.WebElement (session=\"573840ff7108477c95640e14143ff995\", element=\"9e392ed4-037a-4326-ba33-09423649386b\")>]"
      ]
     },
     "execution_count": 191,
     "metadata": {},
     "output_type": "execute_result"
    }
   ],
   "source": [
    "avgsal_tags=driver.find_elements_by_xpath(\"//p[@class='averageCtc']\")\n",
    "avgsal_tags[0:4]"
   ]
  },
  {
   "cell_type": "code",
   "execution_count": 192,
   "id": "1a17aa74",
   "metadata": {},
   "outputs": [
    {
     "data": {
      "text/plain": [
       "['₹ 7.1L', '₹ 20.1L', '₹ 7.0L', '']"
      ]
     },
     "execution_count": 192,
     "metadata": {},
     "output_type": "execute_result"
    }
   ],
   "source": [
    "for i in avgsal_tags:\n",
    "    title=i.text\n",
    "    avgsalary.append(title)\n",
    "avgsalary[0:4]"
   ]
  },
  {
   "cell_type": "code",
   "execution_count": 194,
   "id": "ce37c89e",
   "metadata": {},
   "outputs": [
    {
     "data": {
      "text/plain": [
       "[<selenium.webdriver.remote.webelement.WebElement (session=\"573840ff7108477c95640e14143ff995\", element=\"82600c65-5273-49f6-b097-c12daf9540eb\")>,\n",
       " <selenium.webdriver.remote.webelement.WebElement (session=\"573840ff7108477c95640e14143ff995\", element=\"d858ffc9-45d5-44d7-b168-580ac440ce1e\")>,\n",
       " <selenium.webdriver.remote.webelement.WebElement (session=\"573840ff7108477c95640e14143ff995\", element=\"9793b9e3-4133-446b-9cc5-4c352b173dde\")>,\n",
       " <selenium.webdriver.remote.webelement.WebElement (session=\"573840ff7108477c95640e14143ff995\", element=\"b4cd8325-b4b0-41bf-84d9-fbfc760962c4\")>]"
      ]
     },
     "execution_count": 194,
     "metadata": {},
     "output_type": "execute_result"
    }
   ],
   "source": [
    "minsal_tags=driver.find_elements_by_xpath(\"//div[@class='value body-medium']\")\n",
    "minsal_tags[0:4]"
   ]
  },
  {
   "cell_type": "code",
   "execution_count": 196,
   "id": "7a0f4a37",
   "metadata": {},
   "outputs": [
    {
     "data": {
      "text/plain": [
       "['₹ 3.0L', '₹ 16.0L', '₹ 9.3L', '₹ 41.9L']"
      ]
     },
     "execution_count": 196,
     "metadata": {},
     "output_type": "execute_result"
    }
   ],
   "source": [
    "for i in minsal_tags:\n",
    "    title=i.text\n",
    "    minsalary.append(title)\n",
    "minsalary[0:4]"
   ]
  },
  {
   "cell_type": "code",
   "execution_count": 199,
   "id": "095b110a",
   "metadata": {},
   "outputs": [
    {
     "name": "stdout",
     "output_type": "stream",
     "text": [
      "10 10 10 10\n"
     ]
    }
   ],
   "source": [
    "print(len(companyname[0:10]),len(totalsalary[0:10]),len(minsalary[:10]),len(avgsalary[0:10]))"
   ]
  },
  {
   "cell_type": "code",
   "execution_count": 202,
   "id": "c19e5324",
   "metadata": {},
   "outputs": [],
   "source": [
    "companies=pd.DataFrame({})\n",
    "companies['company_name']=companyname[:10]\n",
    "companies['TODAY_SALARY']=totalsalary[:10]\n",
    "companies['MIN_SALARY']=minsalary[:10]\n",
    "companies['VEG_SALARY']=avgsalary[:10]\n"
   ]
  },
  {
   "cell_type": "code",
   "execution_count": 203,
   "id": "21d70a4d",
   "metadata": {},
   "outputs": [
    {
     "data": {
      "text/html": [
       "<div>\n",
       "<style scoped>\n",
       "    .dataframe tbody tr th:only-of-type {\n",
       "        vertical-align: middle;\n",
       "    }\n",
       "\n",
       "    .dataframe tbody tr th {\n",
       "        vertical-align: top;\n",
       "    }\n",
       "\n",
       "    .dataframe thead th {\n",
       "        text-align: right;\n",
       "    }\n",
       "</style>\n",
       "<table border=\"1\" class=\"dataframe\">\n",
       "  <thead>\n",
       "    <tr style=\"text-align: right;\">\n",
       "      <th></th>\n",
       "      <th>company_name</th>\n",
       "      <th>TODAY_SALARY</th>\n",
       "      <th>MIN_SALARY</th>\n",
       "      <th>VEG_SALARY</th>\n",
       "    </tr>\n",
       "  </thead>\n",
       "  <tbody>\n",
       "    <tr>\n",
       "      <th>0</th>\n",
       "      <td>TCS\\n(779 Salaries)</td>\n",
       "      <td>₹ 3.0L</td>\n",
       "      <td>₹ 3.0L</td>\n",
       "      <td>₹ 7.1L</td>\n",
       "    </tr>\n",
       "    <tr>\n",
       "      <th>1</th>\n",
       "      <td>Accenture\\n(463 Salaries)</td>\n",
       "      <td>₹ 16.0L</td>\n",
       "      <td>₹ 16.0L</td>\n",
       "      <td>₹ 20.1L</td>\n",
       "    </tr>\n",
       "    <tr>\n",
       "      <th>2</th>\n",
       "      <td>IBM\\n(375 Salaries)</td>\n",
       "      <td>₹ 9.3L</td>\n",
       "      <td>₹ 9.3L</td>\n",
       "      <td>₹ 7.0L</td>\n",
       "    </tr>\n",
       "    <tr>\n",
       "      <th>3</th>\n",
       "      <td>Cognizant\\n(301 Salaries)</td>\n",
       "      <td>₹ 41.9L</td>\n",
       "      <td>₹ 41.9L</td>\n",
       "      <td></td>\n",
       "    </tr>\n",
       "    <tr>\n",
       "      <th>4</th>\n",
       "      <td>Capgemini\\n(292 Salaries)</td>\n",
       "      <td>₹ 3.0L</td>\n",
       "      <td>₹ 3.0L</td>\n",
       "      <td></td>\n",
       "    </tr>\n",
       "    <tr>\n",
       "      <th>5</th>\n",
       "      <td>Infosys\\n(219 Salaries)</td>\n",
       "      <td>₹ 19.2L</td>\n",
       "      <td>₹ 19.2L</td>\n",
       "      <td></td>\n",
       "    </tr>\n",
       "    <tr>\n",
       "      <th>6</th>\n",
       "      <td>Tech Mahindra\\n(214 Salaries)</td>\n",
       "      <td></td>\n",
       "      <td></td>\n",
       "      <td></td>\n",
       "    </tr>\n",
       "    <tr>\n",
       "      <th>7</th>\n",
       "      <td>Wipro\\n(212 Salaries)</td>\n",
       "      <td></td>\n",
       "      <td></td>\n",
       "      <td></td>\n",
       "    </tr>\n",
       "    <tr>\n",
       "      <th>8</th>\n",
       "      <td>Deloitte\\n(157 Salaries)</td>\n",
       "      <td></td>\n",
       "      <td></td>\n",
       "      <td></td>\n",
       "    </tr>\n",
       "    <tr>\n",
       "      <th>9</th>\n",
       "      <td>Fractal Analytics\\n(148 Salaries)</td>\n",
       "      <td></td>\n",
       "      <td></td>\n",
       "      <td>₹ 7.7L</td>\n",
       "    </tr>\n",
       "  </tbody>\n",
       "</table>\n",
       "</div>"
      ],
      "text/plain": [
       "                        company_name TODAY_SALARY MIN_SALARY VEG_SALARY\n",
       "0                TCS\\n(779 Salaries)       ₹ 3.0L     ₹ 3.0L     ₹ 7.1L\n",
       "1          Accenture\\n(463 Salaries)      ₹ 16.0L    ₹ 16.0L    ₹ 20.1L\n",
       "2                IBM\\n(375 Salaries)       ₹ 9.3L     ₹ 9.3L     ₹ 7.0L\n",
       "3          Cognizant\\n(301 Salaries)      ₹ 41.9L    ₹ 41.9L           \n",
       "4          Capgemini\\n(292 Salaries)       ₹ 3.0L     ₹ 3.0L           \n",
       "5            Infosys\\n(219 Salaries)      ₹ 19.2L    ₹ 19.2L           \n",
       "6      Tech Mahindra\\n(214 Salaries)                                   \n",
       "7              Wipro\\n(212 Salaries)                                   \n",
       "8           Deloitte\\n(157 Salaries)                                   \n",
       "9  Fractal Analytics\\n(148 Salaries)                             ₹ 7.7L"
      ]
     },
     "execution_count": 203,
     "metadata": {},
     "output_type": "execute_result"
    }
   ],
   "source": [
    "companies"
   ]
  },
  {
   "cell_type": "code",
   "execution_count": null,
   "id": "d642d3e2",
   "metadata": {},
   "outputs": [],
   "source": []
  },
  {
   "cell_type": "markdown",
   "id": "cebca608",
   "metadata": {},
   "source": [
    "# THE END"
   ]
  },
  {
   "cell_type": "code",
   "execution_count": null,
   "id": "76d3fcbe",
   "metadata": {},
   "outputs": [],
   "source": []
  }
 ],
 "metadata": {
  "kernelspec": {
   "display_name": "Python 3",
   "language": "python",
   "name": "python3"
  },
  "language_info": {
   "codemirror_mode": {
    "name": "ipython",
    "version": 3
   },
   "file_extension": ".py",
   "mimetype": "text/x-python",
   "name": "python",
   "nbconvert_exporter": "python",
   "pygments_lexer": "ipython3",
   "version": "3.8.8"
  }
 },
 "nbformat": 4,
 "nbformat_minor": 5
}
